{
 "cells": [
  {
   "cell_type": "code",
   "execution_count": 111,
   "metadata": {},
   "outputs": [
    {
     "name": "stdout",
     "output_type": "stream",
     "text": [
      "Antonia \n",
      "\n",
      "Rene \n",
      "\n",
      "Antonia \n",
      "\n",
      "ArjunStefan \n",
      "\n",
      "Fariha \n",
      "\n",
      "Killian \n",
      "\n",
      "Konstantine \n",
      "\n",
      "Mohammad \n",
      "\n",
      "Rene \n",
      "\n"
     ]
    }
   ],
   "source": [
    "#Exercise 6 | Sorting class names\n",
    "class_list = ['Antonia', 'Fariha', 'Konstantine', 'Mohammad', 'Rene', 'Killian', 'Arjun' 'Stefan']\n",
    "class_list.sort()\n",
    "print(class_list[0],'\\n')\n",
    "print(class_list[-1],'\\n')\n",
    "for name in class_list:\n",
    "    print(name,'\\n')"
   ]
  },
  {
   "cell_type": "code",
   "execution_count": null,
   "metadata": {},
   "outputs": [],
   "source": [
    "#Exercise 7 | finding the even numbered ages\n",
    "from datetime import date\n",
    "year_list = [1979, 1989, 1985, 2000, 1993, 1990, 1994, 1965]\n",
    "today = date.today()\n",
    "curret_year = today.year\n",
    "year_list.sort()\n",
    "year_list.reverse()\n",
    "\n",
    "for year in year_list:\n",
    "    age = curret_year - year \n",
    "    if age %2 == 0:\n",
    "        print(age)\n",
    "\n"
   ]
  },
  {
   "cell_type": "code",
   "execution_count": 112,
   "metadata": {},
   "outputs": [
    {
     "name": "stdout",
     "output_type": "stream",
     "text": [
      "The min age is 9\n",
      "The Max age is 55\n"
     ]
    }
   ],
   "source": [
    "#Exercise 8 & 9 | Finding the Min and Max\n",
    "number_list = [20, 24, 14, 9, 12, 13, 25, 23, 40, 11, 55]\n",
    "x = min(number_list)\n",
    "z = max(number_list)\n",
    "\n",
    "print('The min age is', x,)\n",
    "print('The Max age is', z)\n"
   ]
  },
  {
   "cell_type": "code",
   "execution_count": 209,
   "metadata": {},
   "outputs": [
    {
     "name": "stdout",
     "output_type": "stream",
     "text": [
      "The age of customer 1 is 24 \n",
      "\n",
      "The age of customer 2 is 28 \n",
      "\n",
      "The age of customer 3 is 18 \n",
      "\n",
      "The age of customer 4 is 13 \n",
      "\n",
      "The age of customer 5 is 16 \n",
      "\n",
      "The age of customer 6 is 17 \n",
      "\n",
      "The age of customer 7 is 29 \n",
      "\n",
      "The age of customer 8 is 27 \n",
      "\n",
      "The age of customer 9 is 44 \n",
      "\n",
      "The age of customer 10 is 15 \n",
      "\n"
     ]
    }
   ],
   "source": [
    "#Exercise 10 | Finding the age of customers\n",
    "customer_yob = [1999, 1995, 2005, 2010, 2007, 2006, 1994, 1996, 1979, 2008]\n",
    "curret_year = 2023\n",
    "\n",
    "def age_finder():\n",
    "    for year in customer_yob:\n",
    "        print(\"The age of customer\", customer_yob.index(year) +1, \"is\" , curret_year - year, \"\\n\")\n",
    "\n",
    "age_finder()\n"
   ]
  },
  {
   "cell_type": "code",
   "execution_count": 262,
   "metadata": {},
   "outputs": [
    {
     "name": "stdout",
     "output_type": "stream",
     "text": [
      "Bob is 24 years old.\n",
      "\n",
      "Jack is 28 years old.\n",
      "\n",
      "Lisa is 18 years old.\n",
      "\n",
      "Maria is 13 years old.\n",
      "\n",
      "Ben is 16 years old.\n",
      "\n",
      "Emma is 17 years old.\n",
      "\n",
      "Oscar is 29 years old.\n",
      "\n",
      "Amy is 27 years old.\n",
      "\n",
      "Paul is 44 years old.\n",
      "\n",
      "Etta is 15 years old.\n",
      "\n"
     ]
    }
   ],
   "source": [
    "#Exercise 11 | Customers age\n",
    "from datetime import date\n",
    "customer_list = [\n",
    "                    {\"name\": \"Bob\", \"age\": 1999},\n",
    "                    {\"name\": \"Jack\", \"age\": 1995},\n",
    "                    {\"name\": \"Lisa\", \"age\": 2005},\n",
    "                    {\"name\": \"Maria\", \"age\": 2010},\n",
    "                    {\"name\": \"Ben\", \"age\": 2007},\n",
    "                    {\"name\": \"Emma\", \"age\": 2006},\n",
    "                    {\"name\": \"Oscar\", \"age\": 1994},\n",
    "                    {\"name\": \"Amy\", \"age\": 1996},\n",
    "                    {\"name\": \"Paul\", \"age\": 1979},\n",
    "                    {\"name\": \"Etta\", \"age\": 2008}\n",
    "                ]\n",
    "today = date.today()\n",
    "curret_year = today.year\n",
    "\n",
    "\n",
    "    #don't touch\n",
    "def customer_age():\n",
    "    for key in customer_list:\n",
    "        print(key['name'], \"is\" , curret_year - key['age'], 'years old.' \"\\n\")\n",
    "\n",
    "customer_age()\n"
   ]
  },
  {
   "cell_type": "code",
   "execution_count": 240,
   "metadata": {},
   "outputs": [
    {
     "name": "stdout",
     "output_type": "stream",
     "text": [
      "[15, 13, 66, 58, 19, 70, 92, 7, 13, 15, 20, 19, 18, 10, 16]\n"
     ]
    },
    {
     "data": {
      "text/plain": [
       "[15, 13, 19]"
      ]
     },
     "execution_count": 240,
     "metadata": {},
     "output_type": "execute_result"
    }
   ],
   "source": [
    "#Exercise 13 | Finding the common ages\n",
    "a = berlin = [15, 13, 66, 58, 19, 70, 92 ]\n",
    "b = munich = [7, 13, 15, 20, 19, 18, 10, 16]\n",
    "\n",
    "    #how to combine the lists\n",
    "c = berlin + munich\n",
    "print(c)\n",
    "\n",
    "    #two methods\n",
    "[x for x in a if x in b]"
   ]
  },
  {
   "cell_type": "code",
   "execution_count": 245,
   "metadata": {},
   "outputs": [
    {
     "name": "stdout",
     "output_type": "stream",
     "text": [
      "{48, 36, 23, 59, 60, 15}\n",
      "[15, 23, 36, 48, 59, 60]\n"
     ]
    }
   ],
   "source": [
    "# Exercise 14 | Remove the duplicates\n",
    "age = [15,23,36,48,59,15,60]\n",
    "\n",
    "    #fastest way is just change the list into a set\n",
    "age_set = {15,23,36,48,59,15,60}\n",
    "print(age_set)\n",
    "\n",
    "    #the cleamer way\n",
    "def duplicate_remover():\n",
    "    mylist = [15,23,36,48,59,15,60]\n",
    "    mylist = list(dict.fromkeys(mylist))\n",
    "    mylist.sort()\n",
    "    print(mylist)\n",
    "\n",
    "duplicate_remover()"
   ]
  },
  {
   "cell_type": "code",
   "execution_count": 3,
   "metadata": {},
   "outputs": [
    {
     "name": "stdout",
     "output_type": "stream",
     "text": [
      "Welcome Henk, have a nice day!\n"
     ]
    }
   ],
   "source": [
    "#Exercise 15 | Personal welcome message\n",
    "def Welcome():\n",
    "    x = input(\"Insert Name:\")\n",
    "    print(f'Welcome {x}, have a nice day!')\n",
    "\n",
    "Welcome()"
   ]
  },
  {
   "cell_type": "code",
   "execution_count": 6,
   "metadata": {},
   "outputs": [
    {
     "name": "stdout",
     "output_type": "stream",
     "text": [
      "The word \"Apple\" is 5 characters long.\n"
     ]
    }
   ],
   "source": [
    "#Exercise 16 | String counter function\n",
    "def get_lenght():\n",
    "    x = input('Insert Word:')\n",
    "    print(f'The word \"{x}\" is {len(x)} characters long.')\n",
    "\n",
    "get_lenght()"
   ]
  },
  {
   "cell_type": "code",
   "execution_count": 1,
   "metadata": {},
   "outputs": [
    {
     "name": "stdout",
     "output_type": "stream",
     "text": [
      "15 is an odd number.\n"
     ]
    }
   ],
   "source": [
    "#Exercise 17 | Even checker\n",
    "def Even_checker():\n",
    "    x = int(input(\"Enter a number: \"))\n",
    "    mod = x % 2\n",
    "    if mod > 0:\n",
    "        print(x, \"is an odd number.\")\n",
    "    else:\n",
    "        print(x, \"is an even number.\")\n",
    "\n",
    "Even_checker()"
   ]
  },
  {
   "cell_type": "code",
   "execution_count": null,
   "metadata": {},
   "outputs": [],
   "source": [
    "#Exercise 18 | Convert previous exercises to functions"
   ]
  },
  {
   "cell_type": "code",
   "execution_count": 2,
   "metadata": {},
   "outputs": [
    {
     "name": "stdout",
     "output_type": "stream",
     "text": [
      "True\n"
     ]
    }
   ],
   "source": [
    "# Exercise 19 | Check if age is in list\n",
    "ages = [20, 24, 14, 9, 12, 13, 25, 23, 40, 11]\n",
    "\n",
    "x = int(input())\n",
    "\n",
    "def age_checker(ages, age: int):\n",
    "        return (age in ages)\n",
    "    \n",
    "print(age_checker(ages, x))\n",
    "\n"
   ]
  }
 ],
 "metadata": {
  "kernelspec": {
   "display_name": "base",
   "language": "python",
   "name": "python3"
  },
  "language_info": {
   "codemirror_mode": {
    "name": "ipython",
    "version": 3
   },
   "file_extension": ".py",
   "mimetype": "text/x-python",
   "name": "python",
   "nbconvert_exporter": "python",
   "pygments_lexer": "ipython3",
   "version": "3.9.13"
  },
  "orig_nbformat": 4,
  "vscode": {
   "interpreter": {
    "hash": "88b75450182d6b070b1f43a42e975dbe9eb76cfef497b1218ec66ccf28187bdd"
   }
  }
 },
 "nbformat": 4,
 "nbformat_minor": 2
}
