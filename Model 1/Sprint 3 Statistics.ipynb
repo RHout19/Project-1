{
 "cells": [
  {
   "cell_type": "code",
   "execution_count": 1,
   "metadata": {},
   "outputs": [],
   "source": [
    "#Import numpy\n",
    "import numpy as np"
   ]
  },
  {
   "cell_type": "code",
   "execution_count": 8,
   "metadata": {},
   "outputs": [
    {
     "name": "stdout",
     "output_type": "stream",
     "text": [
      "[-4.800000000000001, -0.8000000000000007, 3.1999999999999993, 11.2, -8.8]\n",
      "Standard deviation: 6.881860213634101\n"
     ]
    }
   ],
   "source": [
    "#Exercise 1 manual\n",
    "data = [8, 12, 16, 24, 4]\n",
    "\n",
    "mean = sum(data) / len(data)\n",
    "\n",
    "deviations = [x - mean for x in data]\n",
    "squared_deviations = [d ** 2 for d in deviations]\n",
    "sum_squared_deviations = sum(squared_deviations)\n",
    "variance = sum_squared_deviations / len(data)\n",
    "\n",
    "std = variance ** 0.5\n",
    "print(\"Standard deviation:\", std)"
   ]
  },
  {
   "cell_type": "code",
   "execution_count": 2,
   "metadata": {},
   "outputs": [
    {
     "name": "stdout",
     "output_type": "stream",
     "text": [
      "Standard deviation: 6.881860213634101\n"
     ]
    }
   ],
   "source": [
    "#Exercise 1 automatic\n",
    "data = [8, 12, 16, 24, 4]\n",
    "\n",
    "std = np.std(data)\n",
    "\n",
    "print(\"Standard deviation:\", std)"
   ]
  },
  {
   "cell_type": "code",
   "execution_count": 17,
   "metadata": {},
   "outputs": [
    {
     "name": "stdout",
     "output_type": "stream",
     "text": [
      "Standard deviation: 11.925695879998877\n"
     ]
    }
   ],
   "source": [
    "#Exercise 2 Outlier added\n",
    "data = [8, 12, 16, 24, 4, 40]\n",
    "\n",
    "std = np.std(data)\n",
    "\n",
    "print(\"Standard deviation:\", std)"
   ]
  },
  {
   "cell_type": "code",
   "execution_count": 24,
   "metadata": {},
   "outputs": [
    {
     "data": {
      "text/plain": [
       "True"
      ]
     },
     "execution_count": 24,
     "metadata": {},
     "output_type": "execute_result"
    }
   ],
   "source": [
    "#A) Mean is greater than 30 = true\n",
    "#B) Mean is less than 30 = false\n",
    "#C) Mode is greater than 30 = false\n",
    "#D) Mode is less than 30 = true\n",
    "#E) Both A and D = True\n",
    "#F) Both B and C = False\n",
    "\n",
    "median = 30\n",
    "mean = 35\n",
    "\n",
    "bool(mean >= 30)"
   ]
  }
 ],
 "metadata": {
  "kernelspec": {
   "display_name": "base",
   "language": "python",
   "name": "python3"
  },
  "language_info": {
   "codemirror_mode": {
    "name": "ipython",
    "version": 3
   },
   "file_extension": ".py",
   "mimetype": "text/x-python",
   "name": "python",
   "nbconvert_exporter": "python",
   "pygments_lexer": "ipython3",
   "version": "3.9.13"
  },
  "orig_nbformat": 4,
  "vscode": {
   "interpreter": {
    "hash": "88b75450182d6b070b1f43a42e975dbe9eb76cfef497b1218ec66ccf28187bdd"
   }
  }
 },
 "nbformat": 4,
 "nbformat_minor": 2
}
