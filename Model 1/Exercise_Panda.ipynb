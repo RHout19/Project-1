{
 "cells": [
  {
   "cell_type": "code",
   "execution_count": 33,
   "metadata": {},
   "outputs": [],
   "source": [
    "import pandas as pd\n",
    "\n",
    "movies = pd.read_csv('Movies (clean).csv')\n",
    "\n",
    "mv = movies\n"
   ]
  },
  {
   "cell_type": "code",
   "execution_count": 17,
   "metadata": {},
   "outputs": [
    {
     "name": "stdout",
     "output_type": "stream",
     "text": [
      "Index(['MovieID', 'Title', 'MPAA Rating', 'Budget', 'Gross', 'Release Date',\n",
      "       'Genre', 'Runtime', 'Rating', 'Rating Count', 'Summary'],\n",
      "      dtype='object')\n"
     ]
    }
   ],
   "source": [
    "print(mv.columns)"
   ]
  },
  {
   "cell_type": "code",
   "execution_count": 11,
   "metadata": {},
   "outputs": [
    {
     "data": {
      "text/html": [
       "<div>\n",
       "<style scoped>\n",
       "    .dataframe tbody tr th:only-of-type {\n",
       "        vertical-align: middle;\n",
       "    }\n",
       "\n",
       "    .dataframe tbody tr th {\n",
       "        vertical-align: top;\n",
       "    }\n",
       "\n",
       "    .dataframe thead th {\n",
       "        text-align: right;\n",
       "    }\n",
       "</style>\n",
       "<table border=\"1\" class=\"dataframe\">\n",
       "  <thead>\n",
       "    <tr style=\"text-align: right;\">\n",
       "      <th></th>\n",
       "      <th>Title</th>\n",
       "      <th>MPAA Rating</th>\n",
       "    </tr>\n",
       "  </thead>\n",
       "  <tbody>\n",
       "    <tr>\n",
       "      <th>0</th>\n",
       "      <td>Look Who's Talking</td>\n",
       "      <td>PG-13</td>\n",
       "    </tr>\n",
       "    <tr>\n",
       "      <th>1</th>\n",
       "      <td>Driving Miss Daisy</td>\n",
       "      <td>PG</td>\n",
       "    </tr>\n",
       "    <tr>\n",
       "      <th>2</th>\n",
       "      <td>Turner &amp; Hooch</td>\n",
       "      <td>PG</td>\n",
       "    </tr>\n",
       "    <tr>\n",
       "      <th>3</th>\n",
       "      <td>Born on the Fourth of July</td>\n",
       "      <td>R</td>\n",
       "    </tr>\n",
       "    <tr>\n",
       "      <th>4</th>\n",
       "      <td>Field of Dreams</td>\n",
       "      <td>PG</td>\n",
       "    </tr>\n",
       "    <tr>\n",
       "      <th>5</th>\n",
       "      <td>Uncle Buck</td>\n",
       "      <td>PG</td>\n",
       "    </tr>\n",
       "    <tr>\n",
       "      <th>6</th>\n",
       "      <td>When Harry Met Sally...</td>\n",
       "      <td>R</td>\n",
       "    </tr>\n",
       "  </tbody>\n",
       "</table>\n",
       "</div>"
      ],
      "text/plain": [
       "                        Title MPAA Rating\n",
       "0          Look Who's Talking       PG-13\n",
       "1          Driving Miss Daisy          PG\n",
       "2              Turner & Hooch          PG\n",
       "3  Born on the Fourth of July           R\n",
       "4             Field of Dreams          PG\n",
       "5                  Uncle Buck          PG\n",
       "6     When Harry Met Sally...           R"
      ]
     },
     "execution_count": 11,
     "metadata": {},
     "output_type": "execute_result"
    }
   ],
   "source": [
    "mv.loc[0:6,[\"Title\",\"MPAA Rating\"]]\n"
   ]
  },
  {
   "cell_type": "code",
   "execution_count": 12,
   "metadata": {},
   "outputs": [
    {
     "data": {
      "text/html": [
       "<div>\n",
       "<style scoped>\n",
       "    .dataframe tbody tr th:only-of-type {\n",
       "        vertical-align: middle;\n",
       "    }\n",
       "\n",
       "    .dataframe tbody tr th {\n",
       "        vertical-align: top;\n",
       "    }\n",
       "\n",
       "    .dataframe thead th {\n",
       "        text-align: right;\n",
       "    }\n",
       "</style>\n",
       "<table border=\"1\" class=\"dataframe\">\n",
       "  <thead>\n",
       "    <tr style=\"text-align: right;\">\n",
       "      <th></th>\n",
       "      <th>MovieID</th>\n",
       "      <th>Title</th>\n",
       "      <th>MPAA Rating</th>\n",
       "      <th>Budget</th>\n",
       "      <th>Gross</th>\n",
       "      <th>Release Date</th>\n",
       "      <th>Genre</th>\n",
       "      <th>Runtime</th>\n",
       "      <th>Rating</th>\n",
       "      <th>Rating Count</th>\n",
       "      <th>Summary</th>\n",
       "    </tr>\n",
       "  </thead>\n",
       "  <tbody>\n",
       "    <tr>\n",
       "      <th>0</th>\n",
       "      <td>1</td>\n",
       "      <td>Look Who's Talking</td>\n",
       "      <td>PG-13</td>\n",
       "      <td>7500000</td>\n",
       "      <td>296000000</td>\n",
       "      <td>10/12/1989</td>\n",
       "      <td>Romance</td>\n",
       "      <td>93</td>\n",
       "      <td>5.9</td>\n",
       "      <td>73638.0</td>\n",
       "      <td>After a single, career-minded woman is left on...</td>\n",
       "    </tr>\n",
       "    <tr>\n",
       "      <th>1</th>\n",
       "      <td>2</td>\n",
       "      <td>Driving Miss Daisy</td>\n",
       "      <td>PG</td>\n",
       "      <td>7500000</td>\n",
       "      <td>145793296</td>\n",
       "      <td>12/13/1989</td>\n",
       "      <td>Comedy</td>\n",
       "      <td>99</td>\n",
       "      <td>7.4</td>\n",
       "      <td>91075.0</td>\n",
       "      <td>An old Jewish woman and her African-American c...</td>\n",
       "    </tr>\n",
       "    <tr>\n",
       "      <th>2</th>\n",
       "      <td>3</td>\n",
       "      <td>Turner &amp; Hooch</td>\n",
       "      <td>PG</td>\n",
       "      <td>13000000</td>\n",
       "      <td>71079915</td>\n",
       "      <td>7/28/1989</td>\n",
       "      <td>Crime</td>\n",
       "      <td>100</td>\n",
       "      <td>7.2</td>\n",
       "      <td>91415.0</td>\n",
       "      <td>Det. Scott Turner (Tom Hanks) is an uptight, b...</td>\n",
       "    </tr>\n",
       "  </tbody>\n",
       "</table>\n",
       "</div>"
      ],
      "text/plain": [
       "   MovieID               Title MPAA Rating    Budget      Gross Release Date  \\\n",
       "0        1  Look Who's Talking       PG-13   7500000  296000000   10/12/1989   \n",
       "1        2  Driving Miss Daisy          PG   7500000  145793296   12/13/1989   \n",
       "2        3      Turner & Hooch          PG  13000000   71079915    7/28/1989   \n",
       "\n",
       "     Genre  Runtime  Rating  Rating Count  \\\n",
       "0  Romance       93     5.9       73638.0   \n",
       "1   Comedy       99     7.4       91075.0   \n",
       "2    Crime      100     7.2       91415.0   \n",
       "\n",
       "                                             Summary  \n",
       "0  After a single, career-minded woman is left on...  \n",
       "1  An old Jewish woman and her African-American c...  \n",
       "2  Det. Scott Turner (Tom Hanks) is an uptight, b...  "
      ]
     },
     "execution_count": 12,
     "metadata": {},
     "output_type": "execute_result"
    }
   ],
   "source": [
    "mv[0:3]"
   ]
  },
  {
   "cell_type": "code",
   "execution_count": 15,
   "metadata": {},
   "outputs": [
    {
     "data": {
      "text/html": [
       "<div>\n",
       "<style scoped>\n",
       "    .dataframe tbody tr th:only-of-type {\n",
       "        vertical-align: middle;\n",
       "    }\n",
       "\n",
       "    .dataframe tbody tr th {\n",
       "        vertical-align: top;\n",
       "    }\n",
       "\n",
       "    .dataframe thead th {\n",
       "        text-align: right;\n",
       "    }\n",
       "</style>\n",
       "<table border=\"1\" class=\"dataframe\">\n",
       "  <thead>\n",
       "    <tr style=\"text-align: right;\">\n",
       "      <th></th>\n",
       "      <th>MovieID</th>\n",
       "      <th>MPAA Rating</th>\n",
       "    </tr>\n",
       "  </thead>\n",
       "  <tbody>\n",
       "    <tr>\n",
       "      <th>1</th>\n",
       "      <td>2</td>\n",
       "      <td>PG</td>\n",
       "    </tr>\n",
       "    <tr>\n",
       "      <th>2</th>\n",
       "      <td>3</td>\n",
       "      <td>PG</td>\n",
       "    </tr>\n",
       "  </tbody>\n",
       "</table>\n",
       "</div>"
      ],
      "text/plain": [
       "   MovieID MPAA Rating\n",
       "1        2          PG\n",
       "2        3          PG"
      ]
     },
     "metadata": {},
     "output_type": "display_data"
    }
   ],
   "source": [
    "display(mv.iloc[[1,2],[0,2]])"
   ]
  },
  {
   "cell_type": "code",
   "execution_count": 18,
   "metadata": {},
   "outputs": [
    {
     "data": {
      "text/plain": [
       "'MovieID'"
      ]
     },
     "metadata": {},
     "output_type": "display_data"
    },
    {
     "data": {
      "text/plain": [
       "'Title'"
      ]
     },
     "metadata": {},
     "output_type": "display_data"
    },
    {
     "data": {
      "text/plain": [
       "'MPAA Rating'"
      ]
     },
     "metadata": {},
     "output_type": "display_data"
    },
    {
     "data": {
      "text/plain": [
       "'Budget'"
      ]
     },
     "metadata": {},
     "output_type": "display_data"
    },
    {
     "data": {
      "text/plain": [
       "'Gross'"
      ]
     },
     "metadata": {},
     "output_type": "display_data"
    },
    {
     "data": {
      "text/plain": [
       "'Release Date'"
      ]
     },
     "metadata": {},
     "output_type": "display_data"
    },
    {
     "data": {
      "text/plain": [
       "'Genre'"
      ]
     },
     "metadata": {},
     "output_type": "display_data"
    },
    {
     "data": {
      "text/plain": [
       "'Runtime'"
      ]
     },
     "metadata": {},
     "output_type": "display_data"
    },
    {
     "data": {
      "text/plain": [
       "'Rating'"
      ]
     },
     "metadata": {},
     "output_type": "display_data"
    },
    {
     "data": {
      "text/plain": [
       "'Rating Count'"
      ]
     },
     "metadata": {},
     "output_type": "display_data"
    },
    {
     "data": {
      "text/plain": [
       "'Summary'"
      ]
     },
     "metadata": {},
     "output_type": "display_data"
    }
   ],
   "source": [
    "for x in mv:\n",
    "    display(x)"
   ]
  },
  {
   "cell_type": "code",
   "execution_count": 23,
   "metadata": {},
   "outputs": [
    {
     "data": {
      "text/html": [
       "<div>\n",
       "<style scoped>\n",
       "    .dataframe tbody tr th:only-of-type {\n",
       "        vertical-align: middle;\n",
       "    }\n",
       "\n",
       "    .dataframe tbody tr th {\n",
       "        vertical-align: top;\n",
       "    }\n",
       "\n",
       "    .dataframe thead th {\n",
       "        text-align: right;\n",
       "    }\n",
       "</style>\n",
       "<table border=\"1\" class=\"dataframe\">\n",
       "  <thead>\n",
       "    <tr style=\"text-align: right;\">\n",
       "      <th></th>\n",
       "      <th>MovieID</th>\n",
       "      <th>Title</th>\n",
       "      <th>MPAA Rating</th>\n",
       "      <th>Budget</th>\n",
       "      <th>Gross</th>\n",
       "      <th>Release Date</th>\n",
       "      <th>Genre</th>\n",
       "      <th>Runtime</th>\n",
       "      <th>Rating</th>\n",
       "      <th>Rating Count</th>\n",
       "      <th>Summary</th>\n",
       "    </tr>\n",
       "  </thead>\n",
       "  <tbody>\n",
       "    <tr>\n",
       "      <th>149</th>\n",
       "      <td>150</td>\n",
       "      <td>101 Dalmatians</td>\n",
       "      <td>G</td>\n",
       "      <td>54000000</td>\n",
       "      <td>320689294</td>\n",
       "      <td>11/17/1996</td>\n",
       "      <td>Comedy</td>\n",
       "      <td>103</td>\n",
       "      <td>5.7</td>\n",
       "      <td>94582.0</td>\n",
       "      <td>An evil high-fashion designer plots to steal D...</td>\n",
       "    </tr>\n",
       "    <tr>\n",
       "      <th>281</th>\n",
       "      <td>282</td>\n",
       "      <td>2 Fast 2 Furious</td>\n",
       "      <td>PG-13</td>\n",
       "      <td>76000000</td>\n",
       "      <td>236350661</td>\n",
       "      <td>6/5/2003</td>\n",
       "      <td>Thriller</td>\n",
       "      <td>107</td>\n",
       "      <td>5.9</td>\n",
       "      <td>236645.0</td>\n",
       "      <td>Former cop Brian OConner is called upon to bus...</td>\n",
       "    </tr>\n",
       "    <tr>\n",
       "      <th>413</th>\n",
       "      <td>414</td>\n",
       "      <td>2012</td>\n",
       "      <td>PG-13</td>\n",
       "      <td>200000000</td>\n",
       "      <td>769653595</td>\n",
       "      <td>10/10/2009</td>\n",
       "      <td>Adventure</td>\n",
       "      <td>158</td>\n",
       "      <td>4.3</td>\n",
       "      <td>28949.0</td>\n",
       "      <td>NaN</td>\n",
       "    </tr>\n",
       "    <tr>\n",
       "      <th>496</th>\n",
       "      <td>497</td>\n",
       "      <td>22 Jump Street</td>\n",
       "      <td>R</td>\n",
       "      <td>50000000</td>\n",
       "      <td>188441614</td>\n",
       "      <td>6/5/2014</td>\n",
       "      <td>Comedy</td>\n",
       "      <td>112</td>\n",
       "      <td>7.0</td>\n",
       "      <td>325958.0</td>\n",
       "      <td>After making their way through high school (tw...</td>\n",
       "    </tr>\n",
       "    <tr>\n",
       "      <th>359</th>\n",
       "      <td>360</td>\n",
       "      <td>300</td>\n",
       "      <td>R</td>\n",
       "      <td>60000000</td>\n",
       "      <td>454161935</td>\n",
       "      <td>3/9/2007</td>\n",
       "      <td>Action</td>\n",
       "      <td>155</td>\n",
       "      <td>8.1</td>\n",
       "      <td>681249.0</td>\n",
       "      <td>NaN</td>\n",
       "    </tr>\n",
       "  </tbody>\n",
       "</table>\n",
       "</div>"
      ],
      "text/plain": [
       "     MovieID             Title MPAA Rating     Budget      Gross Release Date  \\\n",
       "149      150    101 Dalmatians           G   54000000  320689294   11/17/1996   \n",
       "281      282  2 Fast 2 Furious       PG-13   76000000  236350661     6/5/2003   \n",
       "413      414              2012       PG-13  200000000  769653595   10/10/2009   \n",
       "496      497    22 Jump Street           R   50000000  188441614     6/5/2014   \n",
       "359      360               300           R   60000000  454161935     3/9/2007   \n",
       "\n",
       "         Genre  Runtime  Rating  Rating Count  \\\n",
       "149     Comedy      103     5.7       94582.0   \n",
       "281   Thriller      107     5.9      236645.0   \n",
       "413  Adventure      158     4.3       28949.0   \n",
       "496     Comedy      112     7.0      325958.0   \n",
       "359     Action      155     8.1      681249.0   \n",
       "\n",
       "                                               Summary  \n",
       "149  An evil high-fashion designer plots to steal D...  \n",
       "281  Former cop Brian OConner is called upon to bus...  \n",
       "413                                                NaN  \n",
       "496  After making their way through high school (tw...  \n",
       "359                                                NaN  "
      ]
     },
     "execution_count": 23,
     "metadata": {},
     "output_type": "execute_result"
    }
   ],
   "source": [
    "mv_sorted_Title = mv.sort_values(by=['Title'])\n",
    "mv_sorted_Title.head()"
   ]
  },
  {
   "cell_type": "code",
   "execution_count": 40,
   "metadata": {},
   "outputs": [
    {
     "data": {
      "text/html": [
       "<div>\n",
       "<style scoped>\n",
       "    .dataframe tbody tr th:only-of-type {\n",
       "        vertical-align: middle;\n",
       "    }\n",
       "\n",
       "    .dataframe tbody tr th {\n",
       "        vertical-align: top;\n",
       "    }\n",
       "\n",
       "    .dataframe thead th {\n",
       "        text-align: right;\n",
       "    }\n",
       "</style>\n",
       "<table border=\"1\" class=\"dataframe\">\n",
       "  <thead>\n",
       "    <tr style=\"text-align: right;\">\n",
       "      <th></th>\n",
       "      <th>MovieID</th>\n",
       "      <th>Title</th>\n",
       "      <th>MPAA Rating</th>\n",
       "      <th>Budget</th>\n",
       "      <th>Gross</th>\n",
       "      <th>Release Date</th>\n",
       "      <th>Genre</th>\n",
       "      <th>Runtime</th>\n",
       "      <th>Rating</th>\n",
       "      <th>Rating Count</th>\n",
       "      <th>Summary</th>\n",
       "    </tr>\n",
       "  </thead>\n",
       "  <tbody>\n",
       "    <tr>\n",
       "      <th>1</th>\n",
       "      <td>2</td>\n",
       "      <td>Driving Miss Daisy</td>\n",
       "      <td>PG</td>\n",
       "      <td>7500000</td>\n",
       "      <td>145793296</td>\n",
       "      <td>12/13/1989</td>\n",
       "      <td>Comedy</td>\n",
       "      <td>99</td>\n",
       "      <td>7.4</td>\n",
       "      <td>91075.0</td>\n",
       "      <td>An old Jewish woman and her African-American c...</td>\n",
       "    </tr>\n",
       "    <tr>\n",
       "      <th>2</th>\n",
       "      <td>3</td>\n",
       "      <td>Turner &amp; Hooch</td>\n",
       "      <td>PG</td>\n",
       "      <td>13000000</td>\n",
       "      <td>71079915</td>\n",
       "      <td>7/28/1989</td>\n",
       "      <td>Crime</td>\n",
       "      <td>100</td>\n",
       "      <td>7.2</td>\n",
       "      <td>91415.0</td>\n",
       "      <td>Det. Scott Turner (Tom Hanks) is an uptight, b...</td>\n",
       "    </tr>\n",
       "    <tr>\n",
       "      <th>4</th>\n",
       "      <td>5</td>\n",
       "      <td>Field of Dreams</td>\n",
       "      <td>PG</td>\n",
       "      <td>15000000</td>\n",
       "      <td>84431625</td>\n",
       "      <td>4/21/1989</td>\n",
       "      <td>Drama</td>\n",
       "      <td>107</td>\n",
       "      <td>7.5</td>\n",
       "      <td>101702.0</td>\n",
       "      <td>An Iowa corn farmer, hearing voices, interpret...</td>\n",
       "    </tr>\n",
       "    <tr>\n",
       "      <th>5</th>\n",
       "      <td>6</td>\n",
       "      <td>Uncle Buck</td>\n",
       "      <td>PG</td>\n",
       "      <td>15000000</td>\n",
       "      <td>79258538</td>\n",
       "      <td>8/16/1989</td>\n",
       "      <td>Family</td>\n",
       "      <td>100</td>\n",
       "      <td>7.0</td>\n",
       "      <td>77659.0</td>\n",
       "      <td>Bachelor and all-round slob Buck babysits his ...</td>\n",
       "    </tr>\n",
       "    <tr>\n",
       "      <th>7</th>\n",
       "      <td>8</td>\n",
       "      <td>Dead Poets Society</td>\n",
       "      <td>PG</td>\n",
       "      <td>16400000</td>\n",
       "      <td>235860116</td>\n",
       "      <td>6/2/1989</td>\n",
       "      <td>Drama</td>\n",
       "      <td>129</td>\n",
       "      <td>8.1</td>\n",
       "      <td>382002.0</td>\n",
       "      <td>English teacher John Keating inspires his stud...</td>\n",
       "    </tr>\n",
       "    <tr>\n",
       "      <th>...</th>\n",
       "      <td>...</td>\n",
       "      <td>...</td>\n",
       "      <td>...</td>\n",
       "      <td>...</td>\n",
       "      <td>...</td>\n",
       "      <td>...</td>\n",
       "      <td>...</td>\n",
       "      <td>...</td>\n",
       "      <td>...</td>\n",
       "      <td>...</td>\n",
       "      <td>...</td>\n",
       "    </tr>\n",
       "    <tr>\n",
       "      <th>604</th>\n",
       "      <td>605</td>\n",
       "      <td>How to Train Your Dragon: The Hidden World</td>\n",
       "      <td>PG</td>\n",
       "      <td>129000000</td>\n",
       "      <td>519900000</td>\n",
       "      <td>1/3/2019</td>\n",
       "      <td>Animation</td>\n",
       "      <td>104</td>\n",
       "      <td>NaN</td>\n",
       "      <td>NaN</td>\n",
       "      <td>NaN</td>\n",
       "    </tr>\n",
       "    <tr>\n",
       "      <th>605</th>\n",
       "      <td>606</td>\n",
       "      <td>Pokemon Detective Pikachu</td>\n",
       "      <td>PG</td>\n",
       "      <td>150000000</td>\n",
       "      <td>431600000</td>\n",
       "      <td>5/3/2019</td>\n",
       "      <td>Mystery</td>\n",
       "      <td>104</td>\n",
       "      <td>NaN</td>\n",
       "      <td>NaN</td>\n",
       "      <td>NaN</td>\n",
       "    </tr>\n",
       "    <tr>\n",
       "      <th>607</th>\n",
       "      <td>608</td>\n",
       "      <td>Dumbo</td>\n",
       "      <td>PG</td>\n",
       "      <td>170000000</td>\n",
       "      <td>353000000</td>\n",
       "      <td>3/11/2019</td>\n",
       "      <td>Adventure</td>\n",
       "      <td>112</td>\n",
       "      <td>NaN</td>\n",
       "      <td>NaN</td>\n",
       "      <td>NaN</td>\n",
       "    </tr>\n",
       "    <tr>\n",
       "      <th>609</th>\n",
       "      <td>610</td>\n",
       "      <td>Aladdin</td>\n",
       "      <td>PG</td>\n",
       "      <td>183000000</td>\n",
       "      <td>1049000000</td>\n",
       "      <td>5/8/2019</td>\n",
       "      <td>Fantasy</td>\n",
       "      <td>128</td>\n",
       "      <td>NaN</td>\n",
       "      <td>NaN</td>\n",
       "      <td>NaN</td>\n",
       "    </tr>\n",
       "    <tr>\n",
       "      <th>613</th>\n",
       "      <td>614</td>\n",
       "      <td>The Lion King</td>\n",
       "      <td>PG</td>\n",
       "      <td>250000000</td>\n",
       "      <td>1632000000</td>\n",
       "      <td>7/9/2019</td>\n",
       "      <td>Drama</td>\n",
       "      <td>118</td>\n",
       "      <td>NaN</td>\n",
       "      <td>NaN</td>\n",
       "      <td>NaN</td>\n",
       "    </tr>\n",
       "  </tbody>\n",
       "</table>\n",
       "<p>161 rows × 11 columns</p>\n",
       "</div>"
      ],
      "text/plain": [
       "     MovieID                                       Title MPAA Rating  \\\n",
       "1          2                          Driving Miss Daisy          PG   \n",
       "2          3                              Turner & Hooch          PG   \n",
       "4          5                             Field of Dreams          PG   \n",
       "5          6                                  Uncle Buck          PG   \n",
       "7          8                          Dead Poets Society          PG   \n",
       "..       ...                                         ...         ...   \n",
       "604      605  How to Train Your Dragon: The Hidden World          PG   \n",
       "605      606                   Pokemon Detective Pikachu          PG   \n",
       "607      608                                       Dumbo          PG   \n",
       "609      610                                     Aladdin          PG   \n",
       "613      614                               The Lion King          PG   \n",
       "\n",
       "        Budget       Gross Release Date      Genre  Runtime  Rating  \\\n",
       "1      7500000   145793296   12/13/1989     Comedy       99     7.4   \n",
       "2     13000000    71079915    7/28/1989      Crime      100     7.2   \n",
       "4     15000000    84431625    4/21/1989      Drama      107     7.5   \n",
       "5     15000000    79258538    8/16/1989     Family      100     7.0   \n",
       "7     16400000   235860116     6/2/1989      Drama      129     8.1   \n",
       "..         ...         ...          ...        ...      ...     ...   \n",
       "604  129000000   519900000     1/3/2019  Animation      104     NaN   \n",
       "605  150000000   431600000     5/3/2019    Mystery      104     NaN   \n",
       "607  170000000   353000000    3/11/2019  Adventure      112     NaN   \n",
       "609  183000000  1049000000     5/8/2019    Fantasy      128     NaN   \n",
       "613  250000000  1632000000     7/9/2019      Drama      118     NaN   \n",
       "\n",
       "     Rating Count                                            Summary  \n",
       "1         91075.0  An old Jewish woman and her African-American c...  \n",
       "2         91415.0  Det. Scott Turner (Tom Hanks) is an uptight, b...  \n",
       "4        101702.0  An Iowa corn farmer, hearing voices, interpret...  \n",
       "5         77659.0  Bachelor and all-round slob Buck babysits his ...  \n",
       "7        382002.0  English teacher John Keating inspires his stud...  \n",
       "..            ...                                                ...  \n",
       "604           NaN                                                NaN  \n",
       "605           NaN                                                NaN  \n",
       "607           NaN                                                NaN  \n",
       "609           NaN                                                NaN  \n",
       "613           NaN                                                NaN  \n",
       "\n",
       "[161 rows x 11 columns]"
      ]
     },
     "execution_count": 40,
     "metadata": {},
     "output_type": "execute_result"
    }
   ],
   "source": [
    "mv.loc[mv['MPAA Rating'] == 'PG']"
   ]
  },
  {
   "cell_type": "code",
   "execution_count": 44,
   "metadata": {},
   "outputs": [
    {
     "name": "stdout",
     "output_type": "stream",
     "text": [
      "1                              Driving Miss Daisy\n",
      "2                                  Turner & Hooch\n",
      "4                                 Field of Dreams\n",
      "5                                      Uncle Buck\n",
      "7                              Dead Poets Society\n",
      "                          ...                    \n",
      "604    How to Train Your Dragon: The Hidden World\n",
      "605                     Pokemon Detective Pikachu\n",
      "607                                         Dumbo\n",
      "609                                       Aladdin\n",
      "613                                 The Lion King\n",
      "Name: Title, Length: 161, dtype: object\n"
     ]
    }
   ],
   "source": [
    "pg_movies = mv.loc[mv['MPAA Rating'] == 'PG']\n",
    "print(pg_movies['Title'])"
   ]
  },
  {
   "cell_type": "code",
   "execution_count": 31,
   "metadata": {},
   "outputs": [
    {
     "ename": "ValueError",
     "evalue": "The truth value of a DataFrame is ambiguous. Use a.empty, a.bool(), a.item(), a.any() or a.all().",
     "output_type": "error",
     "traceback": [
      "\u001b[1;31m---------------------------------------------------------------------------\u001b[0m",
      "\u001b[1;31mValueError\u001b[0m                                Traceback (most recent call last)",
      "\u001b[1;32m~\\AppData\\Local\\Temp\\ipykernel_37948\\1937724143.py\u001b[0m in \u001b[0;36m<module>\u001b[1;34m\u001b[0m\n\u001b[0;32m      1\u001b[0m \u001b[1;32mfor\u001b[0m \u001b[0mx\u001b[0m \u001b[1;32min\u001b[0m \u001b[0mmv\u001b[0m\u001b[1;33m:\u001b[0m\u001b[1;33m\u001b[0m\u001b[1;33m\u001b[0m\u001b[0m\n\u001b[1;32m----> 2\u001b[1;33m     \u001b[1;32mif\u001b[0m \u001b[0mmv\u001b[0m\u001b[1;33m.\u001b[0m\u001b[0mloc\u001b[0m\u001b[1;33m[\u001b[0m\u001b[0mmv\u001b[0m\u001b[1;33m[\u001b[0m\u001b[1;34m'MPAA Rating'\u001b[0m\u001b[1;33m]\u001b[0m \u001b[1;33m==\u001b[0m \u001b[1;34m'PG'\u001b[0m\u001b[1;33m]\u001b[0m\u001b[1;33m:\u001b[0m\u001b[1;33m\u001b[0m\u001b[1;33m\u001b[0m\u001b[0m\n\u001b[0m\u001b[0;32m      3\u001b[0m         \u001b[0mprint\u001b[0m\u001b[1;33m(\u001b[0m\u001b[0mx\u001b[0m\u001b[1;33m)\u001b[0m\u001b[1;33m\u001b[0m\u001b[1;33m\u001b[0m\u001b[0m\n\u001b[0;32m      4\u001b[0m \u001b[1;33m\u001b[0m\u001b[0m\n",
      "\u001b[1;32mc:\\Users\\renev\\anaconda3\\lib\\site-packages\\pandas\\core\\generic.py\u001b[0m in \u001b[0;36m__nonzero__\u001b[1;34m(self)\u001b[0m\n\u001b[0;32m   1525\u001b[0m     \u001b[1;33m@\u001b[0m\u001b[0mfinal\u001b[0m\u001b[1;33m\u001b[0m\u001b[1;33m\u001b[0m\u001b[0m\n\u001b[0;32m   1526\u001b[0m     \u001b[1;32mdef\u001b[0m \u001b[0m__nonzero__\u001b[0m\u001b[1;33m(\u001b[0m\u001b[0mself\u001b[0m\u001b[1;33m)\u001b[0m\u001b[1;33m:\u001b[0m\u001b[1;33m\u001b[0m\u001b[1;33m\u001b[0m\u001b[0m\n\u001b[1;32m-> 1527\u001b[1;33m         raise ValueError(\n\u001b[0m\u001b[0;32m   1528\u001b[0m             \u001b[1;34mf\"The truth value of a {type(self).__name__} is ambiguous. \"\u001b[0m\u001b[1;33m\u001b[0m\u001b[1;33m\u001b[0m\u001b[0m\n\u001b[0;32m   1529\u001b[0m             \u001b[1;34m\"Use a.empty, a.bool(), a.item(), a.any() or a.all().\"\u001b[0m\u001b[1;33m\u001b[0m\u001b[1;33m\u001b[0m\u001b[0m\n",
      "\u001b[1;31mValueError\u001b[0m: The truth value of a DataFrame is ambiguous. Use a.empty, a.bool(), a.item(), a.any() or a.all()."
     ]
    }
   ],
   "source": [
    "for x in mv:\n",
    "    if mv.loc[mv['MPAA Rating'] == 'PG']:\n",
    "        print(x)\n",
    "\n"
   ]
  }
 ],
 "metadata": {
  "kernelspec": {
   "display_name": "base",
   "language": "python",
   "name": "python3"
  },
  "language_info": {
   "codemirror_mode": {
    "name": "ipython",
    "version": 3
   },
   "file_extension": ".py",
   "mimetype": "text/x-python",
   "name": "python",
   "nbconvert_exporter": "python",
   "pygments_lexer": "ipython3",
   "version": "3.9.13"
  },
  "orig_nbformat": 4,
  "vscode": {
   "interpreter": {
    "hash": "88b75450182d6b070b1f43a42e975dbe9eb76cfef497b1218ec66ccf28187bdd"
   }
  }
 },
 "nbformat": 4,
 "nbformat_minor": 2
}
