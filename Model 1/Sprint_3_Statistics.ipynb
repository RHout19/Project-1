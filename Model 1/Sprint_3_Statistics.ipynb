{
 "cells": [
  {
   "cell_type": "code",
   "execution_count": 3,
   "metadata": {},
   "outputs": [],
   "source": [
    "#Import numpy\n",
    "import numpy as np\n",
    "import pandas as pd"
   ]
  },
  {
   "cell_type": "code",
   "execution_count": 8,
   "metadata": {},
   "outputs": [
    {
     "name": "stdout",
     "output_type": "stream",
     "text": [
      "[-4.800000000000001, -0.8000000000000007, 3.1999999999999993, 11.2, -8.8]\n",
      "Standard deviation: 6.881860213634101\n"
     ]
    }
   ],
   "source": [
    "#Exercise 1 | manual\n",
    "data = [8, 12, 16, 24, 4]\n",
    "\n",
    "mean = sum(data) / len(data)\n",
    "\n",
    "deviations = [x - mean for x in data]\n",
    "squared_deviations = [d ** 2 for d in deviations]\n",
    "sum_squared_deviations = sum(squared_deviations)\n",
    "variance = sum_squared_deviations / len(data)\n",
    "\n",
    "std = variance ** 0.5\n",
    "print(\"Standard deviation:\", std)"
   ]
  },
  {
   "cell_type": "code",
   "execution_count": 97,
   "metadata": {},
   "outputs": [
    {
     "name": "stdout",
     "output_type": "stream",
     "text": [
      "Standard deviation: 6.881860213634101\n"
     ]
    }
   ],
   "source": [
    "#Exercise 1 | automatic\n",
    "data = [8, 12, 16, 24, 4]\n",
    "\n",
    "std = np.std(data)\n",
    "\n",
    "print(\"Standard deviation:\", std)"
   ]
  },
  {
   "cell_type": "code",
   "execution_count": 17,
   "metadata": {},
   "outputs": [
    {
     "name": "stdout",
     "output_type": "stream",
     "text": [
      "Standard deviation: 11.925695879998877\n"
     ]
    }
   ],
   "source": [
    "#Exercise 2 | Outlier added\n",
    "data = [8, 12, 16, 24, 4, 40]\n",
    "\n",
    "std = np.std(data)\n",
    "\n",
    "print(\"Standard deviation:\", std)"
   ]
  },
  {
   "cell_type": "code",
   "execution_count": 98,
   "metadata": {},
   "outputs": [
    {
     "name": "stdout",
     "output_type": "stream",
     "text": [
      "A = True\n",
      "B = False\n",
      "C = False\n",
      "D = True\n",
      "E = True\n",
      "F = False\n"
     ]
    }
   ],
   "source": [
    "#Exercise 3 |\n",
    "#A) Mean is greater than 30 = true\n",
    "#B) Mean is less than 30 = false\n",
    "#C) Mode is greater than 30 = false\n",
    "#D) Mode is less than 30 = true\n",
    "#E) Both A and D = True\n",
    "#F) Both B and C = False\n",
    "\n",
    "median = 30\n",
    "mean = median+1\n",
    "mode = median-1\n",
    "print(f\"A = {mean>30}\")\n",
    "print(f\"B = {mean<30}\")\n",
    "print(f\"C = {mode>30}\")\n",
    "print(f\"D = {mode<30}\")\n",
    "print(f\"E = {mean>30 and mode<30}\")\n",
    "print(f\"F = {mean>30 and mode>30}\")\n",
    "\n",
    "\n",
    "\n"
   ]
  },
  {
   "cell_type": "code",
   "execution_count": 101,
   "metadata": {},
   "outputs": [
    {
     "name": "stdout",
     "output_type": "stream",
     "text": [
      "The median is: 27\n"
     ]
    }
   ],
   "source": [
    "#Exercise 4 | Finding the median with Numpy\n",
    "\n",
    "data = [10, 10, 10, 10, 11, 11, 12, 13, 14, 15, 15, 15, 16, 16, 16, 16, 16, 17, 18, 19, 19, 20, 20, 20, 21, 21, 21, 21, 21, 22, 22, 22, 23, 23, \n",
    "23, 24, 24, 24, 26, 26, 26, 26, 26, 26, 26, 27, 27, 27, 27, 29, 29, 29, 29, 29, 29, 29, 29, 29, 30, 30, 30, 30, 30, 31, 31, 32, 32, 33, 33, 34, 34,\n",
    "35, 35, 35, 37, 37, 37, 37, 39, 39, 39, 40, 40, 43, 43, 44, 44, 46, 46, 46, 47, 49, 52, 53, 54]\n",
    "\n",
    "median = int(np.median(data))\n",
    "\n",
    "print(\"The median is:\", median)"
   ]
  },
  {
   "cell_type": "code",
   "execution_count": 102,
   "metadata": {},
   "outputs": [
    {
     "name": "stdout",
     "output_type": "stream",
     "text": [
      "\n",
      " The median salary is: 27\n"
     ]
    }
   ],
   "source": [
    "#Exercise 5-6-7\n",
    "#Positive Skew\n",
    "#median\n",
    "#35\n",
    "\n",
    "my_list = []\n",
    "\n",
    "for i in range(5):\n",
    "    my_list.append(11)\n",
    "for i in range(10):\n",
    "    my_list.append(24)\n",
    "for i in range(15):\n",
    "    my_list.append(29)\n",
    "for i in range(20):\n",
    "    my_list.append(9)\n",
    "for i in range(30):\n",
    "    my_list.append(5)\n",
    "for i in range(35):\n",
    "    my_list.append(4)\n",
    "for i in range(40):\n",
    "    my_list.append(26)\n",
    "for i in range(45):\n",
    "    my_list.append(3)\n",
    "for i in range(50):\n",
    "    my_list.append(3)\n",
    "for i in range(55):\n",
    "    my_list.append(3)\n",
    "for i in range(60):\n",
    "    my_list.append(2)\n",
    "for i in range(65):\n",
    "    my_list.append(1)\n",
    "for i in range(70):\n",
    "    my_list.append(1)\n",
    "for i in range(75):\n",
    "    my_list.append(1)\n",
    "for i in range(80):\n",
    "    my_list.append(1)\n",
    "for i in range(85):\n",
    "    my_list.append(2)\n",
    "\n",
    "print(my_list)    \n",
    "\n",
    "np.median(my_list)\n",
    "print('\\n', \"The median salary is:\", median)"
   ]
  },
  {
   "cell_type": "code",
   "execution_count": 105,
   "metadata": {},
   "outputs": [
    {
     "name": "stdout",
     "output_type": "stream",
     "text": [
      "5.5\n",
      "5.4\n",
      "29\n"
     ]
    }
   ],
   "source": [
    "#Exercise 8 | Altering Mean, Median, & Mode\n",
    "data_list = [1,2,3,4,5,6,7,8,9,9]\n",
    "array = np.array(data_list)\n",
    "\n",
    "median = np.median(array)\n",
    "mean = np.mean(array)\n",
    "\n",
    "def mode_finder():\n",
    "    counts = np.bincount(data_list)\n",
    "    mode = np.argmax(counts)\n",
    "    return mode\n",
    "\n",
    "print(median)\n",
    "print(mean)\n",
    "print(mode)\n"
   ]
  },
  {
   "cell_type": "code",
   "execution_count": 113,
   "metadata": {},
   "outputs": [
    {
     "name": "stdout",
     "output_type": "stream",
     "text": [
      "[25, 25, 25, 40, 40, 35, 50, 50, 50, 50]\n",
      "39.0\n",
      "10.44030650891055\n",
      "10.4\n"
     ]
    }
   ],
   "source": [
    "#Exercice 9 | Calculate the Standard Deviation  \n",
    "salaries = []\n",
    "\n",
    "for i in range(3):\n",
    "    salaries.append(25)\n",
    "for i in range(2):\n",
    "    salaries.append(40)\n",
    "for i in range(1):\n",
    "    salaries.append(35)\n",
    "for i in range(4):\n",
    "    salaries.append(50)\n",
    "\n",
    "print(salaries)\n",
    "\n",
    "x = np.mean(salaries)\n",
    "print(x)\n",
    "\n",
    "print(np.std(salaries))\n",
    "print(round(np.std(salaries), 1))"
   ]
  },
  {
   "cell_type": "code",
   "execution_count": 116,
   "metadata": {},
   "outputs": [
    {
     "name": "stdout",
     "output_type": "stream",
     "text": [
      "The Answer is C.\n"
     ]
    }
   ],
   "source": [
    "#Exercise 11 \n",
    "print('The Answer is C.')\n",
    "\n"
   ]
  },
  {
   "cell_type": "code",
   "execution_count": 117,
   "metadata": {},
   "outputs": [
    {
     "data": {
      "text/plain": [
       "<function numpy.__config__.show()>"
      ]
     },
     "execution_count": 117,
     "metadata": {},
     "output_type": "execute_result"
    }
   ],
   "source": [
    "#### 2. Print the numpy version and the configuration (★☆☆)\n",
    "np.__version__, \n",
    "np.show_config"
   ]
  },
  {
   "cell_type": "code",
   "execution_count": 153,
   "metadata": {},
   "outputs": [
    {
     "name": "stdout",
     "output_type": "stream",
     "text": [
      "[0. 0. 0. 0. 0. 0. 0. 0. 0. 0.]\n"
     ]
    }
   ],
   "source": [
    "#### 3. Create a null vector of size 10 (★☆☆)\n",
    "array = np.zeros(10)\n",
    "print(array)\n"
   ]
  },
  {
   "cell_type": "code",
   "execution_count": 125,
   "metadata": {},
   "outputs": [
    {
     "name": "stdout",
     "output_type": "stream",
     "text": [
      "The size of the array is: 10\n"
     ]
    }
   ],
   "source": [
    "#### 4. How to find the memory size of any array (★☆☆)\n",
    "print(\"The size of the array is:\", array.size)"
   ]
  },
  {
   "cell_type": "code",
   "execution_count": 152,
   "metadata": {},
   "outputs": [
    {
     "name": "stdout",
     "output_type": "stream",
     "text": [
      "[[[ 1908874352  1079363356   477218585]\n",
      "  [ 1077703111   477218574  1073508807]]\n",
      "\n",
      " [[-1908874352  1078343907 -1908874355]\n",
      "  [ 1080441059  -477218588  1082134072]]]\n"
     ]
    },
    {
     "data": {
      "text/plain": [
       "12"
      ]
     },
     "execution_count": 152,
     "metadata": {},
     "output_type": "execute_result"
    }
   ],
   "source": [
    "a = np.empty([2,2,3], dtype= int)\n",
    "print(a)\n",
    "\n",
    "#### 5. How to get the documentation of the numpy add function from the command line? (★☆☆)\n",
    "a.size"
   ]
  },
  {
   "cell_type": "code",
   "execution_count": 170,
   "metadata": {},
   "outputs": [
    {
     "data": {
      "text/plain": [
       "array([30, 31, 32, 33, 34, 35, 36, 37, 38, 39, 40, 41, 42, 43, 44, 45, 46,\n",
       "       47, 48])"
      ]
     },
     "execution_count": 170,
     "metadata": {},
     "output_type": "execute_result"
    }
   ],
   "source": [
    "#### 7. Create a vector with values ranging from 10 to 49 (★☆☆)\n",
    "np.arange(10,100)\n",
    "array[20:-1]\n"
   ]
  },
  {
   "cell_type": "code",
   "execution_count": 176,
   "metadata": {},
   "outputs": [
    {
     "name": "stdout",
     "output_type": "stream",
     "text": [
      "[[1 2 3]\n",
      " [4 5 6]\n",
      " [7 8 0]]\n"
     ]
    }
   ],
   "source": [
    "#### 9. Create a 3x3 matrix with values ranging from 0 to 8 (★☆☆)\n",
    "data = [[1, 2, 3], [4, 5, 6], [7, 8, 0]]\n",
    "df = np.array(data)\n",
    "\n",
    "print(df)"
   ]
  },
  {
   "cell_type": "code",
   "execution_count": 5,
   "metadata": {},
   "outputs": [
    {
     "name": "stdout",
     "output_type": "stream",
     "text": [
      "   a  b  c\n",
      "0  1  2  3\n",
      "1  4  5  6\n",
      "2  7  8  0\n"
     ]
    }
   ],
   "source": [
    "data = [[1, 2, 3], [4, 5, 6], [7, 8, 0]]\n",
    "df = pd.DataFrame(data)\n",
    "df.columns = ['a','b','c']\n",
    "\n",
    "print(df)"
   ]
  },
  {
   "cell_type": "code",
   "execution_count": 194,
   "metadata": {},
   "outputs": [
    {
     "name": "stdout",
     "output_type": "stream",
     "text": [
      "[[1. 0.]\n",
      " [0. 1.]]\n"
     ]
    }
   ],
   "source": [
    "data = [[1, 2, 3], [4, 5, 6], [7, 8, 0]]\n",
    "df = np.eye(2)\n",
    "\n",
    "print(df)"
   ]
  }
 ],
 "metadata": {
  "kernelspec": {
   "display_name": "base",
   "language": "python",
   "name": "python3"
  },
  "language_info": {
   "codemirror_mode": {
    "name": "ipython",
    "version": 3
   },
   "file_extension": ".py",
   "mimetype": "text/x-python",
   "name": "python",
   "nbconvert_exporter": "python",
   "pygments_lexer": "ipython3",
   "version": "3.9.13"
  },
  "orig_nbformat": 4,
  "vscode": {
   "interpreter": {
    "hash": "88b75450182d6b070b1f43a42e975dbe9eb76cfef497b1218ec66ccf28187bdd"
   }
  }
 },
 "nbformat": 4,
 "nbformat_minor": 2
}
