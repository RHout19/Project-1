{
 "cells": [
  {
   "cell_type": "code",
   "execution_count": 1,
   "metadata": {},
   "outputs": [],
   "source": [
    "import sqlite3\n",
    "con = sqlite3.connect(\"SQL_4.db\")\n",
    "cur = con.cursor()"
   ]
  },
  {
   "cell_type": "code",
   "execution_count": 2,
   "metadata": {},
   "outputs": [
    {
     "data": {
      "text/plain": [
       "<sqlite3.Cursor at 0x1d03fbdc880>"
      ]
     },
     "execution_count": 2,
     "metadata": {},
     "output_type": "execute_result"
    }
   ],
   "source": [
    "cur.execute(\"DROP TABLE IF EXISTS Movies\")\n",
    "cur.execute(\"DROP TABLE IF EXISTS MovieTheaters\")"
   ]
  },
  {
   "cell_type": "code",
   "execution_count": 3,
   "metadata": {},
   "outputs": [
    {
     "data": {
      "text/plain": [
       "<sqlite3.Cursor at 0x1d03fbdc880>"
      ]
     },
     "execution_count": 3,
     "metadata": {},
     "output_type": "execute_result"
    }
   ],
   "source": [
    "cur.execute(\"\"\"\n",
    "CREATE TABLE IF NOT EXISTS Movies (\n",
    "  Code INTEGER,\n",
    "  Title VARCHAR(255) NOT NULL,\n",
    "  Rating VARCHAR(255),\n",
    "  PRIMARY KEY (Code)\n",
    ");\n",
    "\"\"\")\n",
    "\n",
    "cur.execute(\"\"\"\n",
    "CREATE TABLE IF NOT EXISTS MovieTheaters (\n",
    "  Code INTEGER,\n",
    "  Name VARCHAR(255) NOT NULL,\n",
    "  Movie INTEGER,\n",
    "  PRIMARY KEY (Code)\n",
    ");\n",
    "\"\"\")"
   ]
  },
  {
   "cell_type": "code",
   "execution_count": 4,
   "metadata": {},
   "outputs": [
    {
     "data": {
      "text/plain": [
       "<sqlite3.Cursor at 0x1d03fbdc880>"
      ]
     },
     "execution_count": 4,
     "metadata": {},
     "output_type": "execute_result"
    }
   ],
   "source": [
    "cur.executescript(\"\"\"\n",
    "INSERT INTO Movies(Code,Title,Rating) VALUES(1,'Citizen Kane','PG');\n",
    "INSERT INTO Movies(Code,Title,Rating) VALUES(2,'Singin'' in the Rain','G');\n",
    "INSERT INTO Movies(Code,Title,Rating) VALUES(3,'The Wizard of Oz','G');\n",
    "INSERT INTO Movies(Code,Title,Rating) VALUES(4,'The Quiet Man',NULL);\n",
    "INSERT INTO Movies(Code,Title,Rating) VALUES(5,'North by Northwest',NULL);\n",
    "INSERT INTO Movies(Code,Title,Rating) VALUES(6,'The Last Tango in Paris','NC-17');\n",
    "INSERT INTO Movies(Code,Title,Rating) VALUES(7,'Some Like it Hot','PG-13');\n",
    "INSERT INTO Movies(Code,Title,Rating) VALUES(8,'A Night at the Opera',NULL);\n",
    " \n",
    "INSERT INTO MovieTheaters(Code,Name,Movie) VALUES(1,'Odeon',5);\n",
    "INSERT INTO MovieTheaters(Code,Name,Movie) VALUES(2,'Imperial',1);\n",
    "INSERT INTO MovieTheaters(Code,Name,Movie) VALUES(3,'Majestic',NULL);\n",
    "INSERT INTO MovieTheaters(Code,Name,Movie) VALUES(4,'Royale',6);\n",
    "INSERT INTO MovieTheaters(Code,Name,Movie) VALUES(5,'Paraiso',3);\n",
    "INSERT INTO MovieTheaters(Code,Name,Movie) VALUES(6,'Nickelodeon',NULL);\n",
    "\"\"\")"
   ]
  },
  {
   "cell_type": "code",
   "execution_count": 5,
   "metadata": {},
   "outputs": [],
   "source": [
    "def run(cmd):\n",
    "    r = cur.execute(cmd)\n",
    "    display(r.fetchall())"
   ]
  },
  {
   "attachments": {},
   "cell_type": "markdown",
   "metadata": {},
   "source": [
    "## 4.1 Select the title of all movies."
   ]
  },
  {
   "cell_type": "code",
   "execution_count": 6,
   "metadata": {},
   "outputs": [
    {
     "data": {
      "text/plain": [
       "[('Citizen Kane',),\n",
       " (\"Singin' in the Rain\",),\n",
       " ('The Wizard of Oz',),\n",
       " ('The Quiet Man',),\n",
       " ('North by Northwest',),\n",
       " ('The Last Tango in Paris',),\n",
       " ('Some Like it Hot',),\n",
       " ('A Night at the Opera',)]"
      ]
     },
     "metadata": {},
     "output_type": "display_data"
    }
   ],
   "source": [
    "run(\"\"\"\n",
    "SELECT Title \n",
    "FROM Movies\n",
    ";\"\"\")"
   ]
  },
  {
   "attachments": {},
   "cell_type": "markdown",
   "metadata": {},
   "source": [
    "## 4.2 Show all the distinct ratings in the database."
   ]
  },
  {
   "cell_type": "code",
   "execution_count": 7,
   "metadata": {},
   "outputs": [
    {
     "data": {
      "text/plain": [
       "[('PG',), ('G',), (None,), ('NC-17',), ('PG-13',)]"
      ]
     },
     "metadata": {},
     "output_type": "display_data"
    }
   ],
   "source": [
    "run(\"\"\"\n",
    "SELECT DISTINCT(Rating) \n",
    "FROM Movies\n",
    ";\"\"\")"
   ]
  },
  {
   "attachments": {},
   "cell_type": "markdown",
   "metadata": {},
   "source": [
    "## 4.3 Show all unrated movies."
   ]
  },
  {
   "cell_type": "code",
   "execution_count": 8,
   "metadata": {},
   "outputs": [
    {
     "data": {
      "text/plain": [
       "[('The Quiet Man',), ('North by Northwest',), ('A Night at the Opera',)]"
      ]
     },
     "metadata": {},
     "output_type": "display_data"
    }
   ],
   "source": [
    "run(\"\"\"\n",
    "SELECT Title \n",
    "FROM Movies\n",
    "WHERE Rating ISNULL\n",
    ";\"\"\")"
   ]
  },
  {
   "attachments": {},
   "cell_type": "markdown",
   "metadata": {},
   "source": [
    "## 4.4 Select all movie theaters that are not currently showing a movie."
   ]
  },
  {
   "cell_type": "code",
   "execution_count": 9,
   "metadata": {},
   "outputs": [
    {
     "data": {
      "text/plain": [
       "[('Majestic',), ('Nickelodeon',)]"
      ]
     },
     "metadata": {},
     "output_type": "display_data"
    }
   ],
   "source": [
    "run(\"\"\"\n",
    "SELECT Name \n",
    "FROM MovieTheaters\n",
    "WHERE Movie ISNULL\n",
    ";\"\"\")"
   ]
  },
  {
   "attachments": {},
   "cell_type": "markdown",
   "metadata": {},
   "source": [
    "## 4.5 Select all data from all movie theaters and, additionally, the data from the movie that is being shown in the theater (if one is being shown)."
   ]
  },
  {
   "cell_type": "code",
   "execution_count": 10,
   "metadata": {},
   "outputs": [
    {
     "data": {
      "text/plain": [
       "[(1, 'Odeon', 5, 5, 'North by Northwest', None),\n",
       " (2, 'Imperial', 1, 1, 'Citizen Kane', 'PG'),\n",
       " (3, 'Majestic', None, None, None, None),\n",
       " (4, 'Royale', 6, 6, 'The Last Tango in Paris', 'NC-17'),\n",
       " (5, 'Paraiso', 3, 3, 'The Wizard of Oz', 'G'),\n",
       " (6, 'Nickelodeon', None, None, None, None)]"
      ]
     },
     "metadata": {},
     "output_type": "display_data"
    }
   ],
   "source": [
    "run(\"\"\"\n",
    "SELECT *\n",
    "FROM MovieTheaters\n",
    "LEFT JOIN Movies \n",
    "ON MovieTheaters.Movie = Movies.Code\n",
    ";\"\"\")"
   ]
  },
  {
   "attachments": {},
   "cell_type": "markdown",
   "metadata": {},
   "source": [
    "## 4.6 Select all data from all movies and, if that movie is being shown in a theater, show the data from the theater."
   ]
  },
  {
   "cell_type": "code",
   "execution_count": 11,
   "metadata": {},
   "outputs": [
    {
     "data": {
      "text/plain": [
       "[(1, 'Citizen Kane', 'PG', 2, 'Imperial', 1),\n",
       " (2, \"Singin' in the Rain\", 'G', None, None, None),\n",
       " (3, 'The Wizard of Oz', 'G', 5, 'Paraiso', 3),\n",
       " (4, 'The Quiet Man', None, None, None, None),\n",
       " (5, 'North by Northwest', None, 1, 'Odeon', 5),\n",
       " (6, 'The Last Tango in Paris', 'NC-17', 4, 'Royale', 6),\n",
       " (7, 'Some Like it Hot', 'PG-13', None, None, None),\n",
       " (8, 'A Night at the Opera', None, None, None, None)]"
      ]
     },
     "metadata": {},
     "output_type": "display_data"
    }
   ],
   "source": [
    "run(\"\"\"\n",
    "SELECT *\n",
    "FROM Movies\n",
    "LEFT JOIN MovieTheaters \n",
    "ON MovieTheaters.Movie = Movies.Code\n",
    ";\"\"\")"
   ]
  },
  {
   "attachments": {},
   "cell_type": "markdown",
   "metadata": {},
   "source": [
    "## 4.7 Show the titles of movies not currently being shown in any theaters."
   ]
  },
  {
   "cell_type": "code",
   "execution_count": 14,
   "metadata": {},
   "outputs": [
    {
     "data": {
      "text/plain": [
       "[(\"Singin' in the Rain\",),\n",
       " ('The Quiet Man',),\n",
       " ('Some Like it Hot',),\n",
       " ('A Night at the Opera',)]"
      ]
     },
     "metadata": {},
     "output_type": "display_data"
    }
   ],
   "source": [
    "run(\"\"\"\n",
    "SELECT Title\n",
    "FROM Movies\n",
    "LEFT JOIN MovieTheaters\n",
    "ON MovieTheaters.Movie = Movies.Code\n",
    "WHERE Movie IS NULL\n",
    ";\"\"\")"
   ]
  },
  {
   "attachments": {},
   "cell_type": "markdown",
   "metadata": {},
   "source": [
    "## 4.8 Add the unrated movie \"One, Two, Three\"."
   ]
  },
  {
   "cell_type": "code",
   "execution_count": 16,
   "metadata": {},
   "outputs": [
    {
     "data": {
      "text/plain": [
       "[]"
      ]
     },
     "metadata": {},
     "output_type": "display_data"
    }
   ],
   "source": [
    "run(\"\"\"\n",
    "INSERT INTO Movies (Code, Title, Rating)\n",
    "VALUES (9, 'One, Two, Three', Null)\n",
    ";\n",
    "\"\"\")"
   ]
  },
  {
   "attachments": {},
   "cell_type": "markdown",
   "metadata": {},
   "source": [
    "## 4.9 Set the rating of all unrated movies to \"G\"."
   ]
  },
  {
   "cell_type": "code",
   "execution_count": 17,
   "metadata": {},
   "outputs": [
    {
     "data": {
      "text/plain": [
       "[]"
      ]
     },
     "metadata": {},
     "output_type": "display_data"
    }
   ],
   "source": [
    "run(\"\"\"\n",
    "UPDATE Movies \n",
    "SET Rating = 'G'\n",
    "WHERE Rating = Null \n",
    ";\n",
    "\"\"\")"
   ]
  },
  {
   "attachments": {},
   "cell_type": "markdown",
   "metadata": {},
   "source": [
    "## 4.10 Remove movie theaters projecting movies rated \"NC-17\"."
   ]
  },
  {
   "cell_type": "code",
   "execution_count": 18,
   "metadata": {},
   "outputs": [
    {
     "data": {
      "text/plain": [
       "<sqlite3.Cursor at 0x1d03fbdc880>"
      ]
     },
     "execution_count": 18,
     "metadata": {},
     "output_type": "execute_result"
    }
   ],
   "source": [
    "cur.execute(\"\"\"\n",
    "    DELETE FROM MovieTheaters\n",
    "    WHERE Code IN (\n",
    "        SELECT MovieTheaters.Code\n",
    "        FROM MovieTheaters\n",
    "        LEFT JOIN Movies ON MovieTheaters.Movie = Movies.Code\n",
    "        WHERE Movies.Rating = 'NC-17'\n",
    "    )\n",
    "\"\"\")"
   ]
  },
  {
   "cell_type": "code",
   "execution_count": 19,
   "metadata": {},
   "outputs": [],
   "source": [
    "con.close()"
   ]
  }
 ],
 "metadata": {
  "kernelspec": {
   "display_name": "base",
   "language": "python",
   "name": "python3"
  },
  "language_info": {
   "codemirror_mode": {
    "name": "ipython",
    "version": 3
   },
   "file_extension": ".py",
   "mimetype": "text/x-python",
   "name": "python",
   "nbconvert_exporter": "python",
   "pygments_lexer": "ipython3",
   "version": "3.9.13"
  },
  "orig_nbformat": 4
 },
 "nbformat": 4,
 "nbformat_minor": 2
}
