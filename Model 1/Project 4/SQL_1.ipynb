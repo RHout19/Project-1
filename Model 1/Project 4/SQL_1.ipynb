{
 "cells": [
  {
   "cell_type": "code",
   "execution_count": 113,
   "metadata": {},
   "outputs": [],
   "source": [
    "def dict_factory(cursor, row):\n",
    "    fields = [column[0] for column in cursor.description]\n",
    "    return {key: value for key, value in zip(fields, row)}"
   ]
  },
  {
   "cell_type": "code",
   "execution_count": 114,
   "metadata": {},
   "outputs": [],
   "source": [
    "import sqlite3\n",
    "con = sqlite3.connect(\"products.db\")\n",
    "con.row_factory = dict_factory\n",
    "cur = con.cursor()"
   ]
  },
  {
   "cell_type": "code",
   "execution_count": 115,
   "metadata": {},
   "outputs": [
    {
     "data": {
      "text/plain": [
       "<sqlite3.Cursor at 0x2635e70c5e0>"
      ]
     },
     "execution_count": 115,
     "metadata": {},
     "output_type": "execute_result"
    }
   ],
   "source": [
    "cur.execute(\"DROP TABLE IF EXISTS Manufacturers\")\n",
    "cur.execute(\"DROP TABLE IF EXISTS Products\")"
   ]
  },
  {
   "cell_type": "code",
   "execution_count": 116,
   "metadata": {},
   "outputs": [
    {
     "data": {
      "text/plain": [
       "<sqlite3.Cursor at 0x2635e70c5e0>"
      ]
     },
     "execution_count": 116,
     "metadata": {},
     "output_type": "execute_result"
    }
   ],
   "source": [
    "cur.execute(\"\"\"\n",
    "    CREATE TABLE IF NOT EXISTS Manufacturers (\n",
    "      Code INTEGER,\n",
    "      Name TEXT NOT NULL,\n",
    "      PRIMARY KEY (Code)\n",
    "    )\n",
    "\"\"\")\n",
    "cur.execute(\"\"\"\n",
    "    CREATE TABLE IF NOT EXISTS Products (\n",
    "      Code INTEGER,\n",
    "      Name TEXT NOT NULL,\n",
    "      Price INTEGER NOT NULL,\n",
    "      Manufacturer INTEGER NOT NULL,\n",
    "      PRIMARY KEY (Code)\n",
    "    )\n",
    "\"\"\")"
   ]
  },
  {
   "cell_type": "code",
   "execution_count": 117,
   "metadata": {},
   "outputs": [
    {
     "data": {
      "text/plain": [
       "<sqlite3.Cursor at 0x2635e70c5e0>"
      ]
     },
     "execution_count": 117,
     "metadata": {},
     "output_type": "execute_result"
    }
   ],
   "source": [
    "cur.executescript(\"\"\"\n",
    "INSERT INTO Manufacturers(Code,Name) VALUES(1,'Sony');\n",
    "INSERT INTO Manufacturers(Code,Name) VALUES(2,'Creative Labs');\n",
    "INSERT INTO Manufacturers(Code,Name) VALUES(3,'Hewlett-Packard');\n",
    "INSERT INTO Manufacturers(Code,Name) VALUES(4,'Iomega');\n",
    "INSERT INTO Manufacturers(Code,Name) VALUES(5,'Fujitsu');\n",
    "INSERT INTO Manufacturers(Code,Name) VALUES(6,'Winchester');\n",
    "\n",
    "INSERT INTO Products(Code,Name,Price,Manufacturer) VALUES(1,'Hard drive',240,5);\n",
    "INSERT INTO Products(Code,Name,Price,Manufacturer) VALUES(2,'Memory',120,6);\n",
    "INSERT INTO Products(Code,Name,Price,Manufacturer) VALUES(3,'ZIP drive',150,4);\n",
    "INSERT INTO Products(Code,Name,Price,Manufacturer) VALUES(4,'Floppy disk',5,6);\n",
    "INSERT INTO Products(Code,Name,Price,Manufacturer) VALUES(5,'Monitor',240,1);\n",
    "INSERT INTO Products(Code,Name,Price,Manufacturer) VALUES(6,'DVD drive',180,2);\n",
    "INSERT INTO Products(Code,Name,Price,Manufacturer) VALUES(7,'CD drive',90,2);\n",
    "INSERT INTO Products(Code,Name,Price,Manufacturer) VALUES(8,'Printer',270,3);\n",
    "INSERT INTO Products(Code,Name,Price,Manufacturer) VALUES(9,'Toner cartridge',66,3);\n",
    "INSERT INTO Products(Code,Name,Price,Manufacturer) VALUES(10,'DVD burner',180,2);\n",
    "\"\"\")"
   ]
  },
  {
   "cell_type": "code",
   "execution_count": 118,
   "metadata": {},
   "outputs": [],
   "source": [
    "def run(cmd):\n",
    "    r = cur.execute(cmd)\n",
    "    display(r.fetchall())"
   ]
  },
  {
   "attachments": {},
   "cell_type": "markdown",
   "metadata": {},
   "source": [
    "## 1.1 Select the names of all the products in the store."
   ]
  },
  {
   "cell_type": "code",
   "execution_count": 119,
   "metadata": {},
   "outputs": [
    {
     "data": {
      "text/plain": [
       "[{'Name': 'Hard drive'},\n",
       " {'Name': 'Memory'},\n",
       " {'Name': 'ZIP drive'},\n",
       " {'Name': 'Floppy disk'},\n",
       " {'Name': 'Monitor'},\n",
       " {'Name': 'DVD drive'},\n",
       " {'Name': 'CD drive'},\n",
       " {'Name': 'Printer'},\n",
       " {'Name': 'Toner cartridge'},\n",
       " {'Name': 'DVD burner'}]"
      ]
     },
     "metadata": {},
     "output_type": "display_data"
    }
   ],
   "source": [
    "run(\"\"\"\n",
    "SELECT Name \n",
    "FROM Products\n",
    "\"\"\")"
   ]
  },
  {
   "attachments": {},
   "cell_type": "markdown",
   "metadata": {},
   "source": [
    "## 1.2 Select the names and the prices of all the products in the store."
   ]
  },
  {
   "cell_type": "code",
   "execution_count": 120,
   "metadata": {},
   "outputs": [
    {
     "data": {
      "text/plain": [
       "[{'Name': 'Sony'},\n",
       " {'Name': 'Creative Labs'},\n",
       " {'Name': 'Hewlett-Packard'},\n",
       " {'Name': 'Iomega'},\n",
       " {'Name': 'Fujitsu'},\n",
       " {'Name': 'Winchester'}]"
      ]
     },
     "metadata": {},
     "output_type": "display_data"
    }
   ],
   "source": [
    "run(\"\"\"\n",
    "SELECT Name \n",
    "FROM Manufacturers\n",
    "\"\"\")"
   ]
  },
  {
   "attachments": {},
   "cell_type": "markdown",
   "metadata": {},
   "source": [
    "## 1.3 Select the name of the products with a price less than or equal to $200."
   ]
  },
  {
   "cell_type": "code",
   "execution_count": 121,
   "metadata": {},
   "outputs": [
    {
     "data": {
      "text/plain": [
       "[{'Name': 'Memory'},\n",
       " {'Name': 'ZIP drive'},\n",
       " {'Name': 'Floppy disk'},\n",
       " {'Name': 'DVD drive'},\n",
       " {'Name': 'CD drive'},\n",
       " {'Name': 'Toner cartridge'},\n",
       " {'Name': 'DVD burner'}]"
      ]
     },
     "metadata": {},
     "output_type": "display_data"
    }
   ],
   "source": [
    "run(\"\"\"\n",
    "SELECT Name \n",
    "FROM Products\n",
    "WHERE Price <= 200\n",
    "\"\"\")"
   ]
  },
  {
   "attachments": {},
   "cell_type": "markdown",
   "metadata": {},
   "source": [
    "## 1.4 Select all the products with a price between $60 and $120."
   ]
  },
  {
   "cell_type": "code",
   "execution_count": 122,
   "metadata": {},
   "outputs": [
    {
     "data": {
      "text/plain": [
       "[{'Name': 'Memory', 'Price': 120},\n",
       " {'Name': 'ZIP drive', 'Price': 150},\n",
       " {'Name': 'DVD drive', 'Price': 180},\n",
       " {'Name': 'CD drive', 'Price': 90},\n",
       " {'Name': 'Toner cartridge', 'Price': 66},\n",
       " {'Name': 'DVD burner', 'Price': 180}]"
      ]
     },
     "metadata": {},
     "output_type": "display_data"
    }
   ],
   "source": [
    "run(\"\"\"\n",
    "SELECT Name, Price \n",
    "FROM Products\n",
    "WHERE Price BETWEEN 60 AND 200\n",
    "\"\"\")"
   ]
  },
  {
   "attachments": {},
   "cell_type": "markdown",
   "metadata": {},
   "source": [
    "## 1.5 Select the name and price in cents (i.e., the price must be multiplied by 100)."
   ]
  },
  {
   "cell_type": "code",
   "execution_count": 123,
   "metadata": {},
   "outputs": [
    {
     "data": {
      "text/plain": [
       "[{'Name': 'Hard drive', 'Price_in_cents': 24000},\n",
       " {'Name': 'Memory', 'Price_in_cents': 12000},\n",
       " {'Name': 'ZIP drive', 'Price_in_cents': 15000},\n",
       " {'Name': 'Floppy disk', 'Price_in_cents': 500},\n",
       " {'Name': 'Monitor', 'Price_in_cents': 24000},\n",
       " {'Name': 'DVD drive', 'Price_in_cents': 18000},\n",
       " {'Name': 'CD drive', 'Price_in_cents': 9000},\n",
       " {'Name': 'Printer', 'Price_in_cents': 27000},\n",
       " {'Name': 'Toner cartridge', 'Price_in_cents': 6600},\n",
       " {'Name': 'DVD burner', 'Price_in_cents': 18000}]"
      ]
     },
     "metadata": {},
     "output_type": "display_data"
    }
   ],
   "source": [
    "run(\"\"\"\n",
    "SELECT Name, Price*100 AS Price_in_cents\n",
    "FROM Products\n",
    "\"\"\")"
   ]
  },
  {
   "attachments": {},
   "cell_type": "markdown",
   "metadata": {},
   "source": [
    "## 1.6 Compute the average price of all the products.\n",
    "\n"
   ]
  },
  {
   "cell_type": "code",
   "execution_count": 124,
   "metadata": {},
   "outputs": [
    {
     "data": {
      "text/plain": [
       "[{'Average_Price': 154.1}]"
      ]
     },
     "metadata": {},
     "output_type": "display_data"
    }
   ],
   "source": [
    "run(\"\"\"\n",
    "SELECT AVG(Price) AS Average_Price\n",
    "FROM Products; \n",
    "\"\"\")"
   ]
  },
  {
   "attachments": {},
   "cell_type": "markdown",
   "metadata": {},
   "source": [
    "## 1.7 Compute the average price of all products with manufacturer code equal to 2."
   ]
  },
  {
   "cell_type": "code",
   "execution_count": 125,
   "metadata": {},
   "outputs": [
    {
     "data": {
      "text/plain": [
       "[{'Average_Price': 150.0}]"
      ]
     },
     "metadata": {},
     "output_type": "display_data"
    }
   ],
   "source": [
    "run(\"\"\"\n",
    "SELECT AVG(Price) AS Average_Price\n",
    "FROM Products\n",
    "WHERE Manufacturer = 2; \n",
    "\"\"\")"
   ]
  },
  {
   "attachments": {},
   "cell_type": "markdown",
   "metadata": {},
   "source": [
    "## 1.8 Compute the number of products with a price larger than or equal to $180.\n",
    "\n"
   ]
  },
  {
   "cell_type": "code",
   "execution_count": 126,
   "metadata": {},
   "outputs": [
    {
     "data": {
      "text/plain": [
       "[{'count(*)': 5}]"
      ]
     },
     "metadata": {},
     "output_type": "display_data"
    }
   ],
   "source": [
    "run(\"\"\"\n",
    "SELECT count(*)\n",
    "FROM Products\n",
    "Where Price >= 180\n",
    ";\n",
    "\"\"\")"
   ]
  },
  {
   "attachments": {},
   "cell_type": "markdown",
   "metadata": {},
   "source": [
    "## 1.9 Select the name and price of all products with a price larger than or equal to $180, and sort first by price (in descending order), and then by name (in ascending order)."
   ]
  },
  {
   "cell_type": "code",
   "execution_count": 127,
   "metadata": {},
   "outputs": [
    {
     "data": {
      "text/plain": [
       "[{'Name': 'Printer', 'Price': 270},\n",
       " {'Name': 'Hard drive', 'Price': 240},\n",
       " {'Name': 'Monitor', 'Price': 240},\n",
       " {'Name': 'DVD drive', 'Price': 180},\n",
       " {'Name': 'DVD burner', 'Price': 180}]"
      ]
     },
     "metadata": {},
     "output_type": "display_data"
    },
    {
     "data": {
      "text/plain": [
       "[{'Name': 'DVD burner', 'Price': 180},\n",
       " {'Name': 'DVD drive', 'Price': 180},\n",
       " {'Name': 'Hard drive', 'Price': 240},\n",
       " {'Name': 'Monitor', 'Price': 240},\n",
       " {'Name': 'Printer', 'Price': 270}]"
      ]
     },
     "metadata": {},
     "output_type": "display_data"
    }
   ],
   "source": [
    "run(\"\"\"\n",
    "SELECT Name, Price\n",
    "FROM Products\n",
    "Where Price >= 180\n",
    "ORDER BY Price DESC;\n",
    "\"\"\")\n",
    "\n",
    "run(\"\"\"\n",
    "SELECT Name, Price\n",
    "FROM Products\n",
    "Where Price >= 180\n",
    "ORDER BY Name;\n",
    "\"\"\")"
   ]
  },
  {
   "attachments": {},
   "cell_type": "markdown",
   "metadata": {},
   "source": [
    "## 1.10 Select all the data from the products, including all the data for each product's manufacturer."
   ]
  },
  {
   "cell_type": "code",
   "execution_count": 128,
   "metadata": {},
   "outputs": [
    {
     "data": {
      "text/plain": [
       "[{'Code': 5, 'Name': 'Fujitsu', 'Price': 240, 'Manufacturer': 5},\n",
       " {'Code': 6, 'Name': 'Winchester', 'Price': 120, 'Manufacturer': 6},\n",
       " {'Code': 4, 'Name': 'Iomega', 'Price': 150, 'Manufacturer': 4},\n",
       " {'Code': 6, 'Name': 'Winchester', 'Price': 5, 'Manufacturer': 6},\n",
       " {'Code': 1, 'Name': 'Sony', 'Price': 240, 'Manufacturer': 1},\n",
       " {'Code': 2, 'Name': 'Creative Labs', 'Price': 180, 'Manufacturer': 2},\n",
       " {'Code': 2, 'Name': 'Creative Labs', 'Price': 90, 'Manufacturer': 2},\n",
       " {'Code': 3, 'Name': 'Hewlett-Packard', 'Price': 270, 'Manufacturer': 3},\n",
       " {'Code': 3, 'Name': 'Hewlett-Packard', 'Price': 66, 'Manufacturer': 3},\n",
       " {'Code': 2, 'Name': 'Creative Labs', 'Price': 180, 'Manufacturer': 2}]"
      ]
     },
     "metadata": {},
     "output_type": "display_data"
    }
   ],
   "source": [
    "run(\"\"\"\n",
    "SELECT * \n",
    "FROM Products\n",
    "JOIN Manufacturers\n",
    "ON Manufacturers.Code = Products.Manufacturer\n",
    "\"\"\")\n"
   ]
  },
  {
   "attachments": {},
   "cell_type": "markdown",
   "metadata": {},
   "source": [
    "## 1.11 Select the product name, price, and manufacturer name of all the products.\n"
   ]
  },
  {
   "cell_type": "code",
   "execution_count": 135,
   "metadata": {},
   "outputs": [
    {
     "data": {
      "text/plain": [
       "[{'Name': 'Hard drive', 'Price': 240, 'Code': 5, 'MName': 'Fujitsu'},\n",
       " {'Name': 'Memory', 'Price': 120, 'Code': 6, 'MName': 'Winchester'},\n",
       " {'Name': 'ZIP drive', 'Price': 150, 'Code': 4, 'MName': 'Iomega'},\n",
       " {'Name': 'Floppy disk', 'Price': 5, 'Code': 6, 'MName': 'Winchester'},\n",
       " {'Name': 'Monitor', 'Price': 240, 'Code': 1, 'MName': 'Sony'},\n",
       " {'Name': 'DVD drive', 'Price': 180, 'Code': 2, 'MName': 'Creative Labs'},\n",
       " {'Name': 'CD drive', 'Price': 90, 'Code': 2, 'MName': 'Creative Labs'},\n",
       " {'Name': 'Printer', 'Price': 270, 'Code': 3, 'MName': 'Hewlett-Packard'},\n",
       " {'Name': 'Toner cartridge',\n",
       "  'Price': 66,\n",
       "  'Code': 3,\n",
       "  'MName': 'Hewlett-Packard'},\n",
       " {'Name': 'DVD burner', 'Price': 180, 'Code': 2, 'MName': 'Creative Labs'}]"
      ]
     },
     "metadata": {},
     "output_type": "display_data"
    }
   ],
   "source": [
    "run(\"\"\"\n",
    "SELECT P.Name, P.Price, M.Code, M.Name AS MName\n",
    "FROM Products P\n",
    "JOIN Manufacturers M\n",
    "ON P.Manufacturer = M.Code\n",
    ";\"\"\")"
   ]
  },
  {
   "attachments": {},
   "cell_type": "markdown",
   "metadata": {},
   "source": [
    "## 1.12 Select the average price of each manufacturer's products, showing only the manufacturer's code."
   ]
  },
  {
   "cell_type": "code",
   "execution_count": 138,
   "metadata": {},
   "outputs": [
    {
     "data": {
      "text/plain": [
       "[{'Code': 6, 'AVG(P.Price)': 62.5},\n",
       " {'Code': 2, 'AVG(P.Price)': 150.0},\n",
       " {'Code': 4, 'AVG(P.Price)': 150.0},\n",
       " {'Code': 3, 'AVG(P.Price)': 168.0},\n",
       " {'Code': 1, 'AVG(P.Price)': 240.0},\n",
       " {'Code': 5, 'AVG(P.Price)': 240.0}]"
      ]
     },
     "metadata": {},
     "output_type": "display_data"
    }
   ],
   "source": [
    "run(\"\"\"\n",
    "SELECT M.Code, AVG(P.Price)\n",
    "FROM Products P\n",
    "JOIN Manufacturers M\n",
    "ON P.Manufacturer = M.Code\n",
    "GROUP BY M.Code\n",
    "ORDER BY AVG(P.Price)\n",
    ";\"\"\")"
   ]
  },
  {
   "attachments": {},
   "cell_type": "markdown",
   "metadata": {},
   "source": [
    "## 1.13 Select the average price of each manufacturer's products, showing the manufacturer's name."
   ]
  },
  {
   "cell_type": "code",
   "execution_count": 140,
   "metadata": {},
   "outputs": [
    {
     "data": {
      "text/plain": [
       "[{'Name': 'Winchester', 'AVG(P.Price)': 62.5},\n",
       " {'Name': 'Creative Labs', 'AVG(P.Price)': 150.0},\n",
       " {'Name': 'Iomega', 'AVG(P.Price)': 150.0},\n",
       " {'Name': 'Hewlett-Packard', 'AVG(P.Price)': 168.0},\n",
       " {'Name': 'Sony', 'AVG(P.Price)': 240.0},\n",
       " {'Name': 'Fujitsu', 'AVG(P.Price)': 240.0}]"
      ]
     },
     "metadata": {},
     "output_type": "display_data"
    }
   ],
   "source": [
    "run(\"\"\"\n",
    "SELECT M.Name, AVG(P.Price)\n",
    "FROM Products P\n",
    "JOIN Manufacturers M\n",
    "ON P.Manufacturer = M.Code\n",
    "GROUP BY M.Code\n",
    "ORDER BY AVG(P.Price)\n",
    ";\"\"\")"
   ]
  },
  {
   "attachments": {},
   "cell_type": "markdown",
   "metadata": {},
   "source": [
    "## 1.14 Select the names of manufacturer whose products have an average price larger than or equal to $150."
   ]
  },
  {
   "cell_type": "code",
   "execution_count": 142,
   "metadata": {},
   "outputs": [
    {
     "data": {
      "text/plain": [
       "[{'Name': 'Sony'},\n",
       " {'Name': 'Creative Labs'},\n",
       " {'Name': 'Hewlett-Packard'},\n",
       " {'Name': 'Iomega'},\n",
       " {'Name': 'Fujitsu'}]"
      ]
     },
     "metadata": {},
     "output_type": "display_data"
    }
   ],
   "source": [
    "run(\"\"\"\n",
    "SELECT M.Name\n",
    "FROM Products P\n",
    "JOIN Manufacturers M\n",
    "ON P.Manufacturer = M.Code\n",
    "WHERE P.Price >= 150\n",
    "GROUP BY M.Code\n",
    ";\"\"\")"
   ]
  },
  {
   "attachments": {},
   "cell_type": "markdown",
   "metadata": {},
   "source": [
    "## 1.15 Select the name and price of the cheapest product.\n",
    "\n"
   ]
  },
  {
   "cell_type": "code",
   "execution_count": 143,
   "metadata": {},
   "outputs": [
    {
     "data": {
      "text/plain": [
       "[{'Name': 'Floppy disk', 'Price': 5}]"
      ]
     },
     "metadata": {},
     "output_type": "display_data"
    }
   ],
   "source": [
    "run(\"\"\"\n",
    "SELECT P.Name, P.Price\n",
    "FROM Products P\n",
    "ORDER BY Price LIMIT 1\n",
    ";\"\"\")"
   ]
  },
  {
   "attachments": {},
   "cell_type": "markdown",
   "metadata": {},
   "source": [
    "## 1.16 Select the name of each manufacturer along with the name and price of its most expensive product."
   ]
  },
  {
   "cell_type": "code",
   "execution_count": 149,
   "metadata": {},
   "outputs": [
    {
     "data": {
      "text/plain": [
       "[{'Name': 'Creative Labs', 'PName': 'DVD drive', 'Price': 180},\n",
       " {'Name': 'Fujitsu', 'PName': 'Hard drive', 'Price': 240},\n",
       " {'Name': 'Hewlett-Packard', 'PName': 'Printer', 'Price': 270},\n",
       " {'Name': 'Iomega', 'PName': 'ZIP drive', 'Price': 150},\n",
       " {'Name': 'Sony', 'PName': 'Monitor', 'Price': 240},\n",
       " {'Name': 'Winchester', 'PName': 'Memory', 'Price': 120}]"
      ]
     },
     "metadata": {},
     "output_type": "display_data"
    }
   ],
   "source": [
    "run(\"\"\"\n",
    "SELECT M.Name, P.Name AS PName, P.Price\n",
    "FROM Products P\n",
    "JOIN Manufacturers M\n",
    "ON P.Manufacturer = M.Code\n",
    "WHERE MAX(M.Code, P.Price)\n",
    "GROUP BY M.Name\n",
    ";\"\"\")"
   ]
  },
  {
   "attachments": {},
   "cell_type": "markdown",
   "metadata": {},
   "source": [
    "## 1.17 Add a new product: Loudspeakers, $70, manufacturer 2."
   ]
  },
  {
   "cell_type": "code",
   "execution_count": 150,
   "metadata": {},
   "outputs": [
    {
     "data": {
      "text/plain": [
       "[]"
      ]
     },
     "metadata": {},
     "output_type": "display_data"
    }
   ],
   "source": [
    "run(\"\"\"\n",
    "    INSERT INTO Products(Name, Price, Manufacturer)\n",
    "    VALUES('Loudspeakers', 70, 2)\n",
    ";\"\"\")"
   ]
  },
  {
   "attachments": {},
   "cell_type": "markdown",
   "metadata": {},
   "source": [
    "## 1.18 Update the name of product 8 to \"Laser Printer\"."
   ]
  },
  {
   "cell_type": "code",
   "execution_count": 151,
   "metadata": {},
   "outputs": [
    {
     "data": {
      "text/plain": [
       "[]"
      ]
     },
     "metadata": {},
     "output_type": "display_data"
    }
   ],
   "source": [
    "run(\"\"\"\n",
    "    UPDATE Products\n",
    "    SET Name = 'Laser Printer'\n",
    "    WHERE Code = 8\n",
    ";\"\"\")"
   ]
  },
  {
   "attachments": {},
   "cell_type": "markdown",
   "metadata": {},
   "source": [
    "## 1.19 Apply a 10% discount to all products."
   ]
  },
  {
   "cell_type": "code",
   "execution_count": 153,
   "metadata": {},
   "outputs": [
    {
     "data": {
      "text/plain": [
       "[]"
      ]
     },
     "metadata": {},
     "output_type": "display_data"
    }
   ],
   "source": [
    "run(\"\"\"\n",
    "    UPDATE Products\n",
    "    SET Price = ROUND(Price*.9, 2)\n",
    ";\"\"\")"
   ]
  },
  {
   "attachments": {},
   "cell_type": "markdown",
   "metadata": {},
   "source": [
    "## 1.20 Apply a 10% discount to all products with a price larger than or equal to $120."
   ]
  },
  {
   "cell_type": "code",
   "execution_count": 154,
   "metadata": {},
   "outputs": [
    {
     "data": {
      "text/plain": [
       "[]"
      ]
     },
     "metadata": {},
     "output_type": "display_data"
    }
   ],
   "source": [
    "run(\"\"\"\n",
    "    UPDATE Products\n",
    "    SET Price = ROUND(Price*.9, 2)\n",
    "    WHERE Price >= 120\n",
    ";\"\"\")"
   ]
  }
 ],
 "metadata": {
  "kernelspec": {
   "display_name": "base",
   "language": "python",
   "name": "python3"
  },
  "language_info": {
   "codemirror_mode": {
    "name": "ipython",
    "version": 3
   },
   "file_extension": ".py",
   "mimetype": "text/x-python",
   "name": "python",
   "nbconvert_exporter": "python",
   "pygments_lexer": "ipython3",
   "version": "3.9.13"
  },
  "orig_nbformat": 4
 },
 "nbformat": 4,
 "nbformat_minor": 2
}
