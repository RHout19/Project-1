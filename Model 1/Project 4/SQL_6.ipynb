{
 "cells": [
  {
   "cell_type": "code",
   "execution_count": 8,
   "metadata": {},
   "outputs": [],
   "source": [
    "import sqlite3\n",
    "con = sqlite3.connect(\"SQL_6.db\")\n",
    "cur = con.cursor()"
   ]
  },
  {
   "cell_type": "code",
   "execution_count": 9,
   "metadata": {},
   "outputs": [
    {
     "data": {
      "text/plain": [
       "<sqlite3.Cursor at 0x21d3630b030>"
      ]
     },
     "execution_count": 9,
     "metadata": {},
     "output_type": "execute_result"
    }
   ],
   "source": [
    "cur.execute(\"DROP TABLE IF EXISTS Scientists\")\n",
    "cur.execute(\"DROP TABLE IF EXISTS Projects\")\n",
    "cur.execute(\"DROP TABLE IF EXISTS AssignedTo\")"
   ]
  },
  {
   "cell_type": "code",
   "execution_count": 10,
   "metadata": {},
   "outputs": [
    {
     "data": {
      "text/plain": [
       "<sqlite3.Cursor at 0x21d3630b030>"
      ]
     },
     "execution_count": 10,
     "metadata": {},
     "output_type": "execute_result"
    }
   ],
   "source": [
    "cur.execute(\"\"\"\n",
    "CREATE TABLE Scientists (\n",
    "  SSN int,\n",
    "  Name Char(30) not null,\n",
    "  Primary Key (SSN)\n",
    ");\n",
    " \"\"\")\n",
    "\n",
    "cur.execute(\"\"\"\n",
    "CREATE TABLE Projects (\n",
    "  Code Char(4),\n",
    "  Name Char(50) not null,\n",
    "  Hours int,\n",
    "  Primary Key (Code) \n",
    " );\n",
    " \"\"\")\n",
    "\n",
    "cur.execute(\"\"\"\n",
    "CREATE TABLE AssignedTo (\n",
    "  Scientist int not null,\n",
    "  Project char(4) not null,\n",
    "  Primary Key (Scientist, Project)\n",
    " );\n",
    " \"\"\")"
   ]
  },
  {
   "cell_type": "code",
   "execution_count": 11,
   "metadata": {},
   "outputs": [
    {
     "data": {
      "text/plain": [
       "<sqlite3.Cursor at 0x21d3630b030>"
      ]
     },
     "execution_count": 11,
     "metadata": {},
     "output_type": "execute_result"
    }
   ],
   "source": [
    "cur.executescript(\"\"\"\n",
    "INSERT INTO Scientists(SSN,Name) \n",
    "VALUES(123234877,'Michael Rogers'),\n",
    "(152934485,'Anand Manikutty'),\n",
    "(222364883, 'Carol Smith'),\n",
    "(326587417,'Joe Stevens'),\n",
    "(332154719,'Mary-Anne Foster'),\t\n",
    "(332569843,'George ODonnell'),\n",
    "(546523478,'John Doe'),\n",
    "(631231482,'David Smith'),\n",
    "(654873219,'Zacary Efron'),\n",
    "(745685214,'Eric Goldsmith'),\n",
    "(845657245,'Elizabeth Doe'),\n",
    "(845657246,'Kumar Swamy');\n",
    "\n",
    "INSERT INTO Projects ( Code,Name,Hours)\n",
    "VALUES ('AeH1','Winds: Studying Bernoullis Principle', 156),\n",
    "('AeH2','Aerodynamics and Bridge Design',189),\n",
    "('AeH3','Aerodynamics and Gas Mileage', 256),\n",
    "('AeH4','Aerodynamics and Ice Hockey', 789),\n",
    "('AeH5','Aerodynamics of a Football', 98),\n",
    "('AeH6','Aerodynamics of Air Hockey',89),\n",
    "('Ast1','A Matter of Time',112),\n",
    "('Ast2','A Puzzling Parallax', 299),\n",
    "('Ast3','Build Your Own Telescope', 6546),\n",
    "('Bte1','Juicy: Extracting Apple Juice with Pectinase', 321),\n",
    "('Bte2','A Magnetic Primer Designer', 9684),\n",
    "('Bte3','Bacterial Transformation Efficiency', 321),\n",
    "('Che1','A Silver-Cleaning Battery', 545),\n",
    "('Che2','A Soluble Separation Solution', 778);\n",
    "\n",
    "INSERT INTO AssignedTo ( Scientist, Project)\n",
    "VALUES (123234877,'AeH1'),\n",
    "(152934485,'AeH3'),\n",
    "(222364883,'Ast3'),\t   \n",
    "(326587417,'Ast3'),\n",
    "(332154719,'Bte1'),\n",
    "(546523478,'Che1'),\n",
    "(631231482,'Ast3'),\n",
    "(654873219,'Che1'),\n",
    "(745685214,'AeH3'),\n",
    "(845657245,'Ast1'),\n",
    "(845657246,'Ast2'),\n",
    "(332569843,'AeH4');\n",
    "\"\"\")"
   ]
  },
  {
   "cell_type": "code",
   "execution_count": 12,
   "metadata": {},
   "outputs": [],
   "source": [
    "def run(cmd):\n",
    "    r = cur.execute(cmd)\n",
    "    display(r.fetchall())"
   ]
  },
  {
   "attachments": {},
   "cell_type": "markdown",
   "metadata": {},
   "source": [
    "## 6.1 List all the scientists' names, their projects' names, \n",
    "### and the hours worked by that scientist on each project, \n",
    " ### in alphabetical order of project name, then scientist name."
   ]
  },
  {
   "cell_type": "code",
   "execution_count": 17,
   "metadata": {},
   "outputs": [
    {
     "data": {
      "text/plain": [
       "[('A Matter of Time', 'Elizabeth Doe', 112),\n",
       " ('A Puzzling Parallax', 'Kumar Swamy', 299),\n",
       " ('A Silver-Cleaning Battery', 'John Doe', 545),\n",
       " ('A Silver-Cleaning Battery', 'Zacary Efron', 545),\n",
       " ('Aerodynamics and Gas Mileage', 'Anand Manikutty', 256),\n",
       " ('Aerodynamics and Gas Mileage', 'Eric Goldsmith', 256),\n",
       " ('Aerodynamics and Ice Hockey', 'George ODonnell', 789),\n",
       " ('Build Your Own Telescope', 'Carol Smith', 6546),\n",
       " ('Build Your Own Telescope', 'David Smith', 6546),\n",
       " ('Build Your Own Telescope', 'Joe Stevens', 6546),\n",
       " ('Juicy: Extracting Apple Juice with Pectinase', 'Mary-Anne Foster', 321),\n",
       " ('Winds: Studying Bernoullis Principle', 'Michael Rogers', 156)]"
      ]
     },
     "metadata": {},
     "output_type": "display_data"
    }
   ],
   "source": [
    "run(\"\"\"\n",
    "SELECT P.Name, S.Name, P.Hours\n",
    "FROM Scientists S\n",
    "JOIN ASSIGNEDTO A\n",
    "ON S.SSN = A.Scientist\n",
    "JOIN Projects P\n",
    "ON P.Code = A.Project\n",
    "ORDER BY P.Name, S.Name\n",
    ";\"\"\")"
   ]
  },
  {
   "attachments": {},
   "cell_type": "markdown",
   "metadata": {},
   "source": [
    "## 6.2 Select the project names which are not assigned yet"
   ]
  },
  {
   "cell_type": "code",
   "execution_count": 29,
   "metadata": {},
   "outputs": [
    {
     "data": {
      "text/plain": [
       "[('Aerodynamics and Bridge Design',),\n",
       " ('Aerodynamics of a Football',),\n",
       " ('Aerodynamics of Air Hockey',),\n",
       " ('A Magnetic Primer Designer',),\n",
       " ('Bacterial Transformation Efficiency',),\n",
       " ('A Soluble Separation Solution',)]"
      ]
     },
     "metadata": {},
     "output_type": "display_data"
    }
   ],
   "source": [
    "run(\"\"\"\n",
    "SELECT P.Name\n",
    "FROM Assignedto A \n",
    "RIGHT JOIN Projects P\n",
    "ON P.Code = A.Project\n",
    "WHERE A.Project IS NULL\n",
    ";\"\"\")"
   ]
  },
  {
   "cell_type": "code",
   "execution_count": 6,
   "metadata": {},
   "outputs": [],
   "source": [
    "con.close()"
   ]
  }
 ],
 "metadata": {
  "kernelspec": {
   "display_name": "base",
   "language": "python",
   "name": "python3"
  },
  "language_info": {
   "codemirror_mode": {
    "name": "ipython",
    "version": 3
   },
   "file_extension": ".py",
   "mimetype": "text/x-python",
   "name": "python",
   "nbconvert_exporter": "python",
   "pygments_lexer": "ipython3",
   "version": "3.9.13"
  },
  "orig_nbformat": 4
 },
 "nbformat": 4,
 "nbformat_minor": 2
}
