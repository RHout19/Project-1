{
 "cells": [
  {
   "cell_type": "code",
   "execution_count": 28,
   "metadata": {},
   "outputs": [],
   "source": [
    "import sqlite3\n",
    "con = sqlite3.connect(\"SQL_3.db\")\n",
    "cur = con.cursor()"
   ]
  },
  {
   "cell_type": "code",
   "execution_count": 29,
   "metadata": {},
   "outputs": [
    {
     "data": {
      "text/plain": [
       "<sqlite3.Cursor at 0x272331417a0>"
      ]
     },
     "execution_count": 29,
     "metadata": {},
     "output_type": "execute_result"
    }
   ],
   "source": [
    "cur.execute(\"DROP TABLE IF EXISTS Warehouses\")\n",
    "cur.execute(\"DROP TABLE IF EXISTS Boxes\")"
   ]
  },
  {
   "cell_type": "code",
   "execution_count": 30,
   "metadata": {},
   "outputs": [
    {
     "data": {
      "text/plain": [
       "<sqlite3.Cursor at 0x272331417a0>"
      ]
     },
     "execution_count": 30,
     "metadata": {},
     "output_type": "execute_result"
    }
   ],
   "source": [
    "cur.execute(\"\"\"\n",
    "    CREATE TABLE Warehouses (\n",
    "        Code INTEGER NOT NULL,\n",
    "        Location VARCHAR(255) NOT NULL ,\n",
    "        Capacity INTEGER NOT NULL,\n",
    "        PRIMARY KEY (Code)\n",
    ");\n",
    "\"\"\")\n",
    "\n",
    "cur.execute(\"\"\"\n",
    "    CREATE TABLE Boxes (\n",
    "        Code CHAR(4) NOT NULL,\n",
    "        Contents VARCHAR(255) NOT NULL ,\n",
    "        Value REAL NOT NULL ,\n",
    "        Warehouse INTEGER NOT NULL,\n",
    "        PRIMARY KEY (Code)\n",
    ");\n",
    "\"\"\")"
   ]
  },
  {
   "cell_type": "code",
   "execution_count": 31,
   "metadata": {},
   "outputs": [
    {
     "data": {
      "text/plain": [
       "<sqlite3.Cursor at 0x272331417a0>"
      ]
     },
     "execution_count": 31,
     "metadata": {},
     "output_type": "execute_result"
    }
   ],
   "source": [
    "cur.executescript(\"\"\"\n",
    " INSERT INTO Warehouses(Code,Location,Capacity) VALUES(1,'Chicago',3);\n",
    " INSERT INTO Warehouses(Code,Location,Capacity) VALUES(2,'Chicago',4);\n",
    " INSERT INTO Warehouses(Code,Location,Capacity) VALUES(3,'New York',7);\n",
    " INSERT INTO Warehouses(Code,Location,Capacity) VALUES(4,'Los Angeles',2);\n",
    " INSERT INTO Warehouses(Code,Location,Capacity) VALUES(5,'San Francisco',8);\n",
    " \n",
    " INSERT INTO Boxes(Code,Contents,Value,Warehouse) VALUES('0MN7','Rocks',180,3);\n",
    " INSERT INTO Boxes(Code,Contents,Value,Warehouse) VALUES('4H8P','Rocks',250,1);\n",
    " INSERT INTO Boxes(Code,Contents,Value,Warehouse) VALUES('4RT3','Scissors',190,4);\n",
    " INSERT INTO Boxes(Code,Contents,Value,Warehouse) VALUES('7G3H','Rocks',200,1);\n",
    " INSERT INTO Boxes(Code,Contents,Value,Warehouse) VALUES('8JN6','Papers',75,1);\n",
    " INSERT INTO Boxes(Code,Contents,Value,Warehouse) VALUES('8Y6U','Papers',50,3);\n",
    " INSERT INTO Boxes(Code,Contents,Value,Warehouse) VALUES('9J6F','Papers',175,2);\n",
    " INSERT INTO Boxes(Code,Contents,Value,Warehouse) VALUES('LL08','Rocks',140,4);\n",
    " INSERT INTO Boxes(Code,Contents,Value,Warehouse) VALUES('P0H6','Scissors',125,1);\n",
    " INSERT INTO Boxes(Code,Contents,Value,Warehouse) VALUES('P2T6','Scissors',150,2);\n",
    " INSERT INTO Boxes(Code,Contents,Value,Warehouse) VALUES('TU55','Papers',90,5);\n",
    "\"\"\")"
   ]
  },
  {
   "cell_type": "code",
   "execution_count": 32,
   "metadata": {},
   "outputs": [],
   "source": [
    "def run(cmd):\n",
    "    r = cur.execute(cmd)\n",
    "    display(r.fetchall())"
   ]
  },
  {
   "attachments": {},
   "cell_type": "markdown",
   "metadata": {},
   "source": [
    "## 3.1 Select all warehouses."
   ]
  },
  {
   "cell_type": "code",
   "execution_count": 33,
   "metadata": {},
   "outputs": [
    {
     "data": {
      "text/plain": [
       "[('Chicago',),\n",
       " ('Chicago',),\n",
       " ('New York',),\n",
       " ('Los Angeles',),\n",
       " ('San Francisco',)]"
      ]
     },
     "metadata": {},
     "output_type": "display_data"
    }
   ],
   "source": [
    "run(\"\"\"\n",
    "SELECT Location \n",
    "FROM Warehouses\n",
    "\"\"\")"
   ]
  },
  {
   "attachments": {},
   "cell_type": "markdown",
   "metadata": {},
   "source": [
    "## 3.2 Select all boxes with a value larger than $150.\n"
   ]
  },
  {
   "cell_type": "code",
   "execution_count": 34,
   "metadata": {},
   "outputs": [
    {
     "data": {
      "text/plain": [
       "[('0MN7', 'Rocks'),\n",
       " ('4H8P', 'Rocks'),\n",
       " ('4RT3', 'Scissors'),\n",
       " ('7G3H', 'Rocks'),\n",
       " ('9J6F', 'Papers')]"
      ]
     },
     "metadata": {},
     "output_type": "display_data"
    }
   ],
   "source": [
    "run(\"\"\"\n",
    "SELECT Code, Contents \n",
    "FROM Boxes\n",
    "WHERE Value > 150\n",
    "\"\"\")"
   ]
  },
  {
   "attachments": {},
   "cell_type": "markdown",
   "metadata": {},
   "source": [
    "## 3.3 Select all distinct contents in all the boxes."
   ]
  },
  {
   "cell_type": "code",
   "execution_count": 35,
   "metadata": {},
   "outputs": [
    {
     "data": {
      "text/plain": [
       "[('Rocks',), ('Scissors',), ('Papers',)]"
      ]
     },
     "metadata": {},
     "output_type": "display_data"
    }
   ],
   "source": [
    "run(\"\"\"\n",
    "SELECT DISTINCT(Contents) \n",
    "FROM Boxes\n",
    ";\n",
    "\"\"\")"
   ]
  },
  {
   "attachments": {},
   "cell_type": "markdown",
   "metadata": {},
   "source": [
    "## 3.4 Select the average value of all the boxes."
   ]
  },
  {
   "cell_type": "code",
   "execution_count": 36,
   "metadata": {},
   "outputs": [
    {
     "data": {
      "text/plain": [
       "[(147.73,)]"
      ]
     },
     "metadata": {},
     "output_type": "display_data"
    }
   ],
   "source": [
    "run(\"\"\"\n",
    "SELECT ROUND(AVG(Value), 2) \n",
    "FROM Boxes\n",
    ";\n",
    "\"\"\")"
   ]
  },
  {
   "attachments": {},
   "cell_type": "markdown",
   "metadata": {},
   "source": [
    "## 3.5 Select the warehouse code and the average value of the boxes in each warehouse."
   ]
  },
  {
   "cell_type": "code",
   "execution_count": 37,
   "metadata": {},
   "outputs": [
    {
     "data": {
      "text/plain": [
       "[(1, 162.5), (2, 162.5), (3, 115.0), (4, 165.0), (5, 90.0)]"
      ]
     },
     "metadata": {},
     "output_type": "display_data"
    }
   ],
   "source": [
    "run(\"\"\"\n",
    "SELECT Warehouse, ROUND(AVG(Value), 2) \n",
    "FROM Boxes\n",
    "GROUP BY Warehouse\n",
    ";\n",
    "\"\"\")"
   ]
  },
  {
   "attachments": {},
   "cell_type": "markdown",
   "metadata": {},
   "source": [
    "## 3.6 Same as previous exercise, but select only those warehouses where the average value of the boxes is greater than 150.\n"
   ]
  },
  {
   "cell_type": "code",
   "execution_count": 38,
   "metadata": {},
   "outputs": [
    {
     "data": {
      "text/plain": [
       "[(1, 225.0), (2, 175.0), (3, 180.0), (4, 190.0)]"
      ]
     },
     "metadata": {},
     "output_type": "display_data"
    }
   ],
   "source": [
    "run(\"\"\"\n",
    "SELECT Warehouse, ROUND(AVG(Value), 2) \n",
    "FROM Boxes\n",
    "WHERE Value > 150\n",
    "GROUP BY Warehouse\n",
    ";\n",
    "\"\"\")"
   ]
  },
  {
   "attachments": {},
   "cell_type": "markdown",
   "metadata": {},
   "source": [
    "## 3.7 Select the code of each box, along with the name of the city the box is located in."
   ]
  },
  {
   "cell_type": "code",
   "execution_count": 39,
   "metadata": {},
   "outputs": [
    {
     "data": {
      "text/plain": [
       "[('0MN7', 'New York'),\n",
       " ('4H8P', 'Chicago'),\n",
       " ('4RT3', 'Los Angeles'),\n",
       " ('7G3H', 'Chicago'),\n",
       " ('8JN6', 'Chicago'),\n",
       " ('8Y6U', 'New York'),\n",
       " ('9J6F', 'Chicago'),\n",
       " ('LL08', 'Los Angeles'),\n",
       " ('P0H6', 'Chicago'),\n",
       " ('P2T6', 'Chicago'),\n",
       " ('TU55', 'San Francisco')]"
      ]
     },
     "metadata": {},
     "output_type": "display_data"
    }
   ],
   "source": [
    "run(\"\"\"\n",
    "SELECT B.Code, W.Location \n",
    "FROM Boxes B\n",
    "JOIN Warehouses W\n",
    "ON B.Warehouse = W.Code\n",
    ";\n",
    "\"\"\")"
   ]
  },
  {
   "attachments": {},
   "cell_type": "markdown",
   "metadata": {},
   "source": [
    "## 3.8 Select the warehouse codes, along with the number of boxes in each warehouse. "
   ]
  },
  {
   "cell_type": "code",
   "execution_count": 40,
   "metadata": {},
   "outputs": [
    {
     "data": {
      "text/plain": [
       "[(1, 4), (2, 2), (3, 2), (4, 2), (5, 1)]"
      ]
     },
     "metadata": {},
     "output_type": "display_data"
    }
   ],
   "source": [
    "run(\"\"\"\n",
    "SELECT Warehouse, COUNT(Warehouse) \n",
    "FROM Boxes \n",
    "GROUP BY Warehouse\n",
    ";\"\"\")"
   ]
  },
  {
   "attachments": {},
   "cell_type": "markdown",
   "metadata": {},
   "source": [
    "## 3.9 Select the codes of all warehouses that are saturated (a warehouse is saturated if the number of boxes in it is larger than the warehouse's capacity).\n"
   ]
  },
  {
   "cell_type": "code",
   "execution_count": 44,
   "metadata": {},
   "outputs": [
    {
     "data": {
      "text/plain": [
       "[(1, 3, 4)]"
      ]
     },
     "metadata": {},
     "output_type": "display_data"
    }
   ],
   "source": [
    "run(\"\"\"\n",
    "SELECT W.Code, W.Capacity, COUNT(B.Warehouse) AS number_of_boxes\n",
    "FROM Boxes B\n",
    "JOIN Warehouses W\n",
    "ON B.Warehouse = W.Code\n",
    "GROUP BY W.Code\n",
    "HAVING W.Capacity < number_of_boxes\n",
    ";\"\"\")"
   ]
  },
  {
   "cell_type": "code",
   "execution_count": 42,
   "metadata": {},
   "outputs": [
    {
     "data": {
      "text/plain": [
       "[('0MN7', 'Rocks', 180.0, 3, 3, 'New York', 7),\n",
       " ('4H8P', 'Rocks', 250.0, 1, 1, 'Chicago', 3),\n",
       " ('4RT3', 'Scissors', 190.0, 4, 4, 'Los Angeles', 2),\n",
       " ('7G3H', 'Rocks', 200.0, 1, 1, 'Chicago', 3),\n",
       " ('8JN6', 'Papers', 75.0, 1, 1, 'Chicago', 3),\n",
       " ('8Y6U', 'Papers', 50.0, 3, 3, 'New York', 7),\n",
       " ('9J6F', 'Papers', 175.0, 2, 2, 'Chicago', 4),\n",
       " ('LL08', 'Rocks', 140.0, 4, 4, 'Los Angeles', 2),\n",
       " ('P0H6', 'Scissors', 125.0, 1, 1, 'Chicago', 3),\n",
       " ('P2T6', 'Scissors', 150.0, 2, 2, 'Chicago', 4),\n",
       " ('TU55', 'Papers', 90.0, 5, 5, 'San Francisco', 8)]"
      ]
     },
     "metadata": {},
     "output_type": "display_data"
    }
   ],
   "source": [
    "run(\"\"\"\n",
    "SELECT * \n",
    "FROM Boxes B\n",
    "JOIN Warehouses W\n",
    "ON B.Warehouse = W.Code\n",
    ";\n",
    "\"\"\")"
   ]
  },
  {
   "attachments": {},
   "cell_type": "markdown",
   "metadata": {},
   "source": [
    "## 3.10 Select the codes of all the boxes located in Chicago."
   ]
  },
  {
   "cell_type": "code",
   "execution_count": 43,
   "metadata": {},
   "outputs": [
    {
     "data": {
      "text/plain": [
       "[('4H8P', 1), ('7G3H', 1), ('8JN6', 1), ('9J6F', 2), ('P0H6', 1), ('P2T6', 2)]"
      ]
     },
     "metadata": {},
     "output_type": "display_data"
    },
    {
     "data": {
      "text/plain": [
       "[('9J6F',), ('P2T6',)]"
      ]
     },
     "metadata": {},
     "output_type": "display_data"
    }
   ],
   "source": [
    "run(\"\"\"\n",
    "SELECT B.Code, W.Code\n",
    "FROM Boxes B\n",
    "JOIN Warehouses W\n",
    "ON B.Warehouse = W.Code\n",
    "WHERE W.Location = 'Chicago'\n",
    ";\"\"\")"
   ]
  },
  {
   "attachments": {},
   "cell_type": "markdown",
   "metadata": {},
   "source": [
    "## 3.11 Create a new warehouse in New York with a capacity for 3 boxes."
   ]
  },
  {
   "cell_type": "code",
   "execution_count": 17,
   "metadata": {},
   "outputs": [
    {
     "data": {
      "text/plain": [
       "[]"
      ]
     },
     "metadata": {},
     "output_type": "display_data"
    }
   ],
   "source": [
    "run(\"\"\"\n",
    "INSERT INTO Warehouses (Code, Location, Capacity)\n",
    "VALUES (6, 'New York', 3)\n",
    ";\n",
    "\"\"\")"
   ]
  },
  {
   "attachments": {},
   "cell_type": "markdown",
   "metadata": {},
   "source": [
    "## 3.12 Create a new box, with code \"H5RT\", containing \"Papers\" with a value of $200, and located in warehouse 2."
   ]
  },
  {
   "cell_type": "code",
   "execution_count": 18,
   "metadata": {},
   "outputs": [
    {
     "data": {
      "text/plain": [
       "[]"
      ]
     },
     "metadata": {},
     "output_type": "display_data"
    }
   ],
   "source": [
    "run(\"\"\"\n",
    "INSERT INTO Boxes (Code, Contents, Value, Warehouse)\n",
    "VALUES ('H5RT', 'Papers', 200, 2)\n",
    ";\n",
    "\"\"\")"
   ]
  },
  {
   "attachments": {},
   "cell_type": "markdown",
   "metadata": {},
   "source": [
    "## 3.13 Reduce the value of all boxes by 15%.\n"
   ]
  },
  {
   "cell_type": "code",
   "execution_count": 19,
   "metadata": {},
   "outputs": [
    {
     "data": {
      "text/plain": [
       "[]"
      ]
     },
     "metadata": {},
     "output_type": "display_data"
    }
   ],
   "source": [
    "run(\"\"\"\n",
    "UPDATE Boxes \n",
    "SET Value = Value *.85 \n",
    ";\n",
    "\"\"\")"
   ]
  },
  {
   "attachments": {},
   "cell_type": "markdown",
   "metadata": {},
   "source": [
    "## 3.14 Remove all boxes with a value lower than $100.\n"
   ]
  },
  {
   "cell_type": "code",
   "execution_count": 20,
   "metadata": {},
   "outputs": [
    {
     "data": {
      "text/plain": [
       "[]"
      ]
     },
     "metadata": {},
     "output_type": "display_data"
    }
   ],
   "source": [
    "run(\"\"\"\n",
    "DELETE FROM Boxes \n",
    "WHERE Value < 100\n",
    ";\n",
    "\"\"\")"
   ]
  },
  {
   "attachments": {},
   "cell_type": "markdown",
   "metadata": {},
   "source": [
    "## 3.15 Remove all boxes from saturated warehouses."
   ]
  },
  {
   "cell_type": "code",
   "execution_count": 21,
   "metadata": {},
   "outputs": [
    {
     "data": {
      "text/plain": [
       "[]"
      ]
     },
     "metadata": {},
     "output_type": "display_data"
    }
   ],
   "source": [
    "run(\"\"\"\n",
    "DELETE FROM Boxes\n",
    "WHERE Warehouse IN\n",
    "(SELECT Code\n",
    "   \tFROM Warehouses\n",
    "   \tWHERE Capacity <\n",
    "   \t\t(SELECT COUNT(*)\n",
    "       \tFROM Boxes\n",
    "       \tWHERE Warehouse = Warehouses.Code)\n",
    ")\n",
    ";\"\"\")"
   ]
  },
  {
   "cell_type": "code",
   "execution_count": 22,
   "metadata": {},
   "outputs": [
    {
     "data": {
      "text/plain": [
       "[('0MN7', 'Rocks', 153.0, 3, 3, 'New York', 7),\n",
       " ('4H8P', 'Rocks', 212.5, 1, 1, 'Chicago', 3),\n",
       " ('4RT3', 'Scissors', 161.5, 4, 4, 'Los Angeles', 2),\n",
       " ('7G3H', 'Rocks', 170.0, 1, 1, 'Chicago', 3),\n",
       " ('9J6F', 'Papers', 148.75, 2, 2, 'Chicago', 4),\n",
       " ('LL08', 'Rocks', 119.0, 4, 4, 'Los Angeles', 2),\n",
       " ('P0H6', 'Scissors', 106.25, 1, 1, 'Chicago', 3),\n",
       " ('P2T6', 'Scissors', 127.5, 2, 2, 'Chicago', 4),\n",
       " ('H5RT', 'Papers', 170.0, 2, 2, 'Chicago', 4)]"
      ]
     },
     "metadata": {},
     "output_type": "display_data"
    }
   ],
   "source": [
    "run(\"\"\"\n",
    "SELECT * \n",
    "FROM Boxes B\n",
    "JOIN Warehouses W\n",
    "ON B.Warehouse = W.Code\n",
    ";\n",
    "\"\"\")"
   ]
  },
  {
   "attachments": {},
   "cell_type": "markdown",
   "metadata": {},
   "source": [
    "## 3.16 Add Index for column \"Warehouse\" in table \"boxes\"\n",
    "    -- !!!NOTE!!!: index should NOT be used on small tables in practice"
   ]
  },
  {
   "cell_type": "code",
   "execution_count": 47,
   "metadata": {},
   "outputs": [
    {
     "data": {
      "text/plain": [
       "[]"
      ]
     },
     "metadata": {},
     "output_type": "display_data"
    }
   ],
   "source": [
    "run(\"\"\"\n",
    "CREATE INDEX Index_Warehouse\n",
    "ON Boxes (Warehouse)\n",
    ";\"\"\")"
   ]
  },
  {
   "attachments": {},
   "cell_type": "markdown",
   "metadata": {},
   "source": [
    "## 3.17 Print all the existing indexes\n",
    "    -- !!!NOTE!!!: index should NOT be used on small tables in practice\n"
   ]
  },
  {
   "cell_type": "code",
   "execution_count": 48,
   "metadata": {},
   "outputs": [
    {
     "data": {
      "text/plain": [
       "[('index', 'sqlite_autoindex_Boxes_1', 'Boxes', 2, None),\n",
       " ('index',\n",
       "  'Index_Warehouse',\n",
       "  'Boxes',\n",
       "  5,\n",
       "  'CREATE INDEX Index_Warehouse\\nON Boxes (Warehouse)\\n')]"
      ]
     },
     "metadata": {},
     "output_type": "display_data"
    }
   ],
   "source": [
    "run(\"\"\"\n",
    "SELECT * \n",
    "FROM SQLITE_MASTER \n",
    "WHERE type = \"index\";\n",
    "\"\"\")"
   ]
  },
  {
   "attachments": {},
   "cell_type": "markdown",
   "metadata": {},
   "source": [
    "## 3.18 Remove (drop) the index you added just\n",
    "    -- !!!NOTE!!!: index should NOT be used on small tables in practice\n"
   ]
  },
  {
   "cell_type": "code",
   "execution_count": 49,
   "metadata": {},
   "outputs": [
    {
     "data": {
      "text/plain": [
       "[]"
      ]
     },
     "metadata": {},
     "output_type": "display_data"
    }
   ],
   "source": [
    "run(\"\"\"\n",
    "DROP INDEX Index_Warehouse\n",
    ";\n",
    "\"\"\")"
   ]
  },
  {
   "cell_type": "code",
   "execution_count": 50,
   "metadata": {},
   "outputs": [],
   "source": [
    "con.close()"
   ]
  },
  {
   "cell_type": "markdown",
   "metadata": {},
   "source": [
    "##"
   ]
  },
  {
   "cell_type": "markdown",
   "metadata": {},
   "source": [
    "##"
   ]
  }
 ],
 "metadata": {
  "kernelspec": {
   "display_name": "base",
   "language": "python",
   "name": "python3"
  },
  "language_info": {
   "codemirror_mode": {
    "name": "ipython",
    "version": 3
   },
   "file_extension": ".py",
   "mimetype": "text/x-python",
   "name": "python",
   "nbconvert_exporter": "python",
   "pygments_lexer": "ipython3",
   "version": "3.9.13"
  },
  "orig_nbformat": 4
 },
 "nbformat": 4,
 "nbformat_minor": 2
}
