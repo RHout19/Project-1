{
 "cells": [
  {
   "cell_type": "code",
   "execution_count": 11,
   "metadata": {},
   "outputs": [],
   "source": [
    "import sqlite3\n",
    "con = sqlite3.connect(\"SQL_8.db\")\n",
    "cur = con.cursor()"
   ]
  },
  {
   "cell_type": "code",
   "execution_count": null,
   "metadata": {},
   "outputs": [],
   "source": [
    "cur.execute(\"DROP TABLE IF EXISTS Employee\")\n",
    "cur.execute(\"DROP TABLE IF EXISTS Planet\")\n",
    "cur.execute(\"DROP TABLE IF EXISTS Shipment\")\n",
    "cur.execute(\"DROP TABLE IF EXISTS Has_Clearance\")\n",
    "cur.execute(\"DROP TABLE IF EXISTS Client\")\n",
    "cur.execute(\"DROP TABLE IF EXISTS Package\")"
   ]
  },
  {
   "cell_type": "code",
   "execution_count": 4,
   "metadata": {},
   "outputs": [
    {
     "ename": "OperationalError",
     "evalue": "table Physician already exists",
     "output_type": "error",
     "traceback": [
      "\u001b[1;31m---------------------------------------------------------------------------\u001b[0m",
      "\u001b[1;31mOperationalError\u001b[0m                          Traceback (most recent call last)",
      "\u001b[1;32m~\\AppData\\Local\\Temp\\ipykernel_17952\\326846578.py\u001b[0m in \u001b[0;36m<module>\u001b[1;34m\u001b[0m\n\u001b[1;32m----> 1\u001b[1;33m cur.executescript(\"\"\"\n\u001b[0m\u001b[0;32m      2\u001b[0m CREATE TABLE Physician (\n\u001b[0;32m      3\u001b[0m \u001b[0mEmployeeID\u001b[0m \u001b[0mINTEGER\u001b[0m \u001b[0mNOT\u001b[0m \u001b[0mNULL\u001b[0m\u001b[1;33m,\u001b[0m\u001b[1;33m\u001b[0m\u001b[1;33m\u001b[0m\u001b[0m\n\u001b[0;32m      4\u001b[0m \u001b[0mName\u001b[0m \u001b[0mTEXT\u001b[0m \u001b[0mNOT\u001b[0m \u001b[0mNULL\u001b[0m\u001b[1;33m,\u001b[0m\u001b[1;33m\u001b[0m\u001b[1;33m\u001b[0m\u001b[0m\n\u001b[0;32m      5\u001b[0m \u001b[0mPosition\u001b[0m \u001b[0mTEXT\u001b[0m \u001b[0mNOT\u001b[0m \u001b[0mNULL\u001b[0m\u001b[1;33m,\u001b[0m\u001b[1;33m\u001b[0m\u001b[1;33m\u001b[0m\u001b[0m\n",
      "\u001b[1;31mOperationalError\u001b[0m: table Physician already exists"
     ]
    }
   ],
   "source": [
    "cur.executescript(\"\"\"\n",
    "CREATE TABLE Physician (\n",
    "EmployeeID INTEGER NOT NULL,\n",
    "Name TEXT NOT NULL,\n",
    "Position TEXT NOT NULL,\n",
    "SSN INTEGER NOT NULL,\n",
    "PRIMARY KEY (EmployeeID)\n",
    ");\n",
    "\n",
    "CREATE TABLE Department (\n",
    "DepartmentID INTEGER NOT NULL,\n",
    "Name TEXT NOT NULL,\n",
    "Head INTEGER NOT NULL,\n",
    "PRIMARY KEY (DepartmentID)\n",
    ");\n",
    "\n",
    "CREATE TABLE Affiliated_With (\n",
    "Physician INTEGER NOT NULL,\n",
    "Department INTEGER NOT NULL,\n",
    "PrimaryAffiliation BOOLEAN NOT NULL,\n",
    "PRIMARY KEY(Physician, Department)\n",
    ");\n",
    "\n",
    "CREATE TABLE Procedures (\n",
    "Code INTEGER NOT NULL,\n",
    "Name TEXT NOT NULL,\n",
    "Cost REAL NOT NULL,\n",
    "PRIMARY KEY (Code)\n",
    ");\n",
    "\n",
    "CREATE TABLE Trained_In (\n",
    "Physician INTEGER NOT NULL,\n",
    "Treatment INTEGER NOT NULL,\n",
    "CertificationDate DATETIME NOT NULL,\n",
    "CertificationExpires DATETIME NOT NULL,\n",
    "PRIMARY KEY(Physician, Treatment)\n",
    ");\n",
    "\n",
    "CREATE TABLE Patient (\n",
    "SSN INTEGER NOT NULL,\n",
    "Name TEXT NOT NULL,\n",
    "Address TEXT NOT NULL,\n",
    "Phone TEXT NOT NULL,\n",
    "InsuranceID INTEGER NOT NULL,\n",
    "PCP INTEGER NOT NULL,\n",
    "PRIMARY KEY (SSN)\n",
    ");\n",
    "\n",
    "CREATE TABLE Nurse (\n",
    "EmployeeID INTEGER NOT NULL,\n",
    "Name TEXT NOT NULL,\n",
    "Position TEXT NOT NULL,\n",
    "Registered BOOLEAN NOT NULL,\n",
    "SSN INTEGER NOT NULL,\n",
    "PRIMARY KEY (EmployeeID)\n",
    ");\n",
    "\n",
    "CREATE TABLE Appointment (\n",
    "AppointmentID INTEGER NOT NULL,\n",
    "Patient INTEGER NOT NULL,\n",
    "PrepNurse INTEGER,\n",
    "Physician INTEGER NOT NULL,\n",
    "Start DATETIME NOT NULL,\n",
    "End DATETIME NOT NULL,\n",
    "ExaminationRoom TEXT NOT NULL,\n",
    "PRIMARY KEY (AppointmentID)\n",
    ");\n",
    "\n",
    "CREATE TABLE Medication (\n",
    "Code INTEGER NOT NULL,\n",
    "Name TEXT NOT NULL,\n",
    "Brand TEXT NOT NULL,\n",
    "Description TEXT NOT NULL,\n",
    "PRIMARY KEY(Code)\n",
    ");\n",
    "\n",
    "CREATE TABLE Prescribes (\n",
    "Physician INTEGER NOT NULL,\n",
    "Patient INTEGER NOT NULL,\n",
    "Medication INTEGER NOT NULL,\n",
    "Date DATETIME NOT NULL,\n",
    "Appointment INTEGER,\n",
    "Dose TEXT NOT NULL,\n",
    "PRIMARY KEY(Physician, Patient, Medication, Date)\n",
    ");\n",
    "\n",
    "CREATE TABLE Block (\n",
    "Floor INTEGER NOT NULL,\n",
    "Code INTEGER NOT NULL,\n",
    "PRIMARY KEY(Floor, Code)\n",
    ");\n",
    "\n",
    "CREATE TABLE Room (\n",
    "Number INTEGER NOT NULL,\n",
    "Type TEXT NOT NULL,\n",
    "BlockFloor INTEGER NOT NULL,\n",
    "BlockCode INTEGER NOT NULL,\n",
    "Unavailable BOOLEAN NOT NULL,\n",
    "PRIMARY KEY(Number)\n",
    ");\n",
    "\n",
    "CREATE TABLE On_Call (\n",
    "Nurse INTEGER NOT NULL,\n",
    "BlockFloor INTEGER NOT NULL,\n",
    "BlockCode INTEGER NOT NULL,\n",
    "Start DATETIME NOT NULL,\n",
    "End DATETIME NOT NULL,\n",
    "PRIMARY KEY(Nurse, BlockFloor, BlockCode, Start, End)\n",
    ");\n",
    "\n",
    "CREATE TABLE Stay (\n",
    "StayID INTEGER NOT NULL,\n",
    "Patient INTEGER NOT NULL,\n",
    "Room INTEGER NOT NULL,\n",
    "Start DATETIME NOT NULL,\n",
    "End DATETIME NOT NULL,\n",
    "PRIMARY KEY(StayID)\n",
    ");\n",
    "\n",
    "CREATE TABLE Undergoes (\n",
    "Patient INTEGER NOT NULL,\n",
    "Procedure INTEGER NOT NULL,\n",
    "Stay INTEGER NOT NULL,\n",
    "Date DATETIME NOT NULL,\n",
    "Physician INTEGER NOT NULL,\n",
    "AssistingNurse INTEGER,\n",
    "PRIMARY KEY(Patient, Procedure, Stay, Date)\n",
    ");\n",
    "\n",
    "\n",
    "INSERT INTO Physician VALUES(1,'John Dorian','Staff Internist',111111111);\n",
    "INSERT INTO Physician VALUES(2,'Elliot Reid','Attending Physician',222222222);\n",
    "INSERT INTO Physician VALUES(3,'Christopher Turk','Surgical Attending Physician',333333333);\n",
    "INSERT INTO Physician VALUES(4,'Percival Cox','Senior Attending Physician',444444444);\n",
    "INSERT INTO Physician VALUES(5,'Bob Kelso','Head Chief of Medicine',555555555);\n",
    "INSERT INTO Physician VALUES(6,'Todd Quinlan','Surgical Attending Physician',666666666);\n",
    "INSERT INTO Physician VALUES(7,'John Wen','Surgical Attending Physician',777777777);\n",
    "INSERT INTO Physician VALUES(8,'Keith Dudemeister','MD Resident',888888888);\n",
    "INSERT INTO Physician VALUES(9,'Molly Clock','Attending Psychiatrist',999999999);\n",
    "\n",
    "INSERT INTO Department VALUES(1,'General Medicine',4);\n",
    "INSERT INTO Department VALUES(2,'Surgery',7);\n",
    "INSERT INTO Department VALUES(3,'Psychiatry',9);\n",
    "\n",
    "INSERT INTO Affiliated_With VALUES(1,1,1);\n",
    "INSERT INTO Affiliated_With VALUES(2,1,1);\n",
    "INSERT INTO Affiliated_With VALUES(3,1,0);\n",
    "INSERT INTO Affiliated_With VALUES(3,2,1);\n",
    "INSERT INTO Affiliated_With VALUES(4,1,1);\n",
    "INSERT INTO Affiliated_With VALUES(5,1,1);\n",
    "INSERT INTO Affiliated_With VALUES(6,2,1);\n",
    "INSERT INTO Affiliated_With VALUES(7,1,0);\n",
    "INSERT INTO Affiliated_With VALUES(7,2,1);\n",
    "INSERT INTO Affiliated_With VALUES(8,1,1);\n",
    "INSERT INTO Affiliated_With VALUES(9,3,1);\n",
    "\n",
    "INSERT INTO Procedures VALUES(1,'Reverse Rhinopodoplasty',1500.0);\n",
    "INSERT INTO Procedures VALUES(2,'Obtuse Pyloric Recombobulation',3750.0);\n",
    "INSERT INTO Procedures VALUES(3,'Folded Demiophtalmectomy',4500.0);\n",
    "INSERT INTO Procedures VALUES(4,'Complete Walletectomy',10000.0);\n",
    "INSERT INTO Procedures VALUES(5,'Obfuscated Dermogastrotomy',4899.0);\n",
    "INSERT INTO Procedures VALUES(6,'Reversible Pancreomyoplasty',5600.0);\n",
    "INSERT INTO Procedures VALUES(7,'Follicular Demiectomy',25.0);\n",
    "\n",
    "INSERT INTO Patient VALUES(100000001,'John Smith','42 Foobar Lane','555-0256',68476213,1);\n",
    "INSERT INTO Patient VALUES(100000002,'Grace Ritchie','37 Snafu Drive','555-0512',36546321,2);\n",
    "INSERT INTO Patient VALUES(100000003,'Random J. Patient','101 Omgbbq Street','555-1204',65465421,2);\n",
    "INSERT INTO Patient VALUES(100000004,'Dennis Doe','1100 Foobaz Avenue','555-2048',68421879,3);\n",
    "\n",
    "INSERT INTO Nurse VALUES(101,'Carla Espinosa','Head Nurse',1,111111110);\n",
    "INSERT INTO Nurse VALUES(102,'Laverne Roberts','Nurse',1,222222220);\n",
    "INSERT INTO Nurse VALUES(103,'Paul Flowers','Nurse',0,333333330);\n",
    "\n",
    "INSERT INTO Appointment VALUES(13216584,100000001,101,1,'2008-04-24 10:00','2008-04-24 11:00','A');\n",
    "INSERT INTO Appointment VALUES(26548913,100000002,101,2,'2008-04-24 10:00','2008-04-24 11:00','B');\n",
    "INSERT INTO Appointment VALUES(36549879,100000001,102,1,'2008-04-25 10:00','2008-04-25 11:00','A');\n",
    "INSERT INTO Appointment VALUES(46846589,100000004,103,4,'2008-04-25 10:00','2008-04-25 11:00','B');\n",
    "INSERT INTO Appointment VALUES(59871321,100000004,NULL,4,'2008-04-26 10:00','2008-04-26 11:00','C');\n",
    "INSERT INTO Appointment VALUES(69879231,100000003,103,2,'2008-04-26 11:00','2008-04-26 12:00','C');\n",
    "INSERT INTO Appointment VALUES(76983231,100000001,NULL,3,'2008-04-26 12:00','2008-04-26 13:00','C');\n",
    "INSERT INTO Appointment VALUES(86213939,100000004,102,9,'2008-04-27 10:00','2008-04-21 11:00','A');\n",
    "INSERT INTO Appointment VALUES(93216548,100000002,101,2,'2008-04-27 10:00','2008-04-27 11:00','B');\n",
    "\n",
    "INSERT INTO Medication VALUES(1,'Procrastin-X','X','N/A');\n",
    "INSERT INTO Medication VALUES(2,'Thesisin','Foo Labs','N/A');\n",
    "INSERT INTO Medication VALUES(3,'Awakin','Bar Laboratories','N/A');\n",
    "INSERT INTO Medication VALUES(4,'Crescavitin','Baz Industries','N/A');\n",
    "INSERT INTO Medication VALUES(5,'Melioraurin','Snafu Pharmaceuticals','N/A');\n",
    "\n",
    "INSERT INTO Prescribes VALUES(1,100000001,1,'2008-04-24 10:47',13216584,'5');\n",
    "INSERT INTO Prescribes VALUES(9,100000004,2,'2008-04-27 10:53',86213939,'10');\n",
    "INSERT INTO Prescribes VALUES(9,100000004,2,'2008-04-30 16:53',NULL,'5');\n",
    "\n",
    "INSERT INTO Block VALUES(1,1);\n",
    "INSERT INTO Block VALUES(1,2);\n",
    "INSERT INTO Block VALUES(1,3);\n",
    "INSERT INTO Block VALUES(2,1);\n",
    "INSERT INTO Block VALUES(2,2);\n",
    "INSERT INTO Block VALUES(2,3);\n",
    "INSERT INTO Block VALUES(3,1);\n",
    "INSERT INTO Block VALUES(3,2);\n",
    "INSERT INTO Block VALUES(3,3);\n",
    "INSERT INTO Block VALUES(4,1);\n",
    "INSERT INTO Block VALUES(4,2);\n",
    "INSERT INTO Block VALUES(4,3);\n",
    "\n",
    "INSERT INTO Room VALUES(101,'Single',1,1,0);\n",
    "INSERT INTO Room VALUES(102,'Single',1,1,0);\n",
    "INSERT INTO Room VALUES(103,'Single',1,1,0);\n",
    "INSERT INTO Room VALUES(111,'Single',1,2,0);\n",
    "INSERT INTO Room VALUES(112,'Single',1,2,1);\n",
    "INSERT INTO Room VALUES(113,'Single',1,2,0);\n",
    "INSERT INTO Room VALUES(121,'Single',1,3,0);\n",
    "INSERT INTO Room VALUES(122,'Single',1,3,0);\n",
    "INSERT INTO Room VALUES(123,'Single',1,3,0);\n",
    "INSERT INTO Room VALUES(201,'Single',2,1,1);\n",
    "INSERT INTO Room VALUES(202,'Single',2,1,0);\n",
    "INSERT INTO Room VALUES(203,'Single',2,1,0);\n",
    "INSERT INTO Room VALUES(211,'Single',2,2,0);\n",
    "INSERT INTO Room VALUES(212,'Single',2,2,0);\n",
    "INSERT INTO Room VALUES(213,'Single',2,2,1);\n",
    "INSERT INTO Room VALUES(221,'Single',2,3,0);\n",
    "INSERT INTO Room VALUES(222,'Single',2,3,0);\n",
    "INSERT INTO Room VALUES(223,'Single',2,3,0);\n",
    "INSERT INTO Room VALUES(301,'Single',3,1,0);\n",
    "INSERT INTO Room VALUES(302,'Single',3,1,1);\n",
    "INSERT INTO Room VALUES(303,'Single',3,1,0);\n",
    "INSERT INTO Room VALUES(311,'Single',3,2,0);\n",
    "INSERT INTO Room VALUES(312,'Single',3,2,0);\n",
    "INSERT INTO Room VALUES(313,'Single',3,2,0);\n",
    "INSERT INTO Room VALUES(321,'Single',3,3,1);\n",
    "INSERT INTO Room VALUES(322,'Single',3,3,0);\n",
    "INSERT INTO Room VALUES(323,'Single',3,3,0);\n",
    "INSERT INTO Room VALUES(401,'Single',4,1,0);\n",
    "INSERT INTO Room VALUES(402,'Single',4,1,1);\n",
    "INSERT INTO Room VALUES(403,'Single',4,1,0);\n",
    "INSERT INTO Room VALUES(411,'Single',4,2,0);\n",
    "INSERT INTO Room VALUES(412,'Single',4,2,0);\n",
    "INSERT INTO Room VALUES(413,'Single',4,2,0);\n",
    "INSERT INTO Room VALUES(421,'Single',4,3,1);\n",
    "INSERT INTO Room VALUES(422,'Single',4,3,0);\n",
    "INSERT INTO Room VALUES(423,'Single',4,3,0);\n",
    "\n",
    "INSERT INTO On_Call VALUES(101,1,1,'2008-11-04 11:00','2008-11-04 19:00');\n",
    "INSERT INTO On_Call VALUES(101,1,2,'2008-11-04 11:00','2008-11-04 19:00');\n",
    "INSERT INTO On_Call VALUES(102,1,3,'2008-11-04 11:00','2008-11-04 19:00');\n",
    "INSERT INTO On_Call VALUES(103,1,1,'2008-11-04 19:00','2008-11-05 03:00');\n",
    "INSERT INTO On_Call VALUES(103,1,2,'2008-11-04 19:00','2008-11-05 03:00');\n",
    "INSERT INTO On_Call VALUES(103,1,3,'2008-11-04 19:00','2008-11-05 03:00');\n",
    "\n",
    "INSERT INTO Stay VALUES(3215,100000001,111,'2008-05-01','2008-05-04');\n",
    "INSERT INTO Stay VALUES(3216,100000003,123,'2008-05-03','2008-05-14');\n",
    "INSERT INTO Stay VALUES(3217,100000004,112,'2008-05-02','2008-05-03');\n",
    "\n",
    "INSERT INTO Undergoes VALUES(100000001,6,3215,'2008-05-02',3,101);\n",
    "INSERT INTO Undergoes VALUES(100000001,2,3215,'2008-05-03',7,101);\n",
    "INSERT INTO Undergoes VALUES(100000004,1,3217,'2008-05-07',3,102);\n",
    "INSERT INTO Undergoes VALUES(100000004,5,3217,'2008-05-09',6,NULL);\n",
    "INSERT INTO Undergoes VALUES(100000001,7,3217,'2008-05-10',7,101);\n",
    "INSERT INTO Undergoes VALUES(100000004,4,3217,'2008-05-13',3,103);\n",
    "\n",
    "INSERT INTO Trained_In VALUES(3,1,'2008-01-01','2008-12-31');\n",
    "INSERT INTO Trained_In VALUES(3,2,'2008-01-01','2008-12-31');\n",
    "INSERT INTO Trained_In VALUES(3,5,'2008-01-01','2008-12-31');\n",
    "INSERT INTO Trained_In VALUES(3,6,'2008-01-01','2008-12-31');\n",
    "INSERT INTO Trained_In VALUES(3,7,'2008-01-01','2008-12-31');\n",
    "INSERT INTO Trained_In VALUES(6,2,'2008-01-01','2008-12-31');\n",
    "INSERT INTO Trained_In VALUES(6,5,'2007-01-01','2007-12-31');\n",
    "INSERT INTO Trained_In VALUES(6,6,'2008-01-01','2008-12-31');\n",
    "INSERT INTO Trained_In VALUES(7,1,'2008-01-01','2008-12-31');\n",
    "INSERT INTO Trained_In VALUES(7,2,'2008-01-01','2008-12-31');\n",
    "INSERT INTO Trained_In VALUES(7,3,'2008-01-01','2008-12-31');\n",
    "INSERT INTO Trained_In VALUES(7,4,'2008-01-01','2008-12-31');\n",
    "INSERT INTO Trained_In VALUES(7,5,'2008-01-01','2008-12-31');\n",
    "INSERT INTO Trained_In VALUES(7,6,'2008-01-01','2008-12-31');\n",
    "INSERT INTO Trained_In VALUES(7,7,'2008-01-01','2008-12-31');\n",
    "\"\"\")\n",
    "con.commit()"
   ]
  },
  {
   "cell_type": "code",
   "execution_count": 5,
   "metadata": {},
   "outputs": [],
   "source": [
    "def run(cmd):\n",
    "    r = cur.execute(cmd)\n",
    "    display(r.fetchall())"
   ]
  },
  {
   "attachments": {},
   "cell_type": "markdown",
   "metadata": {},
   "source": [
    "8.1 Obtain the names of all physicians that have performed a medical procedure they have never been certified to perform."
   ]
  },
  {
   "cell_type": "code",
   "execution_count": 25,
   "metadata": {},
   "outputs": [
    {
     "data": {
      "text/plain": [
       "[('Christopher Turk',)]"
      ]
     },
     "metadata": {},
     "output_type": "display_data"
    }
   ],
   "source": [
    "run(\"\"\"\n",
    "SELECT P.name\n",
    "FROM Physician P \n",
    "JOIN Undergoes U ON P.EmployeeID = U.Physician\n",
    "LEFT JOIN Trained_In T ON T.Physician = P.EmployeeID AND U.Procedure = T.Treatment\n",
    "WHERE T.Physician IS NULL\n",
    ";\"\"\")"
   ]
  },
  {
   "attachments": {},
   "cell_type": "markdown",
   "metadata": {},
   "source": [
    "8.2 Same as the previous query, but include the following information in the results: Physician name, name of procedure, date when the procedure was carried out, name of the patient the procedure was carried out on.\n"
   ]
  },
  {
   "cell_type": "code",
   "execution_count": 29,
   "metadata": {},
   "outputs": [
    {
     "data": {
      "text/plain": [
       "[('Christopher Turk', 'Complete Walletectomy', '2008-05-13', 100000004)]"
      ]
     },
     "metadata": {},
     "output_type": "display_data"
    }
   ],
   "source": [
    "run(\"\"\"\n",
    "SELECT P.Name, Pr.Name , U.Date, U.Patient\n",
    "FROM Physician P \n",
    "JOIN Undergoes U ON P.EmployeeID = U.Physician\n",
    "JOIN Procedures Pr ON Pr.Code = U.Procedure\n",
    "LEFT JOIN Trained_In T ON T.Physician = P.EmployeeID AND U.Procedure = T.Treatment\n",
    "WHERE T.Physician IS NULL\n",
    ";\"\"\")"
   ]
  },
  {
   "attachments": {},
   "cell_type": "markdown",
   "metadata": {},
   "source": [
    "8.3 Obtain the names of all physicians that have performed a medical procedure that they are certified to perform, but such that the procedure was done at a date (Undergoes.Date) after the physician's certification expired (Trained_In.CertificationExpires)."
   ]
  },
  {
   "cell_type": "code",
   "execution_count": 81,
   "metadata": {},
   "outputs": [
    {
     "data": {
      "text/plain": [
       "[('Todd Quinlan',)]"
      ]
     },
     "metadata": {},
     "output_type": "display_data"
    }
   ],
   "source": [
    "run(\"\"\"\n",
    "SELECT P.Name\n",
    "FROM Physician P \n",
    "JOIN Undergoes U ON P.EmployeeID = U.Physician\n",
    "JOIN Procedures Pr ON Pr.Code = U.Procedure\n",
    "LEFT JOIN Trained_In T ON T.Physician = P.EmployeeID AND U.Procedure = T.Treatment\n",
    "WHERE U.Date > T.CertificationExpires\n",
    ";\"\"\")"
   ]
  },
  {
   "attachments": {},
   "cell_type": "markdown",
   "metadata": {},
   "source": [
    "8.4 Same as the previous query, but include the following information in the results: Physician name, name of procedure, date when the procedure was carried out, name of the patient the procedure was carried out on, and date when the certification expired."
   ]
  },
  {
   "cell_type": "code",
   "execution_count": 88,
   "metadata": {},
   "outputs": [
    {
     "data": {
      "text/plain": [
       "[('Todd Quinlan',\n",
       "  'Obfuscated Dermogastrotomy',\n",
       "  '2008-05-09',\n",
       "  '2007-12-31',\n",
       "  'Dennis Doe')]"
      ]
     },
     "metadata": {},
     "output_type": "display_data"
    }
   ],
   "source": [
    "run(\"\"\"\n",
    "SELECT P.Name, Pr.Name , U.Date, T.CertificationExpires, Pt.Name\n",
    "FROM Physician P \n",
    "JOIN Undergoes U ON P.EmployeeID = U.Physician\n",
    "JOIN Patient Pt ON U.Patient = Pt.SSN\n",
    "JOIN Procedures Pr ON Pr.Code = U.Procedure\n",
    "LEFT JOIN Trained_In T ON T.Physician = P.EmployeeID AND U.Procedure = T.Treatment\n",
    "WHERE U.Date > T.CertificationExpires\n",
    ";\"\"\")"
   ]
  },
  {
   "attachments": {},
   "cell_type": "markdown",
   "metadata": {},
   "source": [
    "8.5 Obtain the information for appointments where a patient met with a physician other than his/her primary care physician. Show the following information: Patient name, physician name, nurse name (if any), start and end time of appointment, examination room, and the name of the patient's primary care physician."
   ]
  },
  {
   "cell_type": "code",
   "execution_count": 105,
   "metadata": {},
   "outputs": [
    {
     "data": {
      "text/plain": [
       "[('Dennis Doe', 'Christopher Turk', None, None, None, None, 3)]"
      ]
     },
     "metadata": {},
     "output_type": "display_data"
    }
   ],
   "source": [
    "run(\"\"\"\n",
    "SELECT Pa.Name, Ph.Name, A.PrepNurse, A.Start, A.End, A.ExaminationRoom, Pa.PCP\n",
    "FROM Physician Ph\n",
    "JOIN Patient Pa ON Ph.EmployeeID = Pa.PCP\n",
    "LEFT JOIN Appointment A ON A.Physician = Ph.EmployeeID AND A.Patient = Pa.SSN\n",
    "WHERE A.Physician IS NOT Pa.PCP \n",
    ";\"\"\")"
   ]
  },
  {
   "cell_type": "code",
   "execution_count": 106,
   "metadata": {},
   "outputs": [
    {
     "data": {
      "text/plain": [
       "[('John Smith',\n",
       "  'John Dorian',\n",
       "  None,\n",
       "  '2008-04-26 12:00',\n",
       "  '2008-04-26 13:00',\n",
       "  'C',\n",
       "  1),\n",
       " ('Dennis Doe',\n",
       "  'Christopher Turk',\n",
       "  None,\n",
       "  '2008-04-26 10:00',\n",
       "  '2008-04-26 11:00',\n",
       "  'C',\n",
       "  3),\n",
       " ('Dennis Doe',\n",
       "  'Christopher Turk',\n",
       "  102,\n",
       "  '2008-04-27 10:00',\n",
       "  '2008-04-21 11:00',\n",
       "  'A',\n",
       "  3),\n",
       " ('Dennis Doe',\n",
       "  'Christopher Turk',\n",
       "  103,\n",
       "  '2008-04-25 10:00',\n",
       "  '2008-04-25 11:00',\n",
       "  'B',\n",
       "  3)]"
      ]
     },
     "metadata": {},
     "output_type": "display_data"
    }
   ],
   "source": [
    "run(\"\"\"SELECT Pa.Name, Ph.Name, A.PrepNurse, A.Start, A.End, A.ExaminationRoom, Pa.PCP\n",
    "FROM Physician Ph\n",
    "JOIN Patient Pa ON Ph.EmployeeID = Pa.PCP\n",
    "LEFT JOIN Appointment a ON pa.SSN = a.Patient\n",
    "LEFT JOIN Physician py2 ON py2.EmployeeID = a.Physician\n",
    "WHERE A.Physician IS NOT Pa.PCP \n",
    "\"\"\")"
   ]
  },
  {
   "attachments": {},
   "cell_type": "markdown",
   "metadata": {},
   "source": [
    "8.6 The Patient field in Undergoes is redundant, since we can obtain it from the Stay table. There are no constraints in force to prevent inconsistencies between these two tables. More specifically, the Undergoes table may include a row where the patient ID does not match the one we would obtain from the Stay table through the Undergoes.Stay foreign key. Select all rows from Undergoes that exhibit this inconsistency."
   ]
  },
  {
   "cell_type": "code",
   "execution_count": null,
   "metadata": {},
   "outputs": [],
   "source": []
  },
  {
   "attachments": {},
   "cell_type": "markdown",
   "metadata": {},
   "source": [
    "8.7 Obtain the names of all the nurses who have ever been on call for room 123."
   ]
  },
  {
   "cell_type": "code",
   "execution_count": 38,
   "metadata": {},
   "outputs": [
    {
     "data": {
      "text/plain": [
       "[('Laverne Roberts',), ('Paul Flowers',)]"
      ]
     },
     "metadata": {},
     "output_type": "display_data"
    }
   ],
   "source": [
    "run(\"\"\"\n",
    "SELECT N.Name\n",
    "FROM Nurse N\n",
    "JOIN On_Call OC ON OC.Nurse = N.EmployeeID\n",
    "LEFT JOIN Room R ON R.BlockFloor = OC.BlockFloor AND R.BlockCode = OC.BlockCode\n",
    "WHERE R.Number = 123\n",
    ";\"\"\")"
   ]
  },
  {
   "attachments": {},
   "cell_type": "markdown",
   "metadata": {},
   "source": [
    "8.8 The hospital has several examination rooms where appointments take place. Obtain the number of appointments that have taken place in each examination room."
   ]
  },
  {
   "cell_type": "code",
   "execution_count": 45,
   "metadata": {},
   "outputs": [
    {
     "data": {
      "text/plain": [
       "[('A', 3), ('B', 3), ('C', 3)]"
      ]
     },
     "metadata": {},
     "output_type": "display_data"
    }
   ],
   "source": [
    "run(\"\"\"\n",
    "SELECT ExaminationRoom, COUNT(ExaminationRoom)\n",
    "FROM Appointment\n",
    "GROUP BY ExaminationRoom\n",
    ";\"\"\")"
   ]
  },
  {
   "attachments": {},
   "cell_type": "markdown",
   "metadata": {},
   "source": [
    "8.9 Obtain the names of all patients and their primary care physician, such that the following are true:"
   ]
  },
  {
   "attachments": {},
   "cell_type": "markdown",
   "metadata": {},
   "source": [
    "8.9.1 The patient has been prescribed some medication by his/her primary care physician."
   ]
  },
  {
   "cell_type": "code",
   "execution_count": 78,
   "metadata": {},
   "outputs": [
    {
     "data": {
      "text/plain": [
       "[('John Smith', 'John Dorian')]"
      ]
     },
     "metadata": {},
     "output_type": "display_data"
    }
   ],
   "source": [
    "run(\"\"\"\n",
    "SELECT Patient.Name, Physician.name \n",
    "FROM Patient\n",
    "JOIN Physician ON Physician.EmployeeID = Patient.PCP\n",
    "LEFT JOIN Prescribes P ON P.Patient = Patient.SSN AND P.Physician = Physician.EmployeeID\n",
    "WHERE Date IS NOT NULL\n",
    ";\"\"\")\n"
   ]
  },
  {
   "attachments": {},
   "cell_type": "markdown",
   "metadata": {},
   "source": [
    "8.9.2 The patient has undergone a procedure with a cost larger that $5,000"
   ]
  },
  {
   "cell_type": "code",
   "execution_count": 67,
   "metadata": {},
   "outputs": [
    {
     "data": {
      "text/plain": [
       "[('John Smith', 'John Dorian', 5600.0),\n",
       " ('Dennis Doe', 'Christopher Turk', 10000.0)]"
      ]
     },
     "metadata": {},
     "output_type": "display_data"
    }
   ],
   "source": [
    "run(\"\"\"\n",
    "SELECT Patient.Name, Physician.name, Procedures.Cost\n",
    "FROM Patient\n",
    "JOIN Physician ON Physician.EmployeeID = Patient.PCP\n",
    "LEFT JOIN Undergoes ON Patient.SSN = Undergoes.Patient\n",
    "LEFT JOIN Procedures ON Undergoes.Procedure = Procedures.Code\n",
    "WHERE Cost > 5000\n",
    ";\"\"\")"
   ]
  },
  {
   "attachments": {},
   "cell_type": "markdown",
   "metadata": {},
   "source": [
    "8.9.3 The patient has had at least two appointments where the nurse who prepared the appointment was a registered nurse."
   ]
  },
  {
   "cell_type": "code",
   "execution_count": null,
   "metadata": {},
   "outputs": [],
   "source": []
  },
  {
   "attachments": {},
   "cell_type": "markdown",
   "metadata": {},
   "source": [
    "8.9.4 The patient's primary care physician is not the head of any department."
   ]
  },
  {
   "cell_type": "code",
   "execution_count": null,
   "metadata": {},
   "outputs": [],
   "source": []
  },
  {
   "cell_type": "code",
   "execution_count": 9,
   "metadata": {},
   "outputs": [],
   "source": [
    "con.close()"
   ]
  }
 ],
 "metadata": {
  "kernelspec": {
   "display_name": "base",
   "language": "python",
   "name": "python3"
  },
  "language_info": {
   "codemirror_mode": {
    "name": "ipython",
    "version": 3
   },
   "file_extension": ".py",
   "mimetype": "text/x-python",
   "name": "python",
   "nbconvert_exporter": "python",
   "pygments_lexer": "ipython3",
   "version": "3.9.13"
  },
  "orig_nbformat": 4
 },
 "nbformat": 4,
 "nbformat_minor": 2
}
