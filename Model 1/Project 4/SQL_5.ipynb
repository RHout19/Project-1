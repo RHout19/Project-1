{
 "cells": [
  {
   "cell_type": "code",
   "execution_count": 10,
   "metadata": {},
   "outputs": [],
   "source": [
    "import sqlite3\n",
    "con = sqlite3.connect(\"SQL_5.db\")\n",
    "cur = con.cursor()"
   ]
  },
  {
   "cell_type": "code",
   "execution_count": 11,
   "metadata": {},
   "outputs": [
    {
     "data": {
      "text/plain": [
       "<sqlite3.Cursor at 0x299671e51f0>"
      ]
     },
     "execution_count": 11,
     "metadata": {},
     "output_type": "execute_result"
    }
   ],
   "source": [
    "cur.execute(\"DROP TABLE IF EXISTS Pieces\")\n",
    "cur.execute(\"DROP TABLE IF EXISTS Providers\")\n",
    "cur.execute(\"DROP TABLE IF EXISTS Provides\")"
   ]
  },
  {
   "cell_type": "code",
   "execution_count": 12,
   "metadata": {},
   "outputs": [
    {
     "data": {
      "text/plain": [
       "<sqlite3.Cursor at 0x299671e51f0>"
      ]
     },
     "execution_count": 12,
     "metadata": {},
     "output_type": "execute_result"
    }
   ],
   "source": [
    "cur.execute(\"\"\"\n",
    "CREATE TABLE Pieces (\n",
    " Code INTEGER NOT NULL,\n",
    " Name TEXT NOT NULL,\n",
    " PRIMARY KEY (Code)\n",
    " );\n",
    " \"\"\")\n",
    "\n",
    "cur.execute(\"\"\"\n",
    "CREATE TABLE Providers (\n",
    " Code VARCHAR(40) NOT NULL,  \n",
    " Name TEXT NOT NULL,\n",
    " PRIMARY KEY (Code) \n",
    " );\n",
    " \"\"\")\n",
    "\n",
    "cur.execute(\"\"\"\n",
    "CREATE TABLE Provides (\n",
    " Piece INTEGER, \n",
    " Provider VARCHAR(40), \n",
    " Price INTEGER NOT NULL,\n",
    " PRIMARY KEY(Piece, Provider) \n",
    " );\n",
    " \"\"\")"
   ]
  },
  {
   "cell_type": "code",
   "execution_count": 13,
   "metadata": {},
   "outputs": [
    {
     "data": {
      "text/plain": [
       "<sqlite3.Cursor at 0x299671e51f0>"
      ]
     },
     "execution_count": 13,
     "metadata": {},
     "output_type": "execute_result"
    }
   ],
   "source": [
    "cur.executescript(\"\"\"\n",
    "INSERT INTO Providers(Code, Name) VALUES('HAL','Clarke Enterprises');\n",
    "INSERT INTO Providers(Code, Name) VALUES('RBT','Susan Calvin Corp.');\n",
    "INSERT INTO Providers(Code, Name) VALUES('TNBC','Skellington Supplies');\n",
    "\n",
    "INSERT INTO Pieces(Code, Name) VALUES(1,'Sprocket');\n",
    "INSERT INTO Pieces(Code, Name) VALUES(2,'Screw');\n",
    "INSERT INTO Pieces(Code, Name) VALUES(3,'Nut');\n",
    "INSERT INTO Pieces(Code, Name) VALUES(4,'Bolt');\n",
    "\n",
    "INSERT INTO Provides(Piece, Provider, Price) VALUES(1,'HAL',10);\n",
    "INSERT INTO Provides(Piece, Provider, Price) VALUES(1,'RBT',15);\n",
    "INSERT INTO Provides(Piece, Provider, Price) VALUES(2,'HAL',20);\n",
    "INSERT INTO Provides(Piece, Provider, Price) VALUES(2,'RBT',15);\n",
    "INSERT INTO Provides(Piece, Provider, Price) VALUES(2,'TNBC',14);\n",
    "INSERT INTO Provides(Piece, Provider, Price) VALUES(3,'RBT',50);\n",
    "INSERT INTO Provides(Piece, Provider, Price) VALUES(3,'TNBC',45);\n",
    "INSERT INTO Provides(Piece, Provider, Price) VALUES(4,'HAL',5);\n",
    "INSERT INTO Provides(Piece, Provider, Price) VALUES(4,'RBT',7);\n",
    "\"\"\")"
   ]
  },
  {
   "cell_type": "code",
   "execution_count": 14,
   "metadata": {},
   "outputs": [],
   "source": [
    "def run(cmd):\n",
    "    r = cur.execute(cmd)\n",
    "    display(r.fetchall())"
   ]
  },
  {
   "attachments": {},
   "cell_type": "markdown",
   "metadata": {},
   "source": [
    "## 5.1 Select the name of all the pieces. "
   ]
  },
  {
   "cell_type": "code",
   "execution_count": 15,
   "metadata": {},
   "outputs": [
    {
     "data": {
      "text/plain": [
       "[('Sprocket',), ('Screw',), ('Nut',), ('Bolt',)]"
      ]
     },
     "metadata": {},
     "output_type": "display_data"
    }
   ],
   "source": [
    "run(\"\"\"\n",
    "SELECT Name \n",
    "FROM Pieces\n",
    ";\"\"\")"
   ]
  },
  {
   "attachments": {},
   "cell_type": "markdown",
   "metadata": {},
   "source": [
    "##  5.2  Select all the providers' data. "
   ]
  },
  {
   "cell_type": "code",
   "execution_count": 16,
   "metadata": {},
   "outputs": [
    {
     "data": {
      "text/plain": [
       "[('HAL', 'Clarke Enterprises'),\n",
       " ('RBT', 'Susan Calvin Corp.'),\n",
       " ('TNBC', 'Skellington Supplies')]"
      ]
     },
     "metadata": {},
     "output_type": "display_data"
    }
   ],
   "source": [
    "run(\"\"\"\n",
    "SELECT * \n",
    "FROM Providers\n",
    ";\"\"\")"
   ]
  },
  {
   "attachments": {},
   "cell_type": "markdown",
   "metadata": {},
   "source": [
    "## 5.3 Obtain the average price of each piece (show only the piece code and the average price)."
   ]
  },
  {
   "cell_type": "code",
   "execution_count": 19,
   "metadata": {},
   "outputs": [
    {
     "data": {
      "text/plain": [
       "[(1, 12.5), (2, 16.33), (3, 47.5), (4, 6.0)]"
      ]
     },
     "metadata": {},
     "output_type": "display_data"
    }
   ],
   "source": [
    "run(\"\"\"\n",
    "SELECT Piece, ROUND(AVG(Price),2) \n",
    "FROM Provides\n",
    "GROUP BY Piece \n",
    ";\"\"\")"
   ]
  },
  {
   "attachments": {},
   "cell_type": "markdown",
   "metadata": {},
   "source": [
    "## 5.4  Obtain the names of all providers who supply piece 1."
   ]
  },
  {
   "cell_type": "code",
   "execution_count": 22,
   "metadata": {},
   "outputs": [
    {
     "data": {
      "text/plain": [
       "[('Clarke Enterprises',), ('Susan Calvin Corp.',)]"
      ]
     },
     "metadata": {},
     "output_type": "display_data"
    }
   ],
   "source": [
    "run(\"\"\"\n",
    "SELECT Providers.Name \n",
    "FROM Provides\n",
    "JOIN Providers\n",
    "ON Providers.Code = Provides.Provider\n",
    "WHERE Piece = 1\n",
    ";\"\"\")"
   ]
  },
  {
   "attachments": {},
   "cell_type": "markdown",
   "metadata": {},
   "source": [
    "## 5.5 Select the name of pieces provided by provider with code \"HAL\"."
   ]
  },
  {
   "cell_type": "code",
   "execution_count": 30,
   "metadata": {},
   "outputs": [
    {
     "data": {
      "text/plain": [
       "[('Sprocket',), ('Screw',), ('Bolt',)]"
      ]
     },
     "metadata": {},
     "output_type": "display_data"
    }
   ],
   "source": [
    "run(\"\"\"\n",
    "SELECT Pieces.Name \n",
    "FROM Pieces\n",
    "JOIN Provides\n",
    "ON Pieces.Code = Provides.Piece\n",
    "WHERE Provides.Provider = 'HAL'\n",
    ";\"\"\")"
   ]
  },
  {
   "attachments": {},
   "cell_type": "markdown",
   "metadata": {},
   "source": [
    "## 5.6 For each piece, find the most expensive offering of that piece and include the piece name, provider name, and price (note that there could be two providers who supply the same piece at the most expensive price)."
   ]
  },
  {
   "cell_type": "code",
   "execution_count": 38,
   "metadata": {},
   "outputs": [
    {
     "data": {
      "text/plain": [
       "[('Sprocket', 'Susan Calvin Corp.', 15),\n",
       " ('Screw', 'Clarke Enterprises', 20),\n",
       " ('Nut', 'Susan Calvin Corp.', 50),\n",
       " ('Bolt', 'Susan Calvin Corp.', 7)]"
      ]
     },
     "metadata": {},
     "output_type": "display_data"
    }
   ],
   "source": [
    "run(\"\"\"\n",
    "SELECT Pieces.Name, Providers.Name, Provides.Price\n",
    "FROM Pieces\n",
    "JOIN Provides ON Pieces.Code = Provides.Piece\n",
    "JOIN Providers ON Providers.Code = Provides.Provider\n",
    "WHERE Provides.Price = (\n",
    "  SELECT MAX(Price)\n",
    "  FROM Provides\n",
    "  WHERE Provides.Piece = Pieces.Code\n",
    ");\"\"\")"
   ]
  },
  {
   "attachments": {},
   "cell_type": "markdown",
   "metadata": {},
   "source": [
    "## 5.7 Add an entry to the database to indicate that \"Skellington Supplies\" (code \"TNBC\") will provide sprockets (code \"1\") for 7 cents each."
   ]
  },
  {
   "cell_type": "code",
   "execution_count": 39,
   "metadata": {},
   "outputs": [
    {
     "data": {
      "text/plain": [
       "[]"
      ]
     },
     "metadata": {},
     "output_type": "display_data"
    }
   ],
   "source": [
    "run(\"\"\"\n",
    "INSERT INTO Provides (Piece, Provider, Price)\n",
    "VALUES (1, 'TNBC', 7)\n",
    ";\n",
    "\"\"\")"
   ]
  },
  {
   "attachments": {},
   "cell_type": "markdown",
   "metadata": {},
   "source": [
    "## 5.8 Increase all prices by one cent."
   ]
  },
  {
   "cell_type": "code",
   "execution_count": 40,
   "metadata": {},
   "outputs": [
    {
     "data": {
      "text/plain": [
       "[]"
      ]
     },
     "metadata": {},
     "output_type": "display_data"
    }
   ],
   "source": [
    "run(\"\"\"\n",
    "UPDATE Provides \n",
    "SET Price = Price + 1\n",
    ";\n",
    "\"\"\")"
   ]
  },
  {
   "attachments": {},
   "cell_type": "markdown",
   "metadata": {},
   "source": [
    "## 5.9 Update the database to reflect that \"Susan Calvin Corp.\" (code \"RBT\") will not supply bolts (code 4)."
   ]
  },
  {
   "cell_type": "code",
   "execution_count": 41,
   "metadata": {},
   "outputs": [
    {
     "data": {
      "text/plain": [
       "[]"
      ]
     },
     "metadata": {},
     "output_type": "display_data"
    }
   ],
   "source": [
    "run(\"\"\"\n",
    "DELETE FROM Provides \n",
    "WHERE Piece = 4 AND Provider = 'RBT'\n",
    ";\n",
    "\"\"\")"
   ]
  },
  {
   "cell_type": "code",
   "execution_count": 42,
   "metadata": {},
   "outputs": [
    {
     "data": {
      "text/plain": [
       "[(1, 'HAL', 11),\n",
       " (1, 'RBT', 16),\n",
       " (2, 'HAL', 21),\n",
       " (2, 'RBT', 16),\n",
       " (2, 'TNBC', 15),\n",
       " (3, 'RBT', 51),\n",
       " (3, 'TNBC', 46),\n",
       " (4, 'HAL', 6),\n",
       " (1, 'TNBC', 8)]"
      ]
     },
     "metadata": {},
     "output_type": "display_data"
    }
   ],
   "source": [
    "run(\"\"\"\n",
    "SELECT * \n",
    "FROM Provides\n",
    ";\"\"\")"
   ]
  },
  {
   "attachments": {},
   "cell_type": "markdown",
   "metadata": {},
   "source": [
    "## 5.10 Update the database to reflect that \"Susan Calvin Corp.\" (code \"RBT\") will not supply any pieces (the provider should still remain in the database)."
   ]
  },
  {
   "cell_type": "code",
   "execution_count": 43,
   "metadata": {},
   "outputs": [
    {
     "data": {
      "text/plain": [
       "[]"
      ]
     },
     "metadata": {},
     "output_type": "display_data"
    }
   ],
   "source": [
    "run(\"\"\"\n",
    "DELETE FROM Provides \n",
    "WHERE Provider = 'RBT'\n",
    ";\n",
    "\"\"\")"
   ]
  },
  {
   "cell_type": "code",
   "execution_count": 44,
   "metadata": {},
   "outputs": [
    {
     "data": {
      "text/plain": [
       "[(1, 'HAL', 11),\n",
       " (2, 'HAL', 21),\n",
       " (2, 'TNBC', 15),\n",
       " (3, 'TNBC', 46),\n",
       " (4, 'HAL', 6),\n",
       " (1, 'TNBC', 8)]"
      ]
     },
     "metadata": {},
     "output_type": "display_data"
    }
   ],
   "source": [
    "run(\"\"\"\n",
    "SELECT * \n",
    "FROM Provides\n",
    ";\"\"\")"
   ]
  },
  {
   "cell_type": "code",
   "execution_count": 45,
   "metadata": {},
   "outputs": [],
   "source": [
    "con.close()"
   ]
  }
 ],
 "metadata": {
  "kernelspec": {
   "display_name": "base",
   "language": "python",
   "name": "python3"
  },
  "language_info": {
   "codemirror_mode": {
    "name": "ipython",
    "version": 3
   },
   "file_extension": ".py",
   "mimetype": "text/x-python",
   "name": "python",
   "nbconvert_exporter": "python",
   "pygments_lexer": "ipython3",
   "version": "3.9.13"
  },
  "orig_nbformat": 4
 },
 "nbformat": 4,
 "nbformat_minor": 2
}
