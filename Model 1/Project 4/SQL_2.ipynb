{
 "cells": [
  {
   "cell_type": "code",
   "execution_count": 12,
   "metadata": {},
   "outputs": [],
   "source": [
    "import sqlite3\n",
    "con = sqlite3.connect(\"products.db\")\n",
    "cur = con.cursor()"
   ]
  },
  {
   "cell_type": "code",
   "execution_count": 13,
   "metadata": {},
   "outputs": [
    {
     "data": {
      "text/plain": [
       "<sqlite3.Cursor at 0x219f7fc2340>"
      ]
     },
     "execution_count": 13,
     "metadata": {},
     "output_type": "execute_result"
    }
   ],
   "source": [
    "cur.execute(\"DROP TABLE IF EXISTS Manufacturers\")\n",
    "cur.execute(\"DROP TABLE IF EXISTS Products\")"
   ]
  },
  {
   "cell_type": "code",
   "execution_count": 14,
   "metadata": {},
   "outputs": [
    {
     "data": {
      "text/plain": [
       "<sqlite3.Cursor at 0x219f7fc2340>"
      ]
     },
     "execution_count": 14,
     "metadata": {},
     "output_type": "execute_result"
    }
   ],
   "source": [
    "cur.execute(\"\"\"\n",
    "    CREATE TABLE IF NOT EXISTS Departments (\n",
    "        Code INTEGER,\n",
    "        Name TEXT NOT NULL,\n",
    "        Budget decimal NOT NULL,\n",
    "        PRIMARY KEY (Code)   \n",
    ");\n",
    "\"\"\")\n",
    "\n",
    "cur.execute(\"\"\"\n",
    "    CREATE TABLE IF NOT EXISTS Employees (\n",
    "        SSN INTEGER,\n",
    "        Name varchar(255) NOT NULL ,\n",
    "        LastName varchar(255) NOT NULL ,\n",
    "        Department INTEGER NOT NULL , \n",
    "        PRIMARY KEY (SSN)   \n",
    ");\n",
    "\"\"\")"
   ]
  },
  {
   "cell_type": "code",
   "execution_count": 15,
   "metadata": {},
   "outputs": [
    {
     "ename": "IntegrityError",
     "evalue": "UNIQUE constraint failed: Departments.Code",
     "output_type": "error",
     "traceback": [
      "\u001b[1;31m---------------------------------------------------------------------------\u001b[0m",
      "\u001b[1;31mIntegrityError\u001b[0m                            Traceback (most recent call last)",
      "\u001b[1;32m~\\AppData\\Local\\Temp\\ipykernel_19480\\1153323221.py\u001b[0m in \u001b[0;36m<module>\u001b[1;34m\u001b[0m\n\u001b[1;32m----> 1\u001b[1;33m cur.executescript(\"\"\"\n\u001b[0m\u001b[0;32m      2\u001b[0m \u001b[0mINSERT\u001b[0m \u001b[0mINTO\u001b[0m \u001b[0mDepartments\u001b[0m\u001b[1;33m(\u001b[0m\u001b[0mCode\u001b[0m\u001b[1;33m,\u001b[0m\u001b[0mName\u001b[0m\u001b[1;33m,\u001b[0m\u001b[0mBudget\u001b[0m\u001b[1;33m)\u001b[0m \u001b[0mVALUES\u001b[0m\u001b[1;33m(\u001b[0m\u001b[1;36m14\u001b[0m\u001b[1;33m,\u001b[0m\u001b[1;34m'IT'\u001b[0m\u001b[1;33m,\u001b[0m\u001b[1;36m65000\u001b[0m\u001b[1;33m)\u001b[0m\u001b[1;33m;\u001b[0m\u001b[1;33m\u001b[0m\u001b[1;33m\u001b[0m\u001b[0m\n\u001b[0;32m      3\u001b[0m \u001b[0mINSERT\u001b[0m \u001b[0mINTO\u001b[0m \u001b[0mDepartments\u001b[0m\u001b[1;33m(\u001b[0m\u001b[0mCode\u001b[0m\u001b[1;33m,\u001b[0m\u001b[0mName\u001b[0m\u001b[1;33m,\u001b[0m\u001b[0mBudget\u001b[0m\u001b[1;33m)\u001b[0m \u001b[0mVALUES\u001b[0m\u001b[1;33m(\u001b[0m\u001b[1;36m37\u001b[0m\u001b[1;33m,\u001b[0m\u001b[1;34m'Accounting'\u001b[0m\u001b[1;33m,\u001b[0m\u001b[1;36m15000\u001b[0m\u001b[1;33m)\u001b[0m\u001b[1;33m;\u001b[0m\u001b[1;33m\u001b[0m\u001b[1;33m\u001b[0m\u001b[0m\n\u001b[0;32m      4\u001b[0m \u001b[0mINSERT\u001b[0m \u001b[0mINTO\u001b[0m \u001b[0mDepartments\u001b[0m\u001b[1;33m(\u001b[0m\u001b[0mCode\u001b[0m\u001b[1;33m,\u001b[0m\u001b[0mName\u001b[0m\u001b[1;33m,\u001b[0m\u001b[0mBudget\u001b[0m\u001b[1;33m)\u001b[0m \u001b[0mVALUES\u001b[0m\u001b[1;33m(\u001b[0m\u001b[1;36m59\u001b[0m\u001b[1;33m,\u001b[0m\u001b[1;34m'Human Resources'\u001b[0m\u001b[1;33m,\u001b[0m\u001b[1;36m240000\u001b[0m\u001b[1;33m)\u001b[0m\u001b[1;33m;\u001b[0m\u001b[1;33m\u001b[0m\u001b[1;33m\u001b[0m\u001b[0m\n\u001b[0;32m      5\u001b[0m \u001b[0mINSERT\u001b[0m \u001b[0mINTO\u001b[0m \u001b[0mDepartments\u001b[0m\u001b[1;33m(\u001b[0m\u001b[0mCode\u001b[0m\u001b[1;33m,\u001b[0m\u001b[0mName\u001b[0m\u001b[1;33m,\u001b[0m\u001b[0mBudget\u001b[0m\u001b[1;33m)\u001b[0m \u001b[0mVALUES\u001b[0m\u001b[1;33m(\u001b[0m\u001b[1;36m77\u001b[0m\u001b[1;33m,\u001b[0m\u001b[1;34m'Research'\u001b[0m\u001b[1;33m,\u001b[0m\u001b[1;36m55000\u001b[0m\u001b[1;33m)\u001b[0m\u001b[1;33m;\u001b[0m\u001b[1;33m\u001b[0m\u001b[1;33m\u001b[0m\u001b[0m\n",
      "\u001b[1;31mIntegrityError\u001b[0m: UNIQUE constraint failed: Departments.Code"
     ]
    }
   ],
   "source": [
    "cur.executescript(\"\"\"\n",
    "INSERT INTO Departments(Code,Name,Budget) VALUES(14,'IT',65000);\n",
    "INSERT INTO Departments(Code,Name,Budget) VALUES(37,'Accounting',15000);\n",
    "INSERT INTO Departments(Code,Name,Budget) VALUES(59,'Human Resources',240000);\n",
    "INSERT INTO Departments(Code,Name,Budget) VALUES(77,'Research',55000);\n",
    "\n",
    "INSERT INTO Employees(SSN,Name,LastName,Department) VALUES('123234877','Michael','Rogers',14);\n",
    "INSERT INTO Employees(SSN,Name,LastName,Department) VALUES('152934485','Anand','Manikutty',14);\n",
    "INSERT INTO Employees(SSN,Name,LastName,Department) VALUES('222364883','Carol','Smith',37);\n",
    "INSERT INTO Employees(SSN,Name,LastName,Department) VALUES('326587417','Joe','Stevens',37);\n",
    "INSERT INTO Employees(SSN,Name,LastName,Department) VALUES('332154719','Mary-Anne','Foster',14);\n",
    "INSERT INTO Employees(SSN,Name,LastName,Department) VALUES('332569843','George','ODonnell',77);\n",
    "INSERT INTO Employees(SSN,Name,LastName,Department) VALUES('546523478','John','Doe',59);\n",
    "INSERT INTO Employees(SSN,Name,LastName,Department) VALUES('631231482','David','Smith',77);\n",
    "INSERT INTO Employees(SSN,Name,LastName,Department) VALUES('654873219','Zacary','Efron',59);\n",
    "INSERT INTO Employees(SSN,Name,LastName,Department) VALUES('745685214','Eric','Goldsmith',59);\n",
    "INSERT INTO Employees(SSN,Name,LastName,Department) VALUES('845657245','Elizabeth','Doe',14);\n",
    "INSERT INTO Employees(SSN,Name,LastName,Department) VALUES('845657246','Kumar','Swamy',14);\n",
    "\"\"\")"
   ]
  },
  {
   "cell_type": "code",
   "execution_count": 16,
   "metadata": {},
   "outputs": [],
   "source": [
    "def run(cmd):\n",
    "    r = cur.execute(cmd)\n",
    "    display(r.fetchall())"
   ]
  },
  {
   "attachments": {},
   "cell_type": "markdown",
   "metadata": {},
   "source": [
    "## 2.1 Select the last name of all employees.\n"
   ]
  },
  {
   "cell_type": "code",
   "execution_count": 17,
   "metadata": {},
   "outputs": [
    {
     "data": {
      "text/plain": [
       "[('Rogers',),\n",
       " ('Manikutty',),\n",
       " ('Smith',),\n",
       " ('Stevens',),\n",
       " ('Foster',),\n",
       " ('ODonnell',),\n",
       " ('Doe',),\n",
       " ('Smith',),\n",
       " ('Efron',),\n",
       " ('Goldsmith',),\n",
       " ('Doe',),\n",
       " ('Swamy',)]"
      ]
     },
     "metadata": {},
     "output_type": "display_data"
    }
   ],
   "source": [
    "run(\"\"\"\n",
    "SELECT LastName \n",
    "FROM Employees\n",
    "\"\"\")"
   ]
  },
  {
   "attachments": {},
   "cell_type": "markdown",
   "metadata": {},
   "source": [
    "## 2.2 Select the last name of all employees, without duplicates."
   ]
  },
  {
   "cell_type": "code",
   "execution_count": 18,
   "metadata": {},
   "outputs": [
    {
     "data": {
      "text/plain": [
       "[('Rogers',),\n",
       " ('Manikutty',),\n",
       " ('Smith',),\n",
       " ('Stevens',),\n",
       " ('Foster',),\n",
       " ('ODonnell',),\n",
       " ('Doe',),\n",
       " ('Efron',),\n",
       " ('Goldsmith',),\n",
       " ('Swamy',)]"
      ]
     },
     "metadata": {},
     "output_type": "display_data"
    }
   ],
   "source": [
    "run(\"\"\"\n",
    "SELECT DISTINCT LastName \n",
    "FROM Employees\n",
    "\"\"\")"
   ]
  },
  {
   "attachments": {},
   "cell_type": "markdown",
   "metadata": {},
   "source": [
    "## 2.3 Select all the data of employees whose last name is \"Smith\"."
   ]
  },
  {
   "cell_type": "code",
   "execution_count": 22,
   "metadata": {},
   "outputs": [
    {
     "data": {
      "text/plain": [
       "[(222364883, 'Carol', 'Smith', 37), (631231482, 'David', 'Smith', 77)]"
      ]
     },
     "metadata": {},
     "output_type": "display_data"
    }
   ],
   "source": [
    "run(\"\"\"\n",
    "SELECT * \n",
    "FROM Employees\n",
    "WHERE LastName = 'Smith'\n",
    "\"\"\")"
   ]
  },
  {
   "attachments": {},
   "cell_type": "markdown",
   "metadata": {},
   "source": [
    "## 2.4 Select all the data of employees whose last name is \"Smith\" or \"Doe\"."
   ]
  },
  {
   "cell_type": "code",
   "execution_count": 23,
   "metadata": {},
   "outputs": [
    {
     "data": {
      "text/plain": [
       "[(222364883, 'Carol', 'Smith', 37),\n",
       " (546523478, 'John', 'Doe', 59),\n",
       " (631231482, 'David', 'Smith', 77),\n",
       " (845657245, 'Elizabeth', 'Doe', 14)]"
      ]
     },
     "metadata": {},
     "output_type": "display_data"
    }
   ],
   "source": [
    "run(\"\"\"\n",
    "SELECT * \n",
    "FROM Employees\n",
    "WHERE LastName = 'Smith' OR LastName = 'Doe'\n",
    "\"\"\")"
   ]
  },
  {
   "attachments": {},
   "cell_type": "markdown",
   "metadata": {},
   "source": [
    "## 2.5 Select all the data of employees that work in department 14."
   ]
  },
  {
   "cell_type": "code",
   "execution_count": 38,
   "metadata": {},
   "outputs": [
    {
     "data": {
      "text/plain": [
       "[(123234877, 'Michael', 'Rogers', 14),\n",
       " (152934485, 'Anand', 'Manikutty', 14),\n",
       " (332154719, 'Mary-Anne', 'Foster', 14),\n",
       " (845657245, 'Elizabeth', 'Doe', 14),\n",
       " (845657246, 'Kumar', 'Swamy', 14)]"
      ]
     },
     "metadata": {},
     "output_type": "display_data"
    }
   ],
   "source": [
    "run(\"\"\"\n",
    "SELECT * \n",
    "FROM Employees\n",
    "WHERE Department = 14\n",
    "\"\"\")"
   ]
  },
  {
   "attachments": {},
   "cell_type": "markdown",
   "metadata": {},
   "source": [
    "## 2.6 Select all the data of employees that work in department 37 or department 77."
   ]
  },
  {
   "cell_type": "code",
   "execution_count": 37,
   "metadata": {},
   "outputs": [
    {
     "data": {
      "text/plain": [
       "[(222364883, 'Carol', 'Smith', 37),\n",
       " (326587417, 'Joe', 'Stevens', 37),\n",
       " (332569843, 'George', 'ODonnell', 77),\n",
       " (631231482, 'David', 'Smith', 77)]"
      ]
     },
     "metadata": {},
     "output_type": "display_data"
    }
   ],
   "source": [
    "run(\"\"\"\n",
    "SELECT * \n",
    "FROM Employees \n",
    "WHERE Department = 37 OR Department = 77\n",
    "\"\"\")"
   ]
  },
  {
   "attachments": {},
   "cell_type": "markdown",
   "metadata": {},
   "source": [
    "## 2.7 Select all the data of employees whose last name begins with an \"S\"."
   ]
  },
  {
   "cell_type": "code",
   "execution_count": 36,
   "metadata": {},
   "outputs": [
    {
     "data": {
      "text/plain": [
       "[(222364883, 'Carol', 'Smith', 37),\n",
       " (326587417, 'Joe', 'Stevens', 37),\n",
       " (631231482, 'David', 'Smith', 77),\n",
       " (845657246, 'Kumar', 'Swamy', 14)]"
      ]
     },
     "metadata": {},
     "output_type": "display_data"
    }
   ],
   "source": [
    "run(\"\"\"\n",
    "SELECT * \n",
    "FROM Employees \n",
    "WHERE LastName LIKE 'S%'\n",
    "\"\"\")"
   ]
  },
  {
   "attachments": {},
   "cell_type": "markdown",
   "metadata": {},
   "source": [
    "## 2.8 Select the sum of all the departments' budgets."
   ]
  },
  {
   "cell_type": "code",
   "execution_count": 47,
   "metadata": {},
   "outputs": [
    {
     "data": {
      "text/plain": [
       "[('Accounting', 15000),\n",
       " ('Research', 55000),\n",
       " ('IT', 65000),\n",
       " ('Human Resources', 240000),\n",
       " ('Total Budget:', 375000)]"
      ]
     },
     "metadata": {},
     "output_type": "display_data"
    }
   ],
   "source": [
    "run(\"\"\"\n",
    "SELECT 'Total Budget:' AS Name, SUM(Budget) AS Budget\n",
    "FROM Departments \n",
    "\n",
    "UNION\n",
    "\n",
    "SELECT Name, SUM(Budget)sum \n",
    "FROM Departments\n",
    "GROUP BY Name\n",
    "ORDER BY Budget;\n",
    "\"\"\")"
   ]
  },
  {
   "attachments": {},
   "cell_type": "markdown",
   "metadata": {},
   "source": [
    "## 2.9 Select the number of employees in each department (you only need to show the department code and the number of employees)."
   ]
  },
  {
   "cell_type": "code",
   "execution_count": 44,
   "metadata": {},
   "outputs": [
    {
     "data": {
      "text/plain": [
       "[(14, 5), (37, 2), (59, 3), (77, 2)]"
      ]
     },
     "metadata": {},
     "output_type": "display_data"
    }
   ],
   "source": [
    "run(\"\"\"\n",
    "SELECT Department, COUNT(*) AS number_of_employees\n",
    "FROM Employees \n",
    "GROUP BY Department;\n",
    "\"\"\")"
   ]
  },
  {
   "attachments": {},
   "cell_type": "markdown",
   "metadata": {},
   "source": [
    "## 2.10 Select all the data of employees, including each employee's department's data."
   ]
  },
  {
   "cell_type": "code",
   "execution_count": 50,
   "metadata": {},
   "outputs": [
    {
     "data": {
      "text/plain": [
       "[(222364883, 'Carol', 'Smith', 37, 37, 'Accounting', 15000),\n",
       " (326587417, 'Joe', 'Stevens', 37, 37, 'Accounting', 15000),\n",
       " (546523478, 'John', 'Doe', 59, 59, 'Human Resources', 240000),\n",
       " (654873219, 'Zacary', 'Efron', 59, 59, 'Human Resources', 240000),\n",
       " (745685214, 'Eric', 'Goldsmith', 59, 59, 'Human Resources', 240000),\n",
       " (123234877, 'Michael', 'Rogers', 14, 14, 'IT', 65000),\n",
       " (152934485, 'Anand', 'Manikutty', 14, 14, 'IT', 65000),\n",
       " (332154719, 'Mary-Anne', 'Foster', 14, 14, 'IT', 65000),\n",
       " (845657245, 'Elizabeth', 'Doe', 14, 14, 'IT', 65000),\n",
       " (845657246, 'Kumar', 'Swamy', 14, 14, 'IT', 65000),\n",
       " (332569843, 'George', 'ODonnell', 77, 77, 'Research', 55000),\n",
       " (631231482, 'David', 'Smith', 77, 77, 'Research', 55000)]"
      ]
     },
     "metadata": {},
     "output_type": "display_data"
    }
   ],
   "source": [
    "run(\"\"\"\n",
    "SELECT * \n",
    "FROM Employees E \n",
    "JOIN Departments D \n",
    "ON E.Department = D.Code\n",
    "ORDER BY D.Name;\n",
    "\"\"\")"
   ]
  },
  {
   "attachments": {},
   "cell_type": "markdown",
   "metadata": {},
   "source": [
    "## 2.12 Select the name and last name of employees working for departments with a budget greater than $60,000."
   ]
  },
  {
   "cell_type": "code",
   "execution_count": 52,
   "metadata": {},
   "outputs": [
    {
     "data": {
      "text/plain": [
       "[('Michael', 'Rogers'),\n",
       " ('Anand', 'Manikutty'),\n",
       " ('Mary-Anne', 'Foster'),\n",
       " ('John', 'Doe'),\n",
       " ('Zacary', 'Efron'),\n",
       " ('Eric', 'Goldsmith'),\n",
       " ('Elizabeth', 'Doe'),\n",
       " ('Kumar', 'Swamy')]"
      ]
     },
     "metadata": {},
     "output_type": "display_data"
    }
   ],
   "source": [
    "run(\"\"\"\n",
    "SELECT E.Name, E.LastName \n",
    "FROM Employees E \n",
    "JOIN Departments D \n",
    "ON E.Department = D.Code\n",
    "WHERE Budget > 60000;\n",
    "\"\"\")"
   ]
  },
  {
   "attachments": {},
   "cell_type": "markdown",
   "metadata": {},
   "source": [
    "## 2.13 Select the departments with a budget larger than the average budget of all the departments."
   ]
  },
  {
   "cell_type": "code",
   "execution_count": 55,
   "metadata": {},
   "outputs": [
    {
     "data": {
      "text/plain": [
       "[('Human Resources', 240000)]"
      ]
     },
     "metadata": {},
     "output_type": "display_data"
    }
   ],
   "source": [
    "run(\"\"\"\n",
    "SELECT Departments.Name, Budget\n",
    "FROM Departments\n",
    "WHERE Budget > (SELECT AVG(Budget) FROM Departments);\n",
    "\"\"\")"
   ]
  },
  {
   "attachments": {},
   "cell_type": "markdown",
   "metadata": {},
   "source": [
    "## 2.14 Select the names of departments with more than two employees.\n"
   ]
  },
  {
   "cell_type": "code",
   "execution_count": 60,
   "metadata": {},
   "outputs": [
    {
     "data": {
      "text/plain": [
       "[('Human Resources',), ('IT',)]"
      ]
     },
     "metadata": {},
     "output_type": "display_data"
    }
   ],
   "source": [
    "run(\"\"\"\n",
    "SELECT D.Name\n",
    "FROM Employees E \n",
    "JOIN Departments D \n",
    "ON E.Department = D.Code\n",
    "GROUP BY D.Name\n",
    "HAVING COUNT(*) > 2;\n",
    "\"\"\")"
   ]
  },
  {
   "attachments": {},
   "cell_type": "markdown",
   "metadata": {},
   "source": [
    "## 2.15 Select the name and last name of employees working for the two departments with lowest budget.\n"
   ]
  },
  {
   "cell_type": "code",
   "execution_count": 79,
   "metadata": {},
   "outputs": [
    {
     "data": {
      "text/plain": [
       "[('Carol', 'Smith', 'Accounting'),\n",
       " ('Joe', 'Stevens', 'Accounting'),\n",
       " ('George', 'ODonnell', 'Research'),\n",
       " ('David', 'Smith', 'Research')]"
      ]
     },
     "metadata": {},
     "output_type": "display_data"
    }
   ],
   "source": [
    "run(\"\"\"\n",
    "SELECT E.Name, E.LastName, D.Name\n",
    "FROM Employees E \n",
    "JOIN Departments D \n",
    "ON E.Department = D.Code\n",
    "WHERE Budget < (\n",
    "    SELECT AVG(Budget) \n",
    "    FROM Departments )\n",
    "ORDER BY Budget LIMIT 4\n",
    ";\n",
    "\"\"\")"
   ]
  },
  {
   "attachments": {},
   "cell_type": "markdown",
   "metadata": {},
   "source": [
    "## 2.16  Add a new department called \"Quality Assurance\", with a budget of $40,000 and departmental code 11.\n",
    "### And Add an employee called \"Mary Moore\" in that department, with SSN 847-21-9811."
   ]
  },
  {
   "cell_type": "code",
   "execution_count": 84,
   "metadata": {},
   "outputs": [
    {
     "data": {
      "text/plain": [
       "[]"
      ]
     },
     "metadata": {},
     "output_type": "display_data"
    }
   ],
   "source": [
    "run(\"\"\"\n",
    "INSERT INTO Departments (Code, Name, Budget)\n",
    "VALUES (11, 'Quality Assureance', 40000)\n",
    ";\n",
    "\"\"\")"
   ]
  },
  {
   "cell_type": "code",
   "execution_count": 85,
   "metadata": {},
   "outputs": [
    {
     "data": {
      "text/plain": [
       "[]"
      ]
     },
     "metadata": {},
     "output_type": "display_data"
    }
   ],
   "source": [
    "run(\"\"\"\n",
    "INSERT INTO Employees (SSN, Name, LastName, Department)\n",
    "VALUES (847219811, 'Mary', 'Moore', 11)\n",
    ";\n",
    "\"\"\")"
   ]
  },
  {
   "attachments": {},
   "cell_type": "markdown",
   "metadata": {},
   "source": [
    "## 2.17 Reduce the budget of all departments by 10%."
   ]
  },
  {
   "cell_type": "code",
   "execution_count": 87,
   "metadata": {},
   "outputs": [
    {
     "data": {
      "text/plain": [
       "[]"
      ]
     },
     "metadata": {},
     "output_type": "display_data"
    }
   ],
   "source": [
    "run(\"\"\"\n",
    "UPDATE Departments \n",
    "SET Budget = Budget *.9 \n",
    ";\n",
    "\"\"\")"
   ]
  },
  {
   "attachments": {},
   "cell_type": "markdown",
   "metadata": {},
   "source": [
    "## 2.18 Reassign all employees from the Research department (code 77) to the IT department (code 14).\n"
   ]
  },
  {
   "cell_type": "code",
   "execution_count": 88,
   "metadata": {},
   "outputs": [
    {
     "data": {
      "text/plain": [
       "[]"
      ]
     },
     "metadata": {},
     "output_type": "display_data"
    }
   ],
   "source": [
    "run(\"\"\"\n",
    "UPDATE Employees \n",
    "SET Department = 14\n",
    "Where Department = 77\n",
    ";\n",
    "\"\"\")"
   ]
  },
  {
   "attachments": {},
   "cell_type": "markdown",
   "metadata": {},
   "source": [
    "## 2.19 Delete from the table all employees in the IT department (code 14).\n"
   ]
  },
  {
   "cell_type": "code",
   "execution_count": 90,
   "metadata": {},
   "outputs": [
    {
     "data": {
      "text/plain": [
       "[]"
      ]
     },
     "metadata": {},
     "output_type": "display_data"
    }
   ],
   "source": [
    "run(\"\"\"\n",
    "DELETE FROM Employees \n",
    "WHERE Department = 14\n",
    ";\n",
    "\"\"\")"
   ]
  },
  {
   "attachments": {},
   "cell_type": "markdown",
   "metadata": {},
   "source": [
    "## 2.20 Delete from the table all employees who work in departments with a budget greater than or equal to $60,000.\n"
   ]
  },
  {
   "cell_type": "code",
   "execution_count": 91,
   "metadata": {},
   "outputs": [
    {
     "data": {
      "text/plain": [
       "[]"
      ]
     },
     "metadata": {},
     "output_type": "display_data"
    }
   ],
   "source": [
    "run(\"\"\"\n",
    "DELETE FROM Employees \n",
    "WHERE Department IN (\n",
    "    SELECT Code \n",
    "    FROM Departments \n",
    "    WHERE Budget >= 60000)\n",
    ";\n",
    "\"\"\")"
   ]
  },
  {
   "attachments": {},
   "cell_type": "markdown",
   "metadata": {},
   "source": [
    "## 2.21 Delete from the table all employees."
   ]
  },
  {
   "cell_type": "code",
   "execution_count": 92,
   "metadata": {},
   "outputs": [
    {
     "data": {
      "text/plain": [
       "[]"
      ]
     },
     "metadata": {},
     "output_type": "display_data"
    }
   ],
   "source": [
    "run(\"\"\"\n",
    "DELETE FROM Employees\n",
    ";\n",
    "\"\"\")"
   ]
  }
 ],
 "metadata": {
  "kernelspec": {
   "display_name": "base",
   "language": "python",
   "name": "python3"
  },
  "language_info": {
   "codemirror_mode": {
    "name": "ipython",
    "version": 3
   },
   "file_extension": ".py",
   "mimetype": "text/x-python",
   "name": "python",
   "nbconvert_exporter": "python",
   "pygments_lexer": "ipython3",
   "version": "3.9.13"
  },
  "orig_nbformat": 4
 },
 "nbformat": 4,
 "nbformat_minor": 2
}
