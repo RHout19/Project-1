{
 "cells": [
  {
   "cell_type": "code",
   "execution_count": 199,
   "metadata": {},
   "outputs": [
    {
     "name": "stdout",
     "output_type": "stream",
     "text": [
      "the car has started...\n",
      "Car is already started!\n",
      "The car has stopped.\n",
      "Car is already stopped!\n"
     ]
    }
   ],
   "source": [
    "# Exerice Car driving\n",
    "command = \"\"\n",
    "started = False\n",
    "while True:\n",
    "    command = input(\">\").lower()\n",
    "    if command == \"start\":\n",
    "        if started:\n",
    "            print(\"Car is already started!\")\n",
    "        else:\n",
    "            started = True\n",
    "            print(\"the car has started...\")\n",
    "    elif command == \"stop\":\n",
    "        if not started:\n",
    "            print(\"Car is already stopped!\")\n",
    "        else:\n",
    "            started = False\n",
    "            print(\"The car has stopped.\")\n",
    "    elif command == \"help\":\n",
    "        print(\"\"\"\n",
    "start - starts car\n",
    "stop - stops car\n",
    "quit - ends game\n",
    "        \"\"\")\n",
    "    elif command == \"quit\":\n",
    "        break\n",
    "    else:\n",
    "        print(\"I'm sorry, I don't understand that.\")\n"
   ]
  },
  {
   "cell_type": "code",
   "execution_count": 214,
   "metadata": {},
   "outputs": [
    {
     "name": "stdout",
     "output_type": "stream",
     "text": [
      "(0, 0)\n",
      "(0, 1)\n",
      "(0, 2)\n",
      "(1, 0)\n",
      "(1, 1)\n",
      "(1, 2)\n",
      "(2, 0)\n",
      "(2, 1)\n",
      "(2, 2)\n"
     ]
    }
   ],
   "source": [
    "#Exerice Loop in a loop\n",
    "for x in range(3):\n",
    "    for y in range(3):\n",
    "        print(f'({x}, {y})')"
   ]
  },
  {
   "cell_type": "code",
   "execution_count": 210,
   "metadata": {},
   "outputs": [
    {
     "name": "stdout",
     "output_type": "stream",
     "text": [
      "Total: 60\n"
     ]
    }
   ],
   "source": [
    "#Exercise Using loop to calculate price\n",
    "prices = [10, 20, 30]\n",
    "\n",
    "total = 0\n",
    "\n",
    "for price in prices:\n",
    "    total += price\n",
    "print(\"Total:\" , total)\n"
   ]
  },
  {
   "cell_type": "code",
   "execution_count": 151,
   "metadata": {},
   "outputs": [
    {
     "name": "stdout",
     "output_type": "stream",
     "text": [
      "3\n"
     ]
    }
   ],
   "source": [
    "i = 1\n",
    "while i < 6:\n",
    "  if i == 3:\n",
    "    break\n",
    "  i += 1\n",
    "print(i)"
   ]
  },
  {
   "cell_type": "code",
   "execution_count": 146,
   "metadata": {},
   "outputs": [
    {
     "name": "stdout",
     "output_type": "stream",
     "text": [
      "True\n"
     ]
    }
   ],
   "source": [
    "#Exercise Q5\n",
    "ages = [15,13,16,18,19,15,10]\n",
    "def age_checker(ages, age):\n",
    "        return (int(age) in ages)\n",
    "    \n",
    "print(age_checker(ages, input(\"Please enter the age you would like to check: \")))    "
   ]
  },
  {
   "cell_type": "code",
   "execution_count": 142,
   "metadata": {},
   "outputs": [
    {
     "name": "stdout",
     "output_type": "stream",
     "text": [
      "[10, 13, 15, 16, 18, 19]\n"
     ]
    }
   ],
   "source": [
    "#Exercise Q4\n",
    "def duplicate_remover():\n",
    "    mylist = [15,13,16,18,19,15,10]\n",
    "    mylist = list(dict.fromkeys(mylist))\n",
    "    mylist.sort()\n",
    "    print(mylist)\n",
    "\n",
    "duplicate_remover()"
   ]
  },
  {
   "cell_type": "code",
   "execution_count": 130,
   "metadata": {},
   "outputs": [
    {
     "name": "stdout",
     "output_type": "stream",
     "text": [
      "[10, 13, 15, 16, 18, 19]\n"
     ]
    }
   ],
   "source": [
    "#Exercise Q3\n",
    "berlin = [15, 13, 16, 18, 19, 10, 12 ]\n",
    "munich = [7, 13, 15, 20, 19, 18, 10, 16]\n",
    "\n",
    "combined_list = [x for x in berlin if x in munich]\n",
    "combined_list.sort()\n",
    "print(combined_list)\n"
   ]
  },
  {
   "cell_type": "code",
   "execution_count": 143,
   "metadata": {},
   "outputs": [
    {
     "name": "stdout",
     "output_type": "stream",
     "text": [
      "[24, 28, 18, 13, 16, 17, 29, 27, 44, 15, 13]\n"
     ]
    }
   ],
   "source": [
    "#Exercise Q2 Age Finder\n",
    "def age_find(l):\n",
    "    ages_list = []\n",
    "    from datetime import date\n",
    "    today = date.today()\n",
    "    curret_year = today.year\n",
    "    for year in l:\n",
    "        ages_list.append(curret_year - year)\n",
    "        \n",
    "    return (ages_list)\n",
    "\n",
    "print(age_find([1999, 1995, 2005, 2010, 2007, 2006, 1994, 1996, 1979, 2008, 2010]))\n"
   ]
  },
  {
   "cell_type": "code",
   "execution_count": 103,
   "metadata": {},
   "outputs": [
    {
     "name": "stdout",
     "output_type": "stream",
     "text": [
      "[24, 28, 18, 13, 16, 17, 29, 27, 44, 15, 13]\n",
      "[2273, 2323]\n"
     ]
    }
   ],
   "source": [
    "#Exercise Q1 Age Finder\n",
    "def age_find(l):\n",
    "    ages_list = []\n",
    "    from datetime import date\n",
    "    today = date.today()\n",
    "    curret_year = today.year\n",
    "    for year in l:\n",
    "        ages_list.append(curret_year - year)\n",
    "    return (ages_list)\n",
    "\n",
    "\n",
    "print(age_find([1999, 1995, 2005, 2010, 2007, 2006, 1994, 1996, 1979, 2008, 2010]))\n",
    "print(age_find([-250,-300]))"
   ]
  },
  {
   "cell_type": "code",
   "execution_count": 109,
   "metadata": {},
   "outputs": [
    {
     "name": "stdout",
     "output_type": "stream",
     "text": [
      "welcome, Mohammed\n",
      "welcome, Rene\n",
      "welcome, Antonia\n",
      "welcome, Fariha\n",
      "welcome, Stefan\n",
      "welcome, Konstantin\n"
     ]
    }
   ],
   "source": [
    "#Exercise using function to welcome students\n",
    "student_list = [\"Mohammed\", \"Rene\", \"Antonia\", \"Fariha\", \"Stefan\", \"Konstantin\"]\n",
    "\n",
    "def welcoming(student_list):\n",
    "    return('welcome, ' + student_list)\n",
    "\n",
    "for student in student_list:\n",
    "    print(welcoming(student))"
   ]
  },
  {
   "cell_type": "code",
   "execution_count": 195,
   "metadata": {},
   "outputs": [
    {
     "name": "stdout",
     "output_type": "stream",
     "text": [
      "Henk and is 13 years old and his eyes are green.\n",
      "John and is 15 years old and his eyes are green.\n",
      "Max and is 19 years old and his eyes are brown.\n",
      "Bob and is 11 years old and his eyes are blue.\n"
     ]
    }
   ],
   "source": [
    "#Exercise using a function to convert the dictionary into sentences\n",
    "customer_name = [{'name': 'Henk', 'age' : '13', 'eyes' : 'green'}, \n",
    "                {'name':'John', 'age' : '15', 'eyes' : 'green'}, \n",
    "                {'name':'Max', 'age' : '19', 'eyes' : 'brown'}, \n",
    "                {'name':'Bob', 'age' : '11', 'eyes' : 'blue'}\n",
    "                ]\n",
    "\n",
    "def my_function(kid):\n",
    "  return(kid['name'] + \" and is \" + kid['age'] + \" years old and his eyes are \" + kid['eyes'] + \".\")\n",
    "\n",
    "for children in customer_name:\n",
    "    print(my_function(children))"
   ]
  },
  {
   "cell_type": "code",
   "execution_count": 70,
   "metadata": {},
   "outputs": [
    {
     "name": "stdout",
     "output_type": "stream",
     "text": [
      "Tobias and is 12 years old and his last name is Refsnes\n",
      "Tobias and is 11 years old and his last name is Hanks\n"
     ]
    }
   ],
   "source": [
    "#Exercise using a function to complete the sentence\n",
    "def my_function(**kid):\n",
    "  print(kid[\"fname\"] + \" and is \" + kid[\"age\"] + \" years old and his last name is \" + kid[\"lname\"])\n",
    "\n",
    "my_function(fname = \"Tobias\", lname = \"Refsnes\", age = \"12\")\n",
    "my_function(fname = \"Tobias\", lname = \"Hanks\", age = \"11\")"
   ]
  },
  {
   "cell_type": "code",
   "execution_count": 40,
   "metadata": {},
   "outputs": [
    {
     "name": "stdout",
     "output_type": "stream",
     "text": [
      "Henk is 13 years old and has green eyes.\n",
      "John is 15 years old and has green eyes.\n",
      "Max is 19 years old and has brown eyes.\n",
      "Bob is 11 years old and has blue eyes.\n"
     ]
    }
   ],
   "source": [
    "#Exerise Name of Customer\n",
    "\n",
    "customer_name = [{'name': 'Henk', 'age' : 13, 'eyes' : 'green'}, \n",
    "                {'name':'John', 'age' : 15, 'eyes' : 'green'}, \n",
    "                {'name':'Max', 'age' : 19, 'eyes' : 'brown'}, \n",
    "                {'name':'Bob', 'age' : 11, 'eyes' : 'blue'}]\n",
    "\n",
    "for x in customer_name:\n",
    "    print(x['name'], 'is', x['age'], 'years old and has', x['eyes'], 'eyes.')"
   ]
  },
  {
   "cell_type": "code",
   "execution_count": null,
   "metadata": {},
   "outputs": [],
   "source": [
    "#Exercise Age Finder\n",
    "from datetime import date\n",
    "year_list = [1999, 1995, 2005, 2010, 2007, 2006, 1994, 1996, 1979, 2008]\n",
    "today = date.today()\n",
    "curret_year = today.year\n",
    "year_list.sort()\n",
    "year_list.reverse()\n",
    "\n",
    "year_list.remove(year_list[0])\n",
    "year_list.remove(year_list[-1])\n",
    "\n",
    "for year in year_list:\n",
    "    print(curret_year - year)\n",
    "\n"
   ]
  },
  {
   "cell_type": "code",
   "execution_count": 16,
   "metadata": {},
   "outputs": [
    {
     "name": "stdout",
     "output_type": "stream",
     "text": [
      "my favorite food is ice cream!\n"
     ]
    }
   ],
   "source": [
    "#favourite food\n",
    "favourite_food = 'ice cream!'\n",
    "print('my favorite food is', favourite_food)"
   ]
  },
  {
   "cell_type": "code",
   "execution_count": 194,
   "metadata": {},
   "outputs": [
    {
     "name": "stdout",
     "output_type": "stream",
     "text": [
      "Enter your name:\n",
      "Hello, Ted\n"
     ]
    }
   ],
   "source": [
    "#3 Hello X\n",
    "print(\"Enter your name:\")\n",
    "x = input()\n",
    "print(\"Hello, \" + x)"
   ]
  },
  {
   "cell_type": "code",
   "execution_count": 153,
   "metadata": {},
   "outputs": [
    {
     "name": "stdout",
     "output_type": "stream",
     "text": [
      "{'fname': 'John', 'lname': 'Smith', 'age': '20', 'gender': 'male', 'eyes': 'blue'}\n"
     ]
    }
   ],
   "source": [
    "#YT training exercise\n",
    "\n",
    "patient_list = {'fname' : 'John', 'lname' : 'Smith', 'age' : '20', 'gender' : 'male', 'eyes' : 'blue'}\n",
    "print(patient_list)"
   ]
  },
  {
   "cell_type": "code",
   "execution_count": 163,
   "metadata": {},
   "outputs": [
    {
     "name": "stdout",
     "output_type": "stream",
     "text": [
      "12.3\n"
     ]
    }
   ],
   "source": [
    "#YT training exercise 2\n",
    "a = float(input())\n",
    "b = float(input())\n",
    "\n",
    "sum = a + b\n",
    "\n",
    "print(sum)"
   ]
  },
  {
   "cell_type": "code",
   "execution_count": 196,
   "metadata": {},
   "outputs": [
    {
     "name": "stdout",
     "output_type": "stream",
     "text": [
      "The letter ' f ' is letter number  17 .\n",
      "True\n"
     ]
    }
   ],
   "source": [
    "# finding the letter\n",
    "course = \"The quick brown fox jumps over the lazy dog.\"\n",
    "a = input()\n",
    "b = course.find(a) + 1\n",
    "\n",
    "print(\"The letter '\" , a , \"' is letter number \" , b ,\".\")\n",
    "print(\"fox\" in course)"
   ]
  }
 ],
 "metadata": {
  "kernelspec": {
   "display_name": "base",
   "language": "python",
   "name": "python3"
  },
  "language_info": {
   "codemirror_mode": {
    "name": "ipython",
    "version": 3
   },
   "file_extension": ".py",
   "mimetype": "text/x-python",
   "name": "python",
   "nbconvert_exporter": "python",
   "pygments_lexer": "ipython3",
   "version": "3.9.13"
  },
  "orig_nbformat": 4,
  "vscode": {
   "interpreter": {
    "hash": "88b75450182d6b070b1f43a42e975dbe9eb76cfef497b1218ec66ccf28187bdd"
   }
  }
 },
 "nbformat": 4,
 "nbformat_minor": 2
}
