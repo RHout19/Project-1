{
 "cells": [
  {
   "cell_type": "code",
   "execution_count": 40,
   "metadata": {},
   "outputs": [
    {
     "name": "stdout",
     "output_type": "stream",
     "text": [
      "Henk is 13 years old and has green eyes.\n",
      "John is 15 years old and has green eyes.\n",
      "Max is 19 years old and has brown eyes.\n",
      "Bob is 11 years old and has blue eyes.\n"
     ]
    }
   ],
   "source": [
    "#Exerise Name of Customer\n",
    "\n",
    "customer_name = [{'name': 'Henk', 'age' : 13, 'eyes' : 'green'}, \n",
    "                {'name':'John', 'age' : 15, 'eyes' : 'green'}, \n",
    "                {'name':'Max', 'age' : 19, 'eyes' : 'brown'}, \n",
    "                {'name':'Bob', 'age' : 11, 'eyes' : 'blue'}]\n",
    "\n",
    "for x in customer_name:\n",
    "    print(x['name'], 'is', x['age'], 'years old and has', x['eyes'], 'eyes.')"
   ]
  },
  {
   "cell_type": "code",
   "execution_count": null,
   "metadata": {},
   "outputs": [],
   "source": [
    "#Exercise Age Finder\n",
    "from datetime import date\n",
    "year_list = [1999, 1995, 2005, 2010, 2007, 2006, 1994, 1996, 1979, 2008]\n",
    "today = date.today()\n",
    "curret_year = today.year\n",
    "year_list.sort()\n",
    "year_list.reverse()\n",
    "\n",
    "year_list.remove(year_list[0])\n",
    "year_list.remove(year_list[-1])\n",
    "\n",
    "for year in year_list:\n",
    "    print(curret_year - year)\n",
    "\n"
   ]
  },
  {
   "cell_type": "code",
   "execution_count": 16,
   "metadata": {},
   "outputs": [
    {
     "name": "stdout",
     "output_type": "stream",
     "text": [
      "my favorite food is ice cream!\n"
     ]
    }
   ],
   "source": [
    "#favourite food\n",
    "favourite_food = 'ice cream!'\n",
    "print('my favorite food is', favourite_food)"
   ]
  },
  {
   "cell_type": "code",
   "execution_count": 18,
   "metadata": {},
   "outputs": [
    {
     "name": "stdout",
     "output_type": "stream",
     "text": [
      "Enter your name:\n",
      "Hello, Henk\n"
     ]
    }
   ],
   "source": [
    "#3 Hello X\n",
    "print(\"Enter your name:\")\n",
    "x = input()\n",
    "print(\"Hello, \" + x)"
   ]
  },
  {
   "cell_type": "code",
   "execution_count": null,
   "metadata": {},
   "outputs": [],
   "source": [
    "print('hello')"
   ]
  }
 ],
 "metadata": {
  "kernelspec": {
   "display_name": "base",
   "language": "python",
   "name": "python3"
  },
  "language_info": {
   "codemirror_mode": {
    "name": "ipython",
    "version": 3
   },
   "file_extension": ".py",
   "mimetype": "text/x-python",
   "name": "python",
   "nbconvert_exporter": "python",
   "pygments_lexer": "ipython3",
   "version": "3.9.13"
  },
  "orig_nbformat": 4,
  "vscode": {
   "interpreter": {
    "hash": "88b75450182d6b070b1f43a42e975dbe9eb76cfef497b1218ec66ccf28187bdd"
   }
  }
 },
 "nbformat": 4,
 "nbformat_minor": 2
}
