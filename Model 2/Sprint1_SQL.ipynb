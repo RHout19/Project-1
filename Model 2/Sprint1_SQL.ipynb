{
 "cells": [
  {
   "attachments": {},
   "cell_type": "markdown",
   "metadata": {},
   "source": [
    "# Importing Data"
   ]
  },
  {
   "cell_type": "code",
   "execution_count": 300,
   "metadata": {},
   "outputs": [],
   "source": [
    "import pandas as pd\n",
    "\n",
    "df = pd.read_csv('Sample-Superstore - Sample-Superstore.tsv', delimiter = \"\\t\")"
   ]
  },
  {
   "cell_type": "code",
   "execution_count": 301,
   "metadata": {},
   "outputs": [],
   "source": [
    "for col in df:\n",
    "    df.rename(columns={col: col.lower().replace(' ', '').replace('-', '')}, inplace=True)\n"
   ]
  },
  {
   "cell_type": "code",
   "execution_count": 340,
   "metadata": {},
   "outputs": [
    {
     "data": {
      "text/html": [
       "<div>\n",
       "<style scoped>\n",
       "    .dataframe tbody tr th:only-of-type {\n",
       "        vertical-align: middle;\n",
       "    }\n",
       "\n",
       "    .dataframe tbody tr th {\n",
       "        vertical-align: top;\n",
       "    }\n",
       "\n",
       "    .dataframe thead th {\n",
       "        text-align: right;\n",
       "    }\n",
       "</style>\n",
       "<table border=\"1\" class=\"dataframe\">\n",
       "  <thead>\n",
       "    <tr style=\"text-align: right;\">\n",
       "      <th></th>\n",
       "      <th>rowid</th>\n",
       "      <th>orderid</th>\n",
       "      <th>orderdate</th>\n",
       "      <th>shipdate</th>\n",
       "      <th>shipmode</th>\n",
       "      <th>customerid</th>\n",
       "      <th>customername</th>\n",
       "      <th>segment</th>\n",
       "      <th>country</th>\n",
       "      <th>city</th>\n",
       "      <th>...</th>\n",
       "      <th>postalcode</th>\n",
       "      <th>region</th>\n",
       "      <th>productid</th>\n",
       "      <th>category</th>\n",
       "      <th>subcategory</th>\n",
       "      <th>productname</th>\n",
       "      <th>sales</th>\n",
       "      <th>quantity</th>\n",
       "      <th>discount</th>\n",
       "      <th>profit</th>\n",
       "    </tr>\n",
       "  </thead>\n",
       "  <tbody>\n",
       "  </tbody>\n",
       "</table>\n",
       "<p>0 rows × 21 columns</p>\n",
       "</div>"
      ],
      "text/plain": [
       "Empty DataFrame\n",
       "Columns: [rowid, orderid, orderdate, shipdate, shipmode, customerid, customername, segment, country, city, state, postalcode, region, productid, category, subcategory, productname, sales, quantity, discount, profit]\n",
       "Index: []\n",
       "\n",
       "[0 rows x 21 columns]"
      ]
     },
     "execution_count": 340,
     "metadata": {},
     "output_type": "execute_result"
    }
   ],
   "source": [
    "df.head(0)"
   ]
  },
  {
   "cell_type": "code",
   "execution_count": 303,
   "metadata": {},
   "outputs": [],
   "source": [
    "# Select relevant columns for each table\n",
    "orders_cols = ['orderid', 'orderdate', 'shipdate', 'shipmode', 'customerid', 'productid']\n",
    "customers_cols = ['customerid', 'customername', 'segment']\n",
    "addresses_cols = ['customerid', 'country', 'city', 'state', 'postalcode', 'region']\n",
    "products_cols = ['productid', 'category', 'subcategory', 'productname']\n",
    "sales_cols = ['sales', 'orderid', 'quantity', 'productid', 'discount', 'profit']\n",
    "prices_cols = ['productid', 'orderdate']"
   ]
  },
  {
   "cell_type": "code",
   "execution_count": 304,
   "metadata": {},
   "outputs": [],
   "source": [
    "# Create new dataframes for each table\n",
    "orders = df.loc[:, orders_cols].drop_duplicates(subset='orderid', keep='first').reset_index(drop=True)\n",
    "customers = df.loc[:, customers_cols].drop_duplicates(subset='customerid', keep='first').reset_index(drop=True)\n",
    "addresses = df.loc[:, addresses_cols].drop_duplicates(subset='customerid', keep='first').reset_index(drop=True)\n",
    "products = df.loc[:, products_cols].drop_duplicates(subset='productid', keep='first').reset_index(drop=True)\n",
    "sales = df.loc[:, sales_cols].reset_index(drop=True)\n",
    "prices = df.loc[:, prices_cols].drop_duplicates(subset='productid', keep='first').reset_index(drop=True)"
   ]
  },
  {
   "cell_type": "code",
   "execution_count": 305,
   "metadata": {},
   "outputs": [
    {
     "name": "stdout",
     "output_type": "stream",
     "text": [
      "Connected to the database\n"
     ]
    }
   ],
   "source": [
    "import sqlite3\n",
    "con = sqlite3.connect(\"Sample-Superstore_01.db\")\n",
    "cur = con.cursor()\n",
    "print(\"Connected to the database\")"
   ]
  },
  {
   "cell_type": "code",
   "execution_count": 306,
   "metadata": {},
   "outputs": [
    {
     "data": {
      "text/plain": [
       "<sqlite3.Cursor at 0x2cd671f0730>"
      ]
     },
     "execution_count": 306,
     "metadata": {},
     "output_type": "execute_result"
    }
   ],
   "source": [
    "cur.execute(\"DROP TABLE IF EXISTS Customers\")\n",
    "cur.execute(\"DROP TABLE IF EXISTS Addresses\")\n",
    "cur.execute(\"DROP TABLE IF EXISTS Orders\")\n",
    "cur.execute(\"DROP TABLE IF EXISTS Products\")\n",
    "cur.execute(\"DROP TABLE IF EXISTS Sales\")\n",
    "cur.execute(\"DROP TABLE IF EXISTS Prices\")"
   ]
  },
  {
   "cell_type": "code",
   "execution_count": 307,
   "metadata": {},
   "outputs": [],
   "source": [
    "cur.executescript(\"\"\"\n",
    "CREATE TABLE Customers (\n",
    "  customerid TEXT PRIMARY KEY,\n",
    "  customername TEXT,\n",
    "  segment TEXT\n",
    ");\n",
    "\"\"\")\n",
    "\n",
    "cur.execute(\"\"\"\n",
    "CREATE TABLE Orders (\n",
    "  orderid TEXT PRIMARY KEY,\n",
    "  orderdate TEXT,\n",
    "  shipdate TEXT,\n",
    "  shipmode TEXT,\n",
    "  customerid TEXT,\n",
    "  productid TEXT,\n",
    "  FOREIGN KEY (customerid) REFERENCES Customer (customerid)\n",
    ");\n",
    "\"\"\")\n",
    "\n",
    "cur.execute(\"\"\"\n",
    "CREATE TABLE Products (\n",
    "  productid TEXT PRIMARY KEY,\n",
    "  category TEXT,\n",
    "  subcategory TEXT,\n",
    "  productname TEXT\n",
    ");\n",
    "\"\"\")\n",
    "\n",
    "cur.execute(\"\"\"\n",
    "CREATE TABLE Sales (\n",
    "  orderid TEXT,\n",
    "  productid TEXT,\n",
    "  sales FLOAT64,\n",
    "  quantity INTEGER,\n",
    "  discount FLOAT64,\n",
    "  profit FLOAT64,\n",
    "  FOREIGN KEY (orderid) REFERENCES Orders (orderid)\n",
    "  FOREIGN KEY (productid) REFERENCES \"Products\" (productid)\n",
    ");\n",
    "\"\"\")\n",
    "\n",
    "cur.execute(\"\"\"\n",
    "CREATE TABLE Addresses (\n",
    "  customerid TEXT PRIMARY KEY,\n",
    "  country TEXT,\n",
    "  city TEXT,\n",
    "  state TEXT,\n",
    "  postalcode INTEGER,\n",
    "  region TEXT,\n",
    "  FOREIGN KEY (customerid) REFERENCES Customer (customerid)\n",
    ");\n",
    "\"\"\")\n",
    "\n",
    "cur.execute(\"\"\"\n",
    "CREATE TABLE Prices (\n",
    "  productid TEXT,\n",
    "  orderdate TEXT,\n",
    "  FOREIGN KEY (productid) REFERENCES Product (productid),\n",
    "  FOREIGN KEY (orderdate) REFERENCES Orders (orderdate)\n",
    ");\n",
    "\"\"\")\n",
    "con.commit()\n"
   ]
  },
  {
   "cell_type": "code",
   "execution_count": 308,
   "metadata": {},
   "outputs": [
    {
     "name": "stdout",
     "output_type": "stream",
     "text": [
      "<class 'pandas.core.frame.DataFrame'>\n",
      "RangeIndex: 5009 entries, 0 to 5008\n",
      "Data columns (total 6 columns):\n",
      " #   Column      Non-Null Count  Dtype \n",
      "---  ------      --------------  ----- \n",
      " 0   orderid     5009 non-null   object\n",
      " 1   orderdate   5009 non-null   object\n",
      " 2   shipdate    5009 non-null   object\n",
      " 3   shipmode    5009 non-null   object\n",
      " 4   customerid  5009 non-null   object\n",
      " 5   productid   5009 non-null   object\n",
      "dtypes: object(6)\n",
      "memory usage: 234.9+ KB\n",
      "<class 'pandas.core.frame.DataFrame'>\n",
      "RangeIndex: 793 entries, 0 to 792\n",
      "Data columns (total 3 columns):\n",
      " #   Column        Non-Null Count  Dtype \n",
      "---  ------        --------------  ----- \n",
      " 0   customerid    793 non-null    object\n",
      " 1   customername  793 non-null    object\n",
      " 2   segment       793 non-null    object\n",
      "dtypes: object(3)\n",
      "memory usage: 18.7+ KB\n",
      "<class 'pandas.core.frame.DataFrame'>\n",
      "RangeIndex: 793 entries, 0 to 792\n",
      "Data columns (total 6 columns):\n",
      " #   Column      Non-Null Count  Dtype \n",
      "---  ------      --------------  ----- \n",
      " 0   customerid  793 non-null    object\n",
      " 1   country     793 non-null    object\n",
      " 2   city        793 non-null    object\n",
      " 3   state       793 non-null    object\n",
      " 4   postalcode  793 non-null    int64 \n",
      " 5   region      793 non-null    object\n",
      "dtypes: int64(1), object(5)\n",
      "memory usage: 37.3+ KB\n",
      "<class 'pandas.core.frame.DataFrame'>\n",
      "RangeIndex: 1862 entries, 0 to 1861\n",
      "Data columns (total 4 columns):\n",
      " #   Column       Non-Null Count  Dtype \n",
      "---  ------       --------------  ----- \n",
      " 0   productid    1862 non-null   object\n",
      " 1   category     1862 non-null   object\n",
      " 2   subcategory  1862 non-null   object\n",
      " 3   productname  1862 non-null   object\n",
      "dtypes: object(4)\n",
      "memory usage: 58.3+ KB\n",
      "<class 'pandas.core.frame.DataFrame'>\n",
      "RangeIndex: 9994 entries, 0 to 9993\n",
      "Data columns (total 6 columns):\n",
      " #   Column     Non-Null Count  Dtype  \n",
      "---  ------     --------------  -----  \n",
      " 0   sales      9994 non-null   float64\n",
      " 1   orderid    9994 non-null   object \n",
      " 2   quantity   9994 non-null   int64  \n",
      " 3   productid  9994 non-null   object \n",
      " 4   discount   9994 non-null   float64\n",
      " 5   profit     9994 non-null   float64\n",
      "dtypes: float64(3), int64(1), object(2)\n",
      "memory usage: 468.6+ KB\n",
      "<class 'pandas.core.frame.DataFrame'>\n",
      "RangeIndex: 1862 entries, 0 to 1861\n",
      "Data columns (total 2 columns):\n",
      " #   Column     Non-Null Count  Dtype \n",
      "---  ------     --------------  ----- \n",
      " 0   productid  1862 non-null   object\n",
      " 1   orderdate  1862 non-null   object\n",
      "dtypes: object(2)\n",
      "memory usage: 29.2+ KB\n"
     ]
    }
   ],
   "source": [
    "orders.info()\n",
    "customers.info()\n",
    "addresses.info()\n",
    "products.info()\n",
    "sales.info()\n",
    "prices.info()"
   ]
  },
  {
   "cell_type": "code",
   "execution_count": 309,
   "metadata": {},
   "outputs": [
    {
     "data": {
      "text/html": [
       "<div>\n",
       "<style scoped>\n",
       "    .dataframe tbody tr th:only-of-type {\n",
       "        vertical-align: middle;\n",
       "    }\n",
       "\n",
       "    .dataframe tbody tr th {\n",
       "        vertical-align: top;\n",
       "    }\n",
       "\n",
       "    .dataframe thead th {\n",
       "        text-align: right;\n",
       "    }\n",
       "</style>\n",
       "<table border=\"1\" class=\"dataframe\">\n",
       "  <thead>\n",
       "    <tr style=\"text-align: right;\">\n",
       "      <th></th>\n",
       "      <th>sales</th>\n",
       "      <th>orderid</th>\n",
       "      <th>quantity</th>\n",
       "      <th>productid</th>\n",
       "      <th>discount</th>\n",
       "      <th>profit</th>\n",
       "    </tr>\n",
       "  </thead>\n",
       "  <tbody>\n",
       "    <tr>\n",
       "      <th>0</th>\n",
       "      <td>261.9600</td>\n",
       "      <td>CA-2016-152156</td>\n",
       "      <td>2</td>\n",
       "      <td>FUR-BO-10001798</td>\n",
       "      <td>0.00</td>\n",
       "      <td>41.9136</td>\n",
       "    </tr>\n",
       "    <tr>\n",
       "      <th>1</th>\n",
       "      <td>731.9400</td>\n",
       "      <td>CA-2016-152156</td>\n",
       "      <td>3</td>\n",
       "      <td>FUR-CH-10000454</td>\n",
       "      <td>0.00</td>\n",
       "      <td>219.5820</td>\n",
       "    </tr>\n",
       "    <tr>\n",
       "      <th>2</th>\n",
       "      <td>14.6200</td>\n",
       "      <td>CA-2016-138688</td>\n",
       "      <td>2</td>\n",
       "      <td>OFF-LA-10000240</td>\n",
       "      <td>0.00</td>\n",
       "      <td>6.8714</td>\n",
       "    </tr>\n",
       "    <tr>\n",
       "      <th>3</th>\n",
       "      <td>957.5775</td>\n",
       "      <td>US-2015-108966</td>\n",
       "      <td>5</td>\n",
       "      <td>FUR-TA-10000577</td>\n",
       "      <td>0.45</td>\n",
       "      <td>-383.0310</td>\n",
       "    </tr>\n",
       "    <tr>\n",
       "      <th>4</th>\n",
       "      <td>22.3680</td>\n",
       "      <td>US-2015-108966</td>\n",
       "      <td>2</td>\n",
       "      <td>OFF-ST-10000760</td>\n",
       "      <td>0.20</td>\n",
       "      <td>2.5164</td>\n",
       "    </tr>\n",
       "  </tbody>\n",
       "</table>\n",
       "</div>"
      ],
      "text/plain": [
       "      sales         orderid  quantity        productid  discount    profit\n",
       "0  261.9600  CA-2016-152156         2  FUR-BO-10001798      0.00   41.9136\n",
       "1  731.9400  CA-2016-152156         3  FUR-CH-10000454      0.00  219.5820\n",
       "2   14.6200  CA-2016-138688         2  OFF-LA-10000240      0.00    6.8714\n",
       "3  957.5775  US-2015-108966         5  FUR-TA-10000577      0.45 -383.0310\n",
       "4   22.3680  US-2015-108966         2  OFF-ST-10000760      0.20    2.5164"
      ]
     },
     "execution_count": 309,
     "metadata": {},
     "output_type": "execute_result"
    }
   ],
   "source": [
    "sales.head()"
   ]
  },
  {
   "cell_type": "code",
   "execution_count": 310,
   "metadata": {},
   "outputs": [
    {
     "data": {
      "text/plain": [
       "1862"
      ]
     },
     "execution_count": 310,
     "metadata": {},
     "output_type": "execute_result"
    }
   ],
   "source": [
    "orders.to_sql('Orders', con, if_exists='append', index=False)\n",
    "customers.to_sql('Customers', con, if_exists='append', index=False)\n",
    "addresses.to_sql('Addresses', con, if_exists='append', index=False)\n",
    "products.to_sql('Products', con, if_exists='append', index=False)\n",
    "sales.to_sql('Sales', con, if_exists='append', index=False)\n",
    "prices.to_sql('Prices', con, if_exists='append', index=False)"
   ]
  },
  {
   "cell_type": "code",
   "execution_count": 311,
   "metadata": {},
   "outputs": [],
   "source": [
    "def run(cmd):\n",
    "    r = cur.execute(cmd)\n",
    "    display(r.fetchall())"
   ]
  },
  {
   "cell_type": "code",
   "execution_count": 312,
   "metadata": {},
   "outputs": [],
   "source": [
    "# close the connection\n",
    "# con.close()"
   ]
  },
  {
   "attachments": {},
   "cell_type": "markdown",
   "metadata": {},
   "source": [
    "# Assignments"
   ]
  },
  {
   "attachments": {},
   "cell_type": "markdown",
   "metadata": {},
   "source": [
    "\n",
    "Are they the 3 most profitable products as well?\n",
    "What are the 3 best-seller products in each product segment? (Quantity-wise)\n",
    "\n",
    "What are the top 3 worst-selling products in every category? (Quantity-wise)\n",
    "\n",
    "How many unique customers per month are there for the year 2016. (There's a catch here: contrary to other 'heavier' RDBMS, SQLite does not support the functions YEAR() or MONTH() to extract the year or the month in a date. You will have to create two new columns: year and month.)"
   ]
  },
  {
   "attachments": {},
   "cell_type": "markdown",
   "metadata": {},
   "source": [
    "What is the product generating the maximum sales revenue?"
   ]
  },
  {
   "cell_type": "code",
   "execution_count": 326,
   "metadata": {},
   "outputs": [
    {
     "data": {
      "text/plain": [
       "[('Canon imageCLASS 2200 Advanced Copier', 61599.824)]"
      ]
     },
     "metadata": {},
     "output_type": "display_data"
    }
   ],
   "source": [
    "run(\"\"\"\n",
    "SELECT productname, SUM(sales)\n",
    "FROM Sales\n",
    "LEFT JOIN Products ON Sales.productid = Products.productid\n",
    "GROUP BY Products.productid\n",
    "ORDER BY SUM(sales) DESC LIMIT 1\n",
    ";\"\"\")"
   ]
  },
  {
   "attachments": {},
   "cell_type": "markdown",
   "metadata": {},
   "source": [
    "What is the category generating the maximum sales revenue?"
   ]
  },
  {
   "cell_type": "code",
   "execution_count": 333,
   "metadata": {},
   "outputs": [
    {
     "data": {
      "text/plain": [
       "[('Technology', 836154.0329999966)]"
      ]
     },
     "metadata": {},
     "output_type": "display_data"
    }
   ],
   "source": [
    "run(\"\"\"\n",
    "SELECT category, SUM(sales)\n",
    "FROM Sales\n",
    "LEFT JOIN Products ON Sales.productid = Products.productid\n",
    "GROUP BY Products.category\n",
    "ORDER BY SUM(sales) DESC LIMIT 1\n",
    ";\"\"\")"
   ]
  },
  {
   "attachments": {},
   "cell_type": "markdown",
   "metadata": {},
   "source": [
    "What about the profit in this category?\n"
   ]
  },
  {
   "cell_type": "code",
   "execution_count": 343,
   "metadata": {},
   "outputs": [
    {
     "data": {
      "text/plain": [
       "[('Technology', 145454.9480999999)]"
      ]
     },
     "metadata": {},
     "output_type": "display_data"
    }
   ],
   "source": [
    "run(\"\"\"\n",
    "SELECT Products.category, SUM(profit)\n",
    "FROM Sales\n",
    "LEFT JOIN Products ON Sales.productid = Products.productid\n",
    "GROUP BY Products.category\n",
    "ORDER BY SUM(sales) DESC LIMIT 1\n",
    ";\"\"\")"
   ]
  },
  {
   "attachments": {},
   "cell_type": "markdown",
   "metadata": {},
   "source": [
    "Are they making a loss in any categroies?"
   ]
  },
  {
   "cell_type": "code",
   "execution_count": 342,
   "metadata": {},
   "outputs": [
    {
     "data": {
      "text/plain": [
       "[]"
      ]
     },
     "metadata": {},
     "output_type": "display_data"
    }
   ],
   "source": [
    "run(\"\"\"\n",
    "SELECT Products.category, SUM(profit) as total_profit\n",
    "FROM Sales\n",
    "LEFT JOIN Products ON Sales.productid = Products.productid\n",
    "GROUP BY Products.category\n",
    "HAVING total_profit < 0\n",
    ";\"\"\")"
   ]
  },
  {
   "attachments": {},
   "cell_type": "markdown",
   "metadata": {},
   "source": [
    "What are 5 states generating the maximum and minimum sales revenue?"
   ]
  },
  {
   "cell_type": "code",
   "execution_count": 366,
   "metadata": {},
   "outputs": [
    {
     "data": {
      "text/plain": [
       "[('California', 59398.31250000002),\n",
       " ('New York', 58177.834100000066),\n",
       " ('Texas', 20528.91100000002),\n",
       " ('Pennsylvania', 13604.935000000007),\n",
       " ('Washington', 24405.796599999983)]"
      ]
     },
     "metadata": {},
     "output_type": "display_data"
    }
   ],
   "source": [
    "run(\"\"\"\n",
    "SELECT Addresses.state, SUM(Sales.profit)\n",
    "FROM Sales\n",
    "LEFT JOIN Orders ON Sales.orderid = Orders.orderid\n",
    "LEFT JOIN Addresses ON Orders.customerid = Addresses.customerid\n",
    "GROUP BY Addresses.state\n",
    "ORDER BY SUM(sales) DESC LIMIT 5\n",
    ";\"\"\")"
   ]
  },
  {
   "cell_type": "code",
   "execution_count": 370,
   "metadata": {},
   "outputs": [
    {
     "data": {
      "text/plain": [
       "[('Nevada', 278.06780000000003),\n",
       " ('Maryland', 436.64919999999984),\n",
       " ('Kansas', 139.20080000000002),\n",
       " ('District of Columbia', 490.95669999999996),\n",
       " ('South Dakota', 682.5541999999999)]"
      ]
     },
     "metadata": {},
     "output_type": "display_data"
    }
   ],
   "source": [
    "run(\"\"\"\n",
    "SELECT Addresses.state, SUM(Sales.profit)\n",
    "FROM Sales\n",
    "LEFT JOIN Orders ON Sales.orderid = Orders.orderid\n",
    "LEFT JOIN Addresses ON Orders.customerid = Addresses.customerid\n",
    "GROUP BY Addresses.state\n",
    "ORDER BY SUM(sales) LIMIT 5\n",
    ";\"\"\")"
   ]
  },
  {
   "attachments": {},
   "cell_type": "markdown",
   "metadata": {},
   "source": [
    "What are the 3 products in each product segment with the highest sales?"
   ]
  },
  {
   "cell_type": "code",
   "execution_count": 380,
   "metadata": {},
   "outputs": [
    {
     "data": {
      "text/plain": [
       "[('Home Office',\n",
       "  'Holmes Replacement Filter for HEPA Air Cleaner, Very Large Room, HEPA Filter'),\n",
       " ('Corporate', 'Self-Adhesive Address Labels for Typewriters by Universal'),\n",
       " ('Consumer', 'Bush Somerset Collection Bookcase')]"
      ]
     },
     "metadata": {},
     "output_type": "display_data"
    }
   ],
   "source": [
    "run(\"\"\"\n",
    "SELECT Customers.segment, Products.productname\n",
    "FROM Sales\n",
    "JOIN Orders ON Sales.orderid = Orders.orderid\n",
    "JOIN Customers ON Orders.customerid = Customers.customerid\n",
    "LEFT JOIN Products ON Sales.productid = Products.productid\n",
    "GROUP BY Customers.segment\n",
    "ORDER BY SUM(sales) LIMIT 3\n",
    ";\"\"\")"
   ]
  }
 ],
 "metadata": {
  "kernelspec": {
   "display_name": "base",
   "language": "python",
   "name": "python3"
  },
  "language_info": {
   "codemirror_mode": {
    "name": "ipython",
    "version": 3
   },
   "file_extension": ".py",
   "mimetype": "text/x-python",
   "name": "python",
   "nbconvert_exporter": "python",
   "pygments_lexer": "ipython3",
   "version": "3.9.13"
  },
  "orig_nbformat": 4
 },
 "nbformat": 4,
 "nbformat_minor": 2
}
